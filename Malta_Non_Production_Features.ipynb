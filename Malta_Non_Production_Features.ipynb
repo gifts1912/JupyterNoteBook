{
 "cells": [
  {
   "cell_type": "code",
   "execution_count": 37,
   "metadata": {
    "collapsed": true
   },
   "outputs": [],
   "source": [
    "import os\n",
    "import sys\n"
   ]
  },
  {
   "cell_type": "code",
   "execution_count": 2,
   "metadata": {
    "collapsed": true
   },
   "outputs": [
    {
     "data": {
      "text/plain": [
       "['Featrues.tsv',\n",
       " 'Featrues.tsv.gz',\n",
       " 'feiQuerySet.tsv',\n",
       " 'GenerateCoarseTypeMatchFeature',\n",
       " 'Health domain slot 160216, merged lexicon.tsv',\n",
       " 'onlineFeatures.tsv',\n",
       " 'query.tsv',\n",
       " 'Query2W.tsv',\n",
       " 'Query2WSeed.tsv',\n",
       " 'queryPassage.tsv',\n",
       " 'queryPassage_SimpleQueryPassageFeatures.tsv',\n",
       " 'querypassage_trainseed.tsv',\n",
       " 'querypassage_trainseed_label.tsv',\n",
       " 'queryWordBreaker.tsv',\n",
       " 'rawInput.tsv',\n",
       " 'StopWords.tsv',\n",
       " 'stopWordsFile.tsv',\n",
       " 'tag.gz',\n",
       " 'test.tokenreplace.txt',\n",
       " 'TLAFeatures',\n",
       " 'TLAFeatures.gz',\n",
       " 'TLAFeaturesNeed.txt',\n",
       " 'trainData.tsv',\n",
       " 'trainDataFeatures_potentialQuerySet.tsv',\n",
       " 'trainDataFreatures_online.tsv',\n",
       " 'Uncompressed_Extraction.tsv',\n",
       " 'Unigram Language Model',\n",
       " 'watch.tsv']"
      ]
     },
     "execution_count": 2,
     "metadata": {},
     "output_type": "execute_result"
    }
   ],
   "source": [
    "os.listdir(\"C:/Code/data/\")"
   ]
  },
  {
   "cell_type": "code",
   "execution_count": 6,
   "metadata": {
    "collapsed": true
   },
   "outputs": [],
   "source": [
    "fn = \"C:/Code/data/OutputTSV.tsv\""
   ]
  },
  {
   "cell_type": "code",
   "execution_count": 8,
   "metadata": {
    "collapsed": false
   },
   "outputs": [
    {
     "name": "stdout",
     "output_type": "stream",
     "text": [
      "Query\tUrl\tPassageId\tPassage\tMaxFromDocumentTranslation_Passage-Body-PassageData1201-20151206.Exp_0_0\tMaxFromDocumentTranslation_Passage-Body-PassageData1201-20151206.Exp_1_0\tMaxFromDocumentTranslation_Passage-Body-PassageData1201-20151206.Exp_2_0\tMaxFromDocumentTranslation_Passage-Body-PassageData1201-20151206.Exp_3_0\tMaxFromDocumentTranslation_Passage-Body-PassageData1201-20151206.Exp_4_0\tMaxFromDocumentTranslation_Passage-HeadingBase-PassageData1201-20151205.Exp_0_0\tMaxFromDocumentTranslation_Passage-HeadingBase-PassageData1201-20151205.Exp_1_0\tMaxFromDocumentTranslation_Passage-HeadingBase-PassageData1201-20151205.Exp_2_0\tMaxFromDocumentTranslation_Passage-HeadingBase-PassageData1201-20151205.Exp_3_0\tMaxFromDocumentTranslation_Passage-HeadingBase-PassageData1201-20151205.Exp_4_0\tMaxFromDocumentTranslation_Passage-NHeadingBase-PassageData1201-20151205.Exp_0_0\tMaxFromDocumentTranslation_Passage-NHeadingBase-PassageData1201-20151205.Exp_1_0\tMaxFromDocumentTranslation_Passage-NHeadingBase-PassageData1201-20151205.Exp_2_0\tMaxFromDocumentTranslation_Passage-NHeadingBase-PassageData1201-20151205.Exp_3_0\tMaxFromDocumentTranslation_Passage-NHeadingBase-PassageData1201-20151205.Exp_4_0\tMaxFromQueryTranslation_Passage-Body-PassageData1201-20151206.Exp_0_0\tMaxFromQueryTranslation_Passage-Body-PassageData1201-20151206.Exp_1_0\tMaxFromQueryTranslation_Passage-Body-PassageData1201-20151206.Exp_2_0\tMaxFromQueryTranslation_Passage-Body-PassageData1201-20151206.Exp_3_0\tMaxFromQueryTranslation_Passage-Body-PassageData1201-20151206.Exp_4_0\tMaxFromQueryTranslation_Passage-HeadingBase-PassageData1201-20151205.Exp_0_0\tMaxFromQueryTranslation_Passage-HeadingBase-PassageData1201-20151205.Exp_1_0\tMaxFromQueryTranslation_Passage-HeadingBase-PassageData1201-20151205.Exp_2_0\tMaxFromQueryTranslation_Passage-HeadingBase-PassageData1201-20151205.Exp_3_0\tMaxFromQueryTranslation_Passage-HeadingBase-PassageData1201-20151205.Exp_4_0\tMaxFromQueryTranslation_Passage-NHeadingBase-PassageData1201-20151205.Exp_0_0\tMaxFromQueryTranslation_Passage-NHeadingBase-PassageData1201-20151205.Exp_1_0\tMaxFromQueryTranslation_Passage-NHeadingBase-PassageData1201-20151205.Exp_2_0\tMaxFromQueryTranslation_Passage-NHeadingBase-PassageData1201-20151205.Exp_3_0\tMaxFromQueryTranslation_Passage-NHeadingBase-PassageData1201-20151205.Exp_4_0\tMaxFromQueryTranslation_Passage-Body-PassageData1201-20151206.Exp_0_1\tMaxFromQueryTranslation_Passage-HeadingBase-PassageData1201-20151205.Exp_0_1\tMaxFromQueryTranslation_Passage-NHeadingBase-PassageData1201-20151205.Exp_0_1\tMaxFromQueryTranslation_Passage-Body-PassageData1201-20151206.Exp_1_1\tMaxFromQueryTranslation_Passage-HeadingBase-PassageData1201-20151205.Exp_1_1\tMaxFromQueryTranslation_Passage-NHeadingBase-PassageData1201-20151205.Exp_1_1\tMaxFromQueryTranslation_Passage-Body-PassageData1201-20151206.Exp_2_1\tMaxFromQueryTranslation_Passage-HeadingBase-PassageData1201-20151205.Exp_2_1\tMaxFromQueryTranslation_Passage-NHeadingBase-PassageData1201-20151205.Exp_2_1\tMaxFromQueryTranslation_Passage-Body-PassageData1201-20151206.Exp_3_1\tMaxFromQueryTranslation_Passage-HeadingBase-PassageData1201-20151205.Exp_3_1\tMaxFromQueryTranslation_Passage-NHeadingBase-PassageData1201-20151205.Exp_3_1\tMaxFromQueryTranslation_Passage-HeadingBase-PassageData1201-20151205.Exp_4_1\tMaxFromQueryTranslation_Passage-NHeadingBase-PassageData1201-20151205.Exp_4_1\tMaxFromQueryTranslation_Passage-Body-PassageData1201-20151206.Exp_4_1\tMaxFromDocumentTranslation_Passage-Body-PassageData1201-20151206.Exp_0_1\tMaxFromDocumentTranslation_Passage-HeadingBase-PassageData1201-20151205.Exp_0_1\tMaxFromDocumentTranslation_Passage-NHeadingBase-PassageData1201-20151205.Exp_0_1\tMaxFromDocumentTranslation_Passage-Body-PassageData1201-20151206.Exp_1_1\tMaxFromDocumentTranslation_Passage-HeadingBase-PassageData1201-20151205.Exp_1_1\tMaxFromDocumentTranslation_Passage-NHeadingBase-PassageData1201-20151205.Exp_1_1\tMaxFromDocumentTranslation_Passage-Body-PassageData1201-20151206.Exp_2_1\tMaxFromDocumentTranslation_Passage-HeadingBase-PassageData1201-20151205.Exp_2_1\tMaxFromDocumentTranslation_Passage-NHeadingBase-PassageData1201-20151205.Exp_2_1\tMaxFromDocumentTranslation_Passage-Body-PassageData1201-20151206.Exp_3_1\tMaxFromDocumentTranslation_Passage-HeadingBase-PassageData1201-20151205.Exp_3_1\tMaxFromDocumentTranslation_Passage-NHeadingBase-PassageData1201-20151205.Exp_3_1\tMaxFromDocumentTranslation_Passage-HeadingBase-PassageData1201-20151205.Exp_4_1\tMaxFromDocumentTranslation_Passage-NHeadingBase-PassageData1201-20151205.Exp_4_1\tMaxFromDocumentTranslation_Passage-Body-PassageData1201-20151206.Exp_4_1\tMaxFromQueryTranslation_Passage-Body-PassageData1201-20151206.Exp_0_2\tMaxFromQueryTranslation_Passage-HeadingBase-PassageData1201-20151205.Exp_0_2\tMaxFromQueryTranslation_Passage-NHeadingBase-PassageData1201-20151205.Exp_0_2\tMaxFromQueryTranslation_Passage-Body-PassageData1201-20151206.Exp_1_2\tMaxFromQueryTranslation_Passage-HeadingBase-PassageData1201-20151205.Exp_1_2\tMaxFromQueryTranslation_Passage-NHeadingBase-PassageData1201-20151205.Exp_1_2\tMaxFromQueryTranslation_Passage-Body-PassageData1201-20151206.Exp_2_2\tMaxFromQueryTranslation_Passage-HeadingBase-PassageData1201-20151205.Exp_2_2\tMaxFromQueryTranslation_Passage-NHeadingBase-PassageData1201-20151205.Exp_2_2\tMaxFromQueryTranslation_Passage-Body-PassageData1201-20151206.Exp_3_2\tMaxFromQueryTranslation_Passage-HeadingBase-PassageData1201-20151205.Exp_3_2\tMaxFromQueryTranslation_Passage-NHeadingBase-PassageData1201-20151205.Exp_3_2\tMaxFromQueryTranslation_Passage-HeadingBase-PassageData1201-20151205.Exp_4_2\tMaxFromQueryTranslation_Passage-NHeadingBase-PassageData1201-20151205.Exp_4_2\tMaxFromQueryTranslation_Passage-Body-PassageData1201-20151206.Exp_4_2\tMaxFromDocumentTranslation_Passage-Body-PassageData1201-20151206.Exp_0_2\tMaxFromDocumentTranslation_Passage-HeadingBase-PassageData1201-20151205.Exp_0_2\tMaxFromDocumentTranslation_Passage-NHeadingBase-PassageData1201-20151205.Exp_0_2\tMaxFromDocumentTranslation_Passage-Body-PassageData1201-20151206.Exp_1_2\tMaxFromDocumentTranslation_Passage-HeadingBase-PassageData1201-20151205.Exp_1_2\tMaxFromDocumentTranslation_Passage-NHeadingBase-PassageData1201-20151205.Exp_1_2\tMaxFromDocumentTranslation_Passage-Body-PassageData1201-20151206.Exp_2_2\tMaxFromDocumentTranslation_Passage-HeadingBase-PassageData1201-20151205.Exp_2_2\tMaxFromDocumentTranslation_Passage-NHeadingBase-PassageData1201-20151205.Exp_2_2\tMaxFromDocumentTranslation_Passage-Body-PassageData1201-20151206.Exp_3_2\tMaxFromDocumentTranslation_Passage-HeadingBase-PassageData1201-20151205.Exp_3_2\tMaxFromDocumentTranslation_Passage-NHeadingBase-PassageData1201-20151205.Exp_3_2\tMaxFromDocumentTranslation_Passage-HeadingBase-PassageData1201-20151205.Exp_4_2\tMaxFromDocumentTranslation_Passage-NHeadingBase-PassageData1201-20151205.Exp_4_2\tMaxFromDocumentTranslation_Passage-Body-PassageData1201-20151206.Exp_4_2\tMaxFromQueryTranslation_Passage-Body-PassageData1201-20151206.Exp_0_4\tMaxFromQueryTranslation_Passage-HeadingBase-PassageData1201-20151205.Exp_0_4\tMaxFromQueryTranslation_Passage-NHeadingBase-PassageData1201-20151205.Exp_0_4\tMaxFromQueryTranslation_Passage-Body-PassageData1201-20151206.Exp_1_4\tMaxFromQueryTranslation_Passage-HeadingBase-PassageData1201-20151205.Exp_1_4\tMaxFromQueryTranslation_Passage-NHeadingBase-PassageData1201-20151205.Exp_1_4\tMaxFromQueryTranslation_Passage-Body-PassageData1201-20151206.Exp_2_4\tMaxFromQueryTranslation_Passage-HeadingBase-PassageData1201-20151205.Exp_2_4\tMaxFromQueryTranslation_Passage-NHeadingBase-PassageData1201-20151205.Exp_2_4\tMaxFromQueryTranslation_Passage-Body-PassageData1201-20151206.Exp_3_4\tMaxFromQueryTranslation_Passage-HeadingBase-PassageData1201-20151205.Exp_3_4\tMaxFromQueryTranslation_Passage-NHeadingBase-PassageData1201-20151205.Exp_3_4\tMaxFromQueryTranslation_Passage-HeadingBase-PassageData1201-20151205.Exp_4_4\tMaxFromQueryTranslation_Passage-NHeadingBase-PassageData1201-20151205.Exp_4_4\tMaxFromQueryTranslation_Passage-Body-PassageData1201-20151206.Exp_4_4\tMaxFromDocumentTranslation_Passage-Body-PassageData1201-20151206.Exp_0_4\tMaxFromDocumentTranslation_Passage-HeadingBase-PassageData1201-20151205.Exp_0_4\tMaxFromDocumentTranslation_Passage-NHeadingBase-PassageData1201-20151205.Exp_0_4\tMaxFromDocumentTranslation_Passage-Body-PassageData1201-20151206.Exp_1_4\tMaxFromDocumentTranslation_Passage-HeadingBase-PassageData1201-20151205.Exp_1_4\tMaxFromDocumentTranslation_Passage-NHeadingBase-PassageData1201-20151205.Exp_1_4\tMaxFromDocumentTranslation_Passage-Body-PassageData1201-20151206.Exp_2_4\tMaxFromDocumentTranslation_Passage-HeadingBase-PassageData1201-20151205.Exp_2_4\tMaxFromDocumentTranslation_Passage-NHeadingBase-PassageData1201-20151205.Exp_2_4\tMaxFromDocumentTranslation_Passage-Body-PassageData1201-20151206.Exp_3_4\tMaxFromDocumentTranslation_Passage-HeadingBase-PassageData1201-20151205.Exp_3_4\tMaxFromDocumentTranslation_Passage-NHeadingBase-PassageData1201-20151205.Exp_3_4\tMaxFromDocumentTranslation_Passage-HeadingBase-PassageData1201-20151205.Exp_4_4\tMaxFromDocumentTranslation_Passage-NHeadingBase-PassageData1201-20151205.Exp_4_4\tMaxFromDocumentTranslation_Passage-Body-PassageData1201-20151206.Exp_4_4\tMaxFromQueryTranslation_Passage-Body-PassageData1201-20151206.Exp_0_5\tMaxFromQueryTranslation_Passage-HeadingBase-PassageData1201-20151205.Exp_0_5\tMaxFromQueryTranslation_Passage-NHeadingBase-PassageData1201-20151205.Exp_0_5\tMaxFromQueryTranslation_Passage-Body-PassageData1201-20151206.Exp_1_5\tMaxFromQueryTranslation_Passage-HeadingBase-PassageData1201-20151205.Exp_1_5\tMaxFromQueryTranslation_Passage-NHeadingBase-PassageData1201-20151205.Exp_1_5\tMaxFromQueryTranslation_Passage-Body-PassageData1201-20151206.Exp_2_5\tMaxFromQueryTranslation_Passage-HeadingBase-PassageData1201-20151205.Exp_2_5\tMaxFromQueryTranslation_Passage-NHeadingBase-PassageData1201-20151205.Exp_2_5\tMaxFromQueryTranslation_Passage-Body-PassageData1201-20151206.Exp_3_5\tMaxFromQueryTranslation_Passage-HeadingBase-PassageData1201-20151205.Exp_3_5\tMaxFromQueryTranslation_Passage-NHeadingBase-PassageData1201-20151205.Exp_3_5\tMaxFromQueryTranslation_Passage-HeadingBase-PassageData1201-20151205.Exp_4_5\tMaxFromQueryTranslation_Passage-NHeadingBase-PassageData1201-20151205.Exp_4_5\tMaxFromQueryTranslation_Passage-Body-PassageData1201-20151206.Exp_4_5\tMaxFromDocumentTranslation_Passage-Body-PassageData1201-20151206.Exp_0_5\tMaxFromDocumentTranslation_Passage-HeadingBase-PassageData1201-20151205.Exp_0_5\tMaxFromDocumentTranslation_Passage-NHeadingBase-PassageData1201-20151205.Exp_0_5\tMaxFromDocumentTranslation_Passage-Body-PassageData1201-20151206.Exp_1_5\tMaxFromDocumentTranslation_Passage-HeadingBase-PassageData1201-20151205.Exp_1_5\tMaxFromDocumentTranslation_Passage-NHeadingBase-PassageData1201-20151205.Exp_1_5\tMaxFromDocumentTranslation_Passage-Body-PassageData1201-20151206.Exp_2_5\tMaxFromDocumentTranslation_Passage-HeadingBase-PassageData1201-20151205.Exp_2_5\tMaxFromDocumentTranslation_Passage-NHeadingBase-PassageData1201-20151205.Exp_2_5\tMaxFromDocumentTranslation_Passage-Body-PassageData1201-20151206.Exp_3_5\tMaxFromDocumentTranslation_Passage-HeadingBase-PassageData1201-20151205.Exp_3_5\tMaxFromDocumentTranslation_Passage-NHeadingBase-PassageData1201-20151205.Exp_3_5\tMaxFromDocumentTranslation_Passage-HeadingBase-PassageData1201-20151205.Exp_4_5\tMaxFromDocumentTranslation_Passage-NHeadingBase-PassageData1201-20151205.Exp_4_5\tMaxFromDocumentTranslation_Passage-Body-PassageData1201-20151206.Exp_4_5\tMaxLocalTranslationToQuery_Passage-Body-PassageData1201-20151206.Exp_3\tMaxLocalTranslationFromQuery_Passage-NHeadingBase-PassageData1201-20151205.Exp_3\tMaxLocalTranslationToQuery_Passage-HeadingBase-PassageData1201-20151205.Exp_3\tMaxLocalTranslationFromQuery_Passage-Body-PassageData1201-20151206.Exp_3\tMaxLocalTranslationToQuery_Passage-NHeadingBase-PassageData1201-20151205.Exp_3\tMaxLocalTranslationFromQuery_Passage-HeadingBase-PassageData1201-20151205.Exp_3\tNumberOfTotalStreamOccurrences_Passage-HeadingBase-PassageData1201-20151205.Exp\tNumberOfTotalStreamOccurrences_Passage-NHeadingBase-PassageData1201-20151205.Exp\tNumberOfTotalStreamOccurrences_Passage-Body-PassageData1201-20151206.Exp\tNumberOfCompleteMatches_Passage-Body-PassageData1201-20151206.Exp\tNumberOfCompleteMatches_Passage-HeadingBase-PassageData1201-20151205.Exp\tNumberOfCompleteMatches_Passage-NHeadingBase-PassageData1201-20151205.Exp\tNumberOfExactPhrases_Passage-Body-PassageData1201-20151206.Exp\tNumberOfExactPhrases_Passage-HeadingBase-PassageData1201-20151205.Exp\tNumberOfExactPhrases_Passage-NHeadingBase-PassageData1201-20151205.Exp\tNumberOfPerfectMatches_Passage-Body-PassageData1201-20151206.Exp\tNumberOfPerfectMatches_Passage-HeadingBase-PassageData1201-20151205.Exp\tNumberOfPerfectMatches_Passage-NHeadingBase-PassageData1201-20151205.Exp\tNumberOfUniqueQueryTerms_Passage-Body-PassageData1201-20151206.Exp\tNumberOfUniqueQueryTerms_Passage-HeadingBase-PassageData1201-20151205.Exp\tNumberOfUniqueQueryTerms_Passage-NHeadingBase-PassageData1201-20151205.Exp\tParentDocumentDRScore\tParentDocumentPosition\tPassageMetaword_Passage-Body-PassageData1201-20151206.Exp_Injected.MDM788.30.PLF11\tPassageMetaword_Passage-Body-PassageData1201-20151206.Exp_Injected.MDM788.30.PLF12\tPassageMetaword_Passage-Body-PassageData1201-20151206.Exp_Injected.MDM788.30.PLF13\tPassageMetaword_Passage-Body-PassageData1201-20151206.Exp_Injected.MDM788.30.PLF14\tPassageMetaword_Passage-Body-PassageData1201-20151206.Exp_Injected.MDM788.30.PLF15\tPassageMetaword_Passage-Body-PassageData1201-20151206.Exp_Injected.MDM788.30.PLF16\tPassageMetaword_Passage-Body-PassageData1201-20151206.Exp_Injected.MDM788.30.PLF17\tPassageMetaword_Passage-Body-PassageData1201-20151206.Exp_Injected.MDM788.30.PLF18\tPassageMetaword_Passage-Body-PassageData1201-20151206.Exp_Injected.MDM788.30.PLF19\tPassageMetaword_Passage-Body-PassageData1201-20151206.Exp_Injected.MDM788.30.PLF20\tPassageMetaword_Passage-Body-PassageData1201-20151206.Exp_Injected.MDM788.30.PLF21\tPassageMetaword_Passage-Body-PassageData1201-20151206.Exp_Injected.MDM789.14.PLF42\tPassageMetaword_Passage-Body-PassageData1201-20151206.Exp_Injected.MDM789.17.PLF39\tPassageMetaword_Passage-Body-PassageData1201-20151206.Exp_Injected.MDM789.19.PLF41\tPassageMetaword_Passage-Body-PassageData1201-20151206.Exp_Injected.MDM789.20.PLF38\tPassageMetaword_Passage-Body-PassageData1201-20151206.Exp_Injected.MDM789.22.PLF40\tPassageMetaword_Passage-Body-PassageData1201-20151206.Exp_Injected.MDM789.23.PLF37\tPassageMetaword_Passage-Body-PassageData1201-20151206.Exp_Injected.MDM789.24.PLF36\tPassageMetaword_Passage-Body-PassageData1201-20151206.Exp_Injected.MDM789.28.PLF35\tPassageMetaword_Passage-Body-PassageData1201-20151206.Exp_Injected.MDM789.30.PLF34\tPassageMetaword_Passage-Body-PassageData1201-20151206.Exp_Injected.MDM789.30.PLF43\tPassageMetaword_Passage-Body-PassageData1201-20151206.Exp_Injected.MDM790.25.PLF25\tPassageMetaword_Passage-Body-PassageData1201-20151206.Exp_Injected.MDM790.25.PLF32\tPassageMetaword_Passage-Body-PassageData1201-20151206.Exp_Injected.MDM790.26.PLF24\tPassageMetaword_Passage-Body-PassageData1201-20151206.Exp_Injected.MDM790.26.PLF30\tPassageMetaword_Passage-Body-PassageData1201-20151206.Exp_Injected.MDM790.26.PLF31\tPassageMetaword_Passage-Body-PassageData1201-20151206.Exp_Injected.MDM790.26.PLF33\tPassageMetaword_Passage-Body-PassageData1201-20151206.Exp_Injected.MDM790.29.PLF23\tPassageMetaword_Passage-Body-PassageData1201-20151206.Exp_Injected.MDM790.29.PLF27\tPassageMetaword_Passage-Body-PassageData1201-20151206.Exp_Injected.MDM790.29.PLF28\tPassageMetaword_Passage-Body-PassageData1201-20151206.Exp_Injected.MDM790.30.PLF22\tPassageMetaword_Passage-Body-PassageData1201-20151206.Exp_Injected.MDM790.30.PLF26\tPassageMetaword_Passage-Body-PassageData1201-20151206.Exp_Injected.MDM790.30.PLF29\tPassageMetaword_Passage-Body-PassageData1201-20151206.Exp_Injected.MDM791.30.PLF1\tPassageMetaword_Passage-Body-PassageData1201-20151206.Exp_Injected.MDM791.30.PLF10\tPassageMetaword_Passage-Body-PassageData1201-20151206.Exp_Injected.MDM791.30.PLF2\tPassageMetaword_Passage-Body-PassageData1201-20151206.Exp_Injected.MDM791.30.PLF3\tPassageMetaword_Passage-Body-PassageData1201-20151206.Exp_Injected.MDM791.30.PLF4\tPassageMetaword_Passage-Body-PassageData1201-20151206.Exp_Injected.MDM791.30.PLF5\tPassageMetaword_Passage-Body-PassageData1201-20151206.Exp_Injected.MDM791.30.PLF6\tPassageMetaword_Passage-Body-PassageData1201-20151206.Exp_Injected.MDM791.30.PLF7\tPassageMetaword_Passage-Body-PassageData1201-20151206.Exp_Injected.MDM791.30.PLF8\tPassageMetaword_Passage-Body-PassageData1201-20151206.Exp_Injected.MDM791.30.PLF9\tPerStreamBM25F_Passage-Body-PassageData1201-20151206.Exp\tPerStreamBM25F_Passage-HeadingBase-PassageData1201-20151205.Exp\tPerStreamBM25F_Passage-NHeadingBase-PassageData1201-20151205.Exp\tPerStreamBM25FNorm_Passage-Body-PassageData1201-20151206.Exp\tPerStreamBM25FNorm_Passage-HeadingBase-PassageData1201-20151205.Exp\tPerStreamBM25FNorm_Passage-NHeadingBase-PassageData1201-20151205.Exp\tQueryLevelFeature_2428\tQueryLevelFeature_2430\tQueryLevelFeature_2431\tQueryLevelFeature_2432\tQueryLevelFeature_2433\tQueryLevelFeature_2434\tQueryLevelFeature_2101\tQueryLevelFeature_2429\tQueryLevelFeature_2435\tTopNDocumentSnippetBM25_0\tTopNDocumentSnippetBM25_1\tTopNDocumentSnippetLanguageModel_0\tTopNDocumentSnippetLanguageModel_1\tTopNDocumentSnippetMatchWordsCount\tTopNPassageBestEntityUrlCount\tTopNPassageBestNerUrlCount\tTopNPassageBM25_0\tTopNPassageBM25_1\tTopNPassageContainsTopNer_0\tTopNPassageContainsTopNer_1\tTopNPassageContiansTopEntity_0\tTopNPassageContiansTopEntity_1\tTopNPassageCosineSimilarity\tTopNPassageExtendedEsaSimilarity\tTopNPassageLanguageModel_0\tTopNPassageLanguageModel_1\tTopNPassageMatchWordsCount\tTopNPassageTopEntityMatchCount\tTopNPassageTopNerMatchCount\tTopNPassageVoting_0_0\tTopNPassageVoting_0_1\tTopNPassageVoting_0_2\tTopNPassageVoting_0_3\tTopNPassageVoting_1_0\tTopNPassageVoting_1_1\tTopNPassageVoting_1_2\tTopNPassageVoting_1_3\tTopNPassageVoting_2_0\tTopNPassageVoting_2_1\tTopNPassageVoting_2_2\tTopNPassageVoting_2_3\tTopNTitleBM25_0\tTopNTitleBM25_1\tTopNTitleLanguageModel_0\tTopNTitleLanguageModel_1\tTopNTitleMatchWordsCount\tUnigramPassageEntityTranslation_0\tUnigramPassageEntityTranslation_1\tUnigramPassageTranslation_0\tUnigramPassageTranslation_1\tUnigramPassageTranslation_2\tUnigramPassageTranslation_3\tUnigramPassageTranslation_4\tUnigramPassageTranslation_5\tWordsFound_Passage-Body-PassageData1201-20151206.Exp\tWordsFound_Passage-HeadingBase-PassageData1201-20151205.Exp\tWordsFound_Passage-NHeadingBase-PassageData1201-20151205.Exp\tAdvancedPreferFeature_1505\tAdvancedPreferFeature_1506\tAdvancedPreferFeature_1507\tAdvancedPreferFeature_1508\tAdvancedPreferFeature_1509\tAdvancedPreferFeature_1510\tAdvancedPreferFeature_1511\tAdvancedPreferFeature_1512\tAdvancedPreferFeature_1513\tAdvancedPreferFeature_1514\tAdvancedPreferFeature_1515\tAdvancedPreferFeature_1520\tAdvancedPreferFeature_1521\tAdvancedPreferFeature_1522\tAdvancedPreferFeature_1523\tAdvancedPreferFeature_1524\tAdvancedPreferFeature_1854\tAdvancedPreferFeature_1855\tXini_60\tm_sortedPosition\tm_tlaRerankScore\n"
     ]
    }
   ],
   "source": [
    "with open(fn, 'r', encoding='utf-8') as fr:\n",
    "    for line in fr:\n",
    "        print (line.strip())\n",
    "        break\n"
   ]
  },
  {
   "cell_type": "code",
   "execution_count": 9,
   "metadata": {
    "collapsed": true
   },
   "outputs": [],
   "source": [
    "fn = \"C:/Code/data/watch.tsv\""
   ]
  },
  {
   "cell_type": "code",
   "execution_count": 10,
   "metadata": {
    "collapsed": true
   },
   "outputs": [],
   "source": [
    "fr = open(fn, 'r', encoding='utf-8')"
   ]
  },
  {
   "cell_type": "code",
   "execution_count": 36,
   "metadata": {
    "collapsed": true
   },
   "outputs": [],
   "source": [
    "import numpy as np\n",
    "import pandas as pd"
   ]
  },
  {
   "cell_type": "code",
   "execution_count": 16,
   "metadata": {
    "collapsed": false
   },
   "outputs": [],
   "source": [
    "fr.seek(0, 0)\n",
    "lines = [line.split() for line in fr.readlines()]"
   ]
  },
  {
   "cell_type": "code",
   "execution_count": 17,
   "metadata": {
    "collapsed": false
   },
   "outputs": [],
   "source": [
    "df = pd.DataFrame(lines)"
   ]
  },
  {
   "cell_type": "code",
   "execution_count": 19,
   "metadata": {
    "collapsed": false
   },
   "outputs": [
    {
     "name": "stdout",
     "output_type": "stream",
     "text": [
      "ttp://01mrmotorcycle.blogspot.com/2009/02/coincidence-did-sam-crow-inspire-name.html\t[{\"ParagraphID\":8,\"SentenceID\":1,\"StartIndex\":0,\"EndIndex\":11,\"Length\":56},{\"ParagraphID\":8,\"SentenceID\":2,\"StartIndex\":12,\"EndIndex\":31,\"Length\":79},{\"ParagraphID\":8,\"SentenceID\":3,\"StartIndex\":32,\"EndIndex\":45,\"Length\":56},{\"ParagraphID\":8,\"SentenceID\":4,\"StartIndex\":46,\"EndIndex\":61,\"Length\":68}]\n",
      "http://01mrmotorcycle.blogspot.com/2009/02/coincidence-did-sam-crow-inspire-name.html\t[{\"ParagraphID\":8,\"SentenceID\":3,\"StartIndex\":0,\"EndIndex\":13,\"Length\":56},{\"ParagraphID\":8,\"SentenceID\":4,\"StartIndex\":14,\"EndIndex\":29,\"Length\":68},{\"ParagraphID\":8,\"SentenceID\":5,\"StartIndex\":30,\"EndIndex\":36,\"Length\":32},{\"ParagraphID\":8,\"SentenceID\":6,\"StartIndex\":37,\"EndIndex\":68,\"Length\":119}]\n",
      "http://10times.com/canton-fair-phase3\tChina\n",
      "http://112657494999619313.weebly.com/4/post/2012/03/first-post.html\t[{\"ParagraphID\":5,\"SentenceID\":0,\"StartIndex\":0,\"EndIndex\":22,\"Length\":115},{\"ParagraphID\":5,\"SentenceID\":1,\"StartIndex\":23,\"EndIndex\":47,\"Length\":168}]\n",
      "http://112657494999619313.weebly.com/4/post/2012/03/first-post.html\t[{\"ParagraphID\":5,\"SentenceID\":0,\"StartIndex\":0,\"EndIndex\":22,\"Length\":115},{\"ParagraphID\":5,\"SentenceID\":1,\"StartIndex\":23,\"EndIndex\":47,\"Length\":168},{\"ParagraphID\":5,\"SentenceID\":2,\"StartIndex\":48,\"EndIndex\":56,\"Length\":47},{\"ParagraphID\":5,\"SentenceID\":3,\"StartIndex\":57,\"EndIndex\":67,\"Length\":58}]\n",
      "http://112657494999619313.weebly.com/4/post/2012/03/first-post.html\t[{\"ParagraphID\":5,\"SentenceID\":1,\"StartIndex\":0,\"EndIndex\":24,\"Length\":168},{\"ParagraphID\":5,\"SentenceID\":2,\"StartIndex\":25,\"EndIndex\":33,\"Length\":47}]\n",
      "http://112657494999619313.weebly.com/4/post/2012/03/first-post.html\t[{\"ParagraphID\":5,\"SentenceID\":1,\"StartIndex\":0,\"EndIndex\":24,\"Length\":168},{\"ParagraphID\":5,\"SentenceID\":2,\"StartIndex\":25,\"EndIndex\":33,\"Length\":47},{\"ParagraphID\":5,\"SentenceID\":3,\"StartIndex\":34,\"EndIndex\":44,\"Length\":58}]\n",
      "http://112657494999619313.weebly.com/4/post/2012/03/first-post.html\t[{\"ParagraphID\":6,\"SentenceID\":0,\"StartIndex\":0,\"EndIndex\":7,\"Length\":33},{\"ParagraphID\":6,\"SentenceID\":1,\"StartIndex\":8,\"EndIndex\":24,\"Length\":118},{\"ParagraphID\":6,\"SentenceID\":2,\"StartIndex\":25,\"EndIndex\":46,\"Length\":89}]\n",
      "http://112657494999619313.weebly.com/4/post/2012/03/first-post.html\t[{\"ParagraphID\":6,\"SentenceID\":1,\"StartIndex\":0,\"EndIndex\":16,\"Length\":118},{\"ParagraphID\":6,\"SentenceID\":2,\"StartIndex\":17,\"EndIndex\":38,\"Length\":89}]\n",
      "http://112657494999619313.weebly.com/4/post/2012/03/first-post.html\t[{\"ParagraphID\":6,\"SentenceID\":1,\"StartIndex\":0,\"EndIndex\":16,\"Length\":118},{\"ParagraphID\":6,\"SentenceID\":2,\"StartIndex\":17,\"EndIndex\":38,\"Length\":89},{\"ParagraphID\":6,\"SentenceID\":3,\"StartIndex\":39,\"EndIndex\":54,\"Length\":80}]\n",
      "http://112657494999619313.weebly.com/4/post/2012/03/first-post.html\t[{\"ParagraphID\":6,\"SentenceID\":2,\"StartIndex\":0,\"EndIndex\":21,\"Length\":89},{\"ParagraphID\":6,\"SentenceID\":3,\"StartIndex\":22,\"EndIndex\":37,\"Length\":80},{\"ParagraphID\":6,\"SentenceID\":4,\"StartIndex\":38,\"EndIndex\":46,\"Length\":51},{\"ParagraphID\":7,\"SentenceID\":0,\"StartIndex\":47,\"EndIndex\":65,\"Length\":93}]\n",
      "http://112657494999619313.weebly.com/4/post/2012/03/first-post.html\t[{\"ParagraphID\":8,\"SentenceID\":1,\"StartIndex\":0,\"EndIndex\":17,\"Length\":96},{\"ParagraphID\":8,\"SentenceID\":2,\"StartIndex\":18,\"EndIndex\":54,\"Length\":184}]\n",
      "http://112657494999619313.weebly.com/4/post/2012/03/first-post.html\t[{\"ParagraphID\":8,\"SentenceID\":2,\"StartIndex\":0,\"EndIndex\":36,\"Length\":184},{\"ParagraphID\":8,\"SentenceID\":3,\"StartIndex\":37,\"EndIndex\":57,\"Length\":102}]\n",
      "http://112657494999619313.weebly.com/4/post/2012/03/first-post.html\t[{\"ParagraphID\":8,\"SentenceID\":3,\"StartIndex\":0,\"EndIndex\":20,\"Length\":102},{\"ParagraphID\":8,\"SentenceID\":4,\"StartIndex\":21,\"EndIndex\":38,\"Length\":101},{\"ParagraphID\":9,\"SentenceID\":0,\"StartIndex\":39,\"EndIndex\":54,\"Length\":77}]\n",
      "http://1923silverdollar.com/1923_silver_dollar_value.htm\tWhat's\n",
      "http://1923silverdollar.com/1923_silver_dollar_value.htm\tWhat's\n",
      "http://1923silverdollar.com/1923_silver_dollar_value.htm\tWhat's\n",
      "http://1923silverdollar.com/1923_silver_dollar_value.htm\tWhat's\n",
      "http://1923silverdollar.com/1923_silver_dollar_value.htm\tWhat's\n",
      "http://1923silverdollar.com/1923_silver_dollar_value.htm\tWhat's\n",
      "http://1923silverdollar.com/1923_silver_dollar_value.htm\tWhat's\n",
      "http://1923silverdollar.com/1923_silver_dollar_value.htm\tWhat's\n",
      "http://1923silverdollar.com/1923_silver_dollar_value.htm\tWhat's\n",
      "http://1923silverdollar.com/1923_silver_dollar_value.htm\tWhat's\n",
      "http://1923silverdollar.com/1923_silver_dollar_value.htm\tWhat's\n",
      "http://1923silverdollar.com/1923_silver_dollar_value.htm\tWhat's\n",
      "http://1howmany.com/how-many-languages-in-the-world\tHow\n",
      "http://1howmany.com/how-many-languages-in-the-world\tHow\n",
      "http://1howmany.com/how-many-languages-in-the-world\tHow\n",
      "http://1howmany.com/how-many-languages-in-the-world\tHow\n",
      "http://1howmany.com/how-many-languages-in-the-world\tHow\n",
      "http://1howmany.com/how-many-languages-in-the-world\tHow\n",
      "http://1howmany.com/how-many-languages-in-the-world\tHow\n",
      "http://2012books.lardbucket.org/books/beginning-statistics/s06-05-the-empirical-rule-and-chebysh.html\t[{\"ParagraphID\":3,\"SentenceID\":0,\"StartIndex\":0,\"EndIndex\":10,\"Length\":58},{\"ParagraphID\":3,\"SentenceID\":1,\"StartIndex\":11,\"EndIndex\":38,\"Length\":150},{\"ParagraphID\":3,\"SentenceID\":2,\"StartIndex\":39,\"EndIndex\":55,\"Length\":88}]\n",
      "http://2012books.lardbucket.org/books/beginning-statistics/s06-05-the-empirical-rule-and-chebysh.html\t[{\"ParagraphID\":5,\"SentenceID\":1,\"StartIndex\":0,\"EndIndex\":8,\"Length\":50},{\"ParagraphID\":5,\"SentenceID\":2,\"StartIndex\":9,\"EndIndex\":59,\"Length\":208}]\n",
      "http://2012books.lardbucket.org/books/beginning-statistics/s06-05-the-empirical-rule-and-chebysh.html\t[{\"ParagraphID\":13,\"SentenceID\":0,\"StartIndex\":0,\"EndIndex\":33,\"Length\":177}]\n",
      "http://2012books.lardbucket.org/books/beginning-statistics/s06-05-the-empirical-rule-and-chebysh.html\t[{\"ParagraphID\":13,\"SentenceID\":0,\"StartIndex\":0,\"EndIndex\":33,\"Length\":177},{\"ParagraphID\":14,\"SentenceID\":0,\"StartIndex\":34,\"EndIndex\":50,\"Length\":87}]\n",
      "http://2012books.lardbucket.org/books/beginning-statistics/s06-05-the-empirical-rule-and-chebysh.html\t[{\"ParagraphID\":16,\"SentenceID\":0,\"StartIndex\":0,\"EndIndex\":2,\"Length\":18},{\"ParagraphID\":17,\"SentenceID\":0,\"StartIndex\":3,\"EndIndex\":12,\"Length\":45},{\"ParagraphID\":17,\"SentenceID\":1,\"StartIndex\":13,\"EndIndex\":31,\"Length\":90},{\"ParagraphID\":17,\"SentenceID\":2,\"StartIndex\":32,\"EndIndex\":50,\"Length\":92}]\n",
      "http://2012books.lardbucket.org/books/beginning-statistics/s06-05-the-empirical-rule-and-chebysh.html\t[{\"ParagraphID\":17,\"SentenceID\":0,\"StartIndex\":0,\"EndIndex\":9,\"Length\":45},{\"ParagraphID\":17,\"SentenceID\":1,\"StartIndex\":10,\"EndIndex\":28,\"Length\":90},{\"ParagraphID\":17,\"SentenceID\":2,\"StartIndex\":29,\"EndIndex\":47,\"Length\":92}]\n",
      "http://2012books.lardbucket.org/books/beginning-statistics/s06-05-the-empirical-rule-and-chebysh.html\t[{\"ParagraphID\":17,\"SentenceID\":1,\"StartIndex\":0,\"EndIndex\":18,\"Length\":90},{\"ParagraphID\":17,\"SentenceID\":2,\"StartIndex\":19,\"EndIndex\":37,\"Length\":92},{\"ParagraphID\":17,\"SentenceID\":3,\"StartIndex\":38,\"EndIndex\":61,\"Length\":102}]\n",
      "http://2012books.lardbucket.org/books/beginning-statistics/s06-05-the-empirical-rule-and-chebysh.html\t[{\"ParagraphID\":17,\"SentenceID\":3,\"StartIndex\":0,\"EndIndex\":23,\"Length\":102},{\"ParagraphID\":17,\"SentenceID\":4,\"StartIndex\":24,\"EndIndex\":68,\"Length\":208}]\n",
      "http://2012books.lardbucket.org/books/beginning-statistics/s06-05-the-empirical-rule-and-chebysh.html\t[{\"ParagraphID\":17,\"SentenceID\":3,\"StartIndex\":0,\"EndIndex\":23,\"Length\":102},{\"ParagraphID\":17,\"SentenceID\":4,\"StartIndex\":24,\"EndIndex\":68,\"Length\":208},{\"ParagraphID\":17,\"SentenceID\":5,\"StartIndex\":69,\"EndIndex\":114,\"Length\":191}]\n",
      "http://2012books.lardbucket.org/books/beginning-statistics/s06-05-the-empirical-rule-and-chebysh.html\t[{\"ParagraphID\":17,\"SentenceID\":4,\"StartIndex\":0,\"EndIndex\":44,\"Length\":208},{\"ParagraphID\":17,\"SentenceID\":5,\"StartIndex\":45,\"EndIndex\":90,\"Length\":191}]\n",
      "http://2012books.lardbucket.org/books/beginning-statistics/s06-05-the-empirical-rule-and-chebysh.html\t[{\"ParagraphID\":17,\"SentenceID\":6,\"StartIndex\":0,\"EndIndex\":33,\"Length\":143},{\"ParagraphID\":17,\"SentenceID\":7,\"StartIndex\":34,\"EndIndex\":56,\"Length\":127}]\n",
      "http://2012books.lardbucket.org/books/beginning-statistics/s06-05-the-empirical-rule-and-chebysh.html\t[{\"ParagraphID\":141,\"SentenceID\":1,\"StartIndex\":0,\"EndIndex\":4,\"Length\":30},{\"ParagraphID\":142,\"SentenceID\":0,\"StartIndex\":5,\"EndIndex\":20,\"Length\":76},{\"ParagraphID\":143,\"SentenceID\":0,\"StartIndex\":21,\"EndIndex\":37,\"Length\":80},{\"ParagraphID\":144,\"SentenceID\":0,\"StartIndex\":38,\"EndIndex\":53,\"Length\":78}]\n",
      "http://2012books.lardbucket.org/books/beginning-statistics/s06-05-the-empirical-rule-and-chebysh.html\t[{\"ParagraphID\":146,\"SentenceID\":0,\"StartIndex\":0,\"EndIndex\":28,\"Length\":122},{\"ParagraphID\":146,\"SentenceID\":1,\"StartIndex\":29,\"EndIndex\":50,\"Length\":88},{\"ParagraphID\":146,\"SentenceID\":2,\"StartIndex\":51,\"EndIndex\":63,\"Length\":41}]\n",
      "http://2012books.lardbucket.org/books/beginning-statistics/s06-05-the-empirical-rule-and-chebysh.html\t[{\"ParagraphID\":146,\"SentenceID\":0,\"StartIndex\":0,\"EndIndex\":28,\"Length\":122},{\"ParagraphID\":146,\"SentenceID\":1,\"StartIndex\":29,\"EndIndex\":50,\"Length\":88},{\"ParagraphID\":146,\"SentenceID\":2,\"StartIndex\":51,\"EndIndex\":63,\"Length\":41},{\"ParagraphID\":146,\"SentenceID\":3,\"StartIndex\":64,\"EndIndex\":75,\"Length\":57}]\n",
      "http://2012books.lardbucket.org/books/beginning-statistics/s06-05-the-empirical-rule-and-chebysh.html\t[{\"ParagraphID\":147,\"SentenceID\":0,\"StartIndex\":0,\"EndIndex\":8,\"Length\":43},{\"ParagraphID\":147,\"SentenceID\":1,\"StartIndex\":9,\"EndIndex\":48,\"Length\":160},{\"ParagraphID\":147,\"SentenceID\":2,\"StartIndex\":49,\"EndIndex\":70,\"Length\":87}]\n",
      "http://2012books.lardbucket.org/books/beginning-statistics/s06-05-the-empirical-rule-and-chebysh.html\t[{\"ParagraphID\":147,\"SentenceID\":1,\"StartIndex\":0,\"EndIndex\":39,\"Length\":160},{\"ParagraphID\":147,\"SentenceID\":2,\"StartIndex\":40,\"EndIndex\":61,\"Length\":87}]\n",
      "http://2012books.lardbucket.org/books/beginning-statistics/s06-05-the-empirical-rule-and-chebysh.html\t[{\"ParagraphID\":149,\"SentenceID\":0,\"StartIndex\":0,\"EndIndex\":2,\"Length\":19},{\"ParagraphID\":150,\"SentenceID\":0,\"StartIndex\":3,\"EndIndex\":30,\"Length\":139},{\"ParagraphID\":150,\"SentenceID\":1,\"StartIndex\":31,\"EndIndex\":45,\"Length\":72}]\n",
      "http://2012books.lardbucket.org/books/beginning-statistics/s06-05-the-empirical-rule-and-chebysh.html\t[{\"ParagraphID\":150,\"SentenceID\":0,\"StartIndex\":0,\"EndIndex\":27,\"Length\":139},{\"ParagraphID\":150,\"SentenceID\":1,\"StartIndex\":28,\"EndIndex\":42,\"Length\":72}]\n",
      "http://2012books.lardbucket.org/books/beginning-statistics/s06-05-the-empirical-rule-and-chebysh.html\t[{\"ParagraphID\":162,\"SentenceID\":0,\"StartIndex\":0,\"EndIndex\":23,\"Length\":111},{\"ParagraphID\":162,\"SentenceID\":1,\"StartIndex\":24,\"EndIndex\":41,\"Length\":74},{\"ParagraphID\":162,\"SentenceID\":2,\"StartIndex\":42,\"EndIndex\":62,\"Length\":88}]\n",
      "http://2012books.lardbucket.org/books/beginning-statistics/s06-05-the-empirical-rule-and-chebysh.html\t[{\"ParagraphID\":162,\"SentenceID\":1,\"StartIndex\":0,\"EndIndex\":17,\"Length\":74},{\"ParagraphID\":162,\"SentenceID\":2,\"StartIndex\":18,\"EndIndex\":38,\"Length\":88},{\"ParagraphID\":162,\"SentenceID\":3,\"StartIndex\":39,\"EndIndex\":65,\"Length\":128}]\n",
      "http://2012books.lardbucket.org/books/beginning-statistics/s06-05-the-empirical-rule-and-chebysh.html\t[{\"ParagraphID\":173,\"SentenceID\":0,\"StartIndex\":0,\"EndIndex\":22,\"Length\":123},{\"ParagraphID\":173,\"SentenceID\":1,\"StartIndex\":23,\"EndIndex\":40,\"Length\":83},{\"ParagraphID\":174,\"SentenceID\":0,\"StartIndex\":41,\"EndIndex\":72,\"Length\":105}]\n",
      "http://2012books.lardbucket.org/books/beginning-statistics/s06-05-the-empirical-rule-and-chebysh.html\t[{\"ParagraphID\":174,\"SentenceID\":0,\"StartIndex\":0,\"EndIndex\":31,\"Length\":105},{\"ParagraphID\":174,\"SentenceID\":1,\"StartIndex\":32,\"EndIndex\":36,\"Length\":19},{\"ParagraphID\":175,\"SentenceID\":0,\"StartIndex\":37,\"EndIndex\":70,\"Length\":149}]\n",
      "http://2012books.lardbucket.org/books/beginning-statistics/s06-05-the-empirical-rule-and-chebysh.html\t[{\"ParagraphID\":174,\"SentenceID\":0,\"StartIndex\":0,\"EndIndex\":31,\"Length\":105},{\"ParagraphID\":174,\"SentenceID\":1,\"StartIndex\":32,\"EndIndex\":36,\"Length\":19},{\"ParagraphID\":175,\"SentenceID\":0,\"StartIndex\":37,\"EndIndex\":70,\"Length\":149},{\"ParagraphID\":175,\"SentenceID\":1,\"StartIndex\":71,\"EndIndex\":79,\"Length\":41}]\n",
      "http://2012books.lardbucket.org/books/beginning-statistics/s06-05-the-empirical-rule-and-chebysh.html\t[{\"ParagraphID\":177,\"SentenceID\":0,\"StartIndex\":0,\"EndIndex\":32,\"Length\":160},{\"ParagraphID\":177,\"SentenceID\":1,\"StartIndex\":33,\"EndIndex\":50,\"Length\":78}]\n",
      "http://2012books.lardbucket.org/books/beginning-statistics/s06-05-the-empirical-rule-and-chebysh.html\t[{\"ParagraphID\":180,\"SentenceID\":0,\"StartIndex\":0,\"EndIndex\":18,\"Length\":118},{\"ParagraphID\":180,\"SentenceID\":1,\"StartIndex\":19,\"EndIndex\":40,\"Length\":116},{\"ParagraphID\":181,\"SentenceID\":0,\"StartIndex\":41,\"EndIndex\":54,\"Length\":69}]\n",
      "http://2012books.lardbucket.org/books/beginning-statistics/s06-05-the-empirical-rule-and-chebysh.html\t[{\"ParagraphID\":180,\"SentenceID\":1,\"StartIndex\":0,\"EndIndex\":21,\"Length\":116},{\"ParagraphID\":181,\"SentenceID\":0,\"StartIndex\":22,\"EndIndex\":35,\"Length\":69},{\"ParagraphID\":181,\"SentenceID\":1,\"StartIndex\":36,\"EndIndex\":59,\"Length\":127}]\n",
      "http://2012books.lardbucket.org/books/beginning-statistics/s06-05-the-empirical-rule-and-chebysh.html\t[{\"ParagraphID\":185,\"SentenceID\":0,\"StartIndex\":0,\"EndIndex\":11,\"Length\":70},{\"ParagraphID\":186,\"SentenceID\":0,\"StartIndex\":12,\"EndIndex\":16,\"Length\":26},{\"ParagraphID\":187,\"SentenceID\":0,\"StartIndex\":17,\"EndIndex\":28,\"Length\":71},{\"ParagraphID\":188,\"SentenceID\":0,\"StartIndex\":29,\"EndIndex\":48,\"Length\":93}]\n",
      "http://2012books.lardbucket.org/books/beginning-statistics/s06-05-the-empirical-rule-and-chebysh.html\t[{\"ParagraphID\":12,\"SentenceID\":0,\"StartIndex\":0,\"EndIndex\":1,\"Length\":19},{\"ParagraphID\":13,\"SentenceID\":0,\"StartIndex\":2,\"EndIndex\":35,\"Length\":177},{\"ParagraphID\":14,\"SentenceID\":0,\"StartIndex\":36,\"EndIndex\":52,\"Length\":87}]\n",
      "http://2012books.lardbucket.org/books/finance-for-managers/s17-03-cash-conversion-cycle.html\t[{\"ParagraphID\":1,\"SentenceID\":0,\"StartIndex\":0,\"EndIndex\":11,\"Length\":68},{\"ParagraphID\":1,\"SentenceID\":1,\"StartIndex\":12,\"EndIndex\":59,\"Length\":222}]\n",
      "http://2012books.lardbucket.org/books/finance-for-managers/s17-03-cash-conversion-cycle.html\t[{\"ParagraphID\":3,\"SentenceID\":0,\"StartIndex\":0,\"EndIndex\":10,\"Length\":58},{\"ParagraphID\":3,\"SentenceID\":1,\"StartIndex\":11,\"EndIndex\":38,\"Length\":150},{\"ParagraphID\":3,\"SentenceID\":2,\"StartIndex\":39,\"EndIndex\":55,\"Length\":88}]\n",
      "http://2012books.lardbucket.org/books/finance-for-managers/s17-03-cash-conversion-cycle.html\t[{\"ParagraphID\":5,\"SentenceID\":1,\"StartIndex\":0,\"EndIndex\":8,\"Length\":50},{\"ParagraphID\":5,\"SentenceID\":2,\"StartIndex\":9,\"EndIndex\":59,\"Length\":207}]\n",
      "http://2012books.lardbucket.org/books/finance-for-managers/s17-03-cash-conversion-cycle.html\t[{\"ParagraphID\":17,\"SentenceID\":0,\"StartIndex\":0,\"EndIndex\":32,\"Length\":190}]\n",
      "http://2012books.lardbucket.org/books/finance-for-managers/s17-03-cash-conversion-cycle.html\t[{\"ParagraphID\":17,\"SentenceID\":0,\"StartIndex\":0,\"EndIndex\":32,\"Length\":190},{\"ParagraphID\":17,\"SentenceID\":1,\"StartIndex\":33,\"EndIndex\":51,\"Length\":97}]\n",
      "http://2012books.lardbucket.org/books/finance-for-managers/s17-03-cash-conversion-cycle.html\t[{\"ParagraphID\":17,\"SentenceID\":0,\"StartIndex\":0,\"EndIndex\":32,\"Length\":190},{\"ParagraphID\":17,\"SentenceID\":1,\"StartIndex\":33,\"EndIndex\":51,\"Length\":97},{\"ParagraphID\":17,\"SentenceID\":2,\"StartIndex\":52,\"EndIndex\":78,\"Length\":156}]\n",
      "http://2012books.lardbucket.org/books/finance-for-managers/s17-03-cash-conversion-cycle.html\t[{\"ParagraphID\":17,\"SentenceID\":1,\"StartIndex\":0,\"EndIndex\":18,\"Length\":97},{\"ParagraphID\":17,\"SentenceID\":2,\"StartIndex\":19,\"EndIndex\":45,\"Length\":156}]\n",
      "http://2012books.lardbucket.org/books/finance-for-managers/s17-03-cash-conversion-cycle.html\t[{\"ParagraphID\":17,\"SentenceID\":1,\"StartIndex\":0,\"EndIndex\":18,\"Length\":97},{\"ParagraphID\":17,\"SentenceID\":2,\"StartIndex\":19,\"EndIndex\":45,\"Length\":156},{\"ParagraphID\":17,\"SentenceID\":3,\"StartIndex\":46,\"EndIndex\":56,\"Length\":59}]\n",
      "http://2012books.lardbucket.org/books/finance-for-managers/s17-03-cash-conversion-cycle.html\t[{\"ParagraphID\":17,\"SentenceID\":2,\"StartIndex\":0,\"EndIndex\":26,\"Length\":156},{\"ParagraphID\":17,\"SentenceID\":3,\"StartIndex\":27,\"EndIndex\":37,\"Length\":59}]\n",
      "http://2012books.lardbucket.org/books/finance-for-managers/s17-03-cash-conversion-cycle.html\t[{\"ParagraphID\":17,\"SentenceID\":2,\"StartIndex\":0,\"EndIndex\":26,\"Length\":156},{\"ParagraphID\":17,\"SentenceID\":3,\"StartIndex\":27,\"EndIndex\":37,\"Length\":59},{\"ParagraphID\":17,\"SentenceID\":4,\"StartIndex\":38,\"EndIndex\":47,\"Length\":50}]\n",
      "http://2012books.lardbucket.org/books/finance-for-managers/s17-03-cash-conversion-cycle.html\t[{\"ParagraphID\":17,\"SentenceID\":7,\"StartIndex\":0,\"EndIndex\":10,\"Length\":79},{\"ParagraphID\":19,\"SentenceID\":0,\"StartIndex\":11,\"EndIndex\":36,\"Length\":146},{\"ParagraphID\":19,\"SentenceID\":1,\"StartIndex\":37,\"EndIndex\":80,\"Length\":222}]\n",
      "http://2012books.lardbucket.org/books/finance-for-managers/s17-03-cash-conversion-cycle.html\t[{\"ParagraphID\":18,\"SentenceID\":0,\"StartIndex\":0,\"EndIndex\":4,\"Length\":37},{\"ParagraphID\":19,\"SentenceID\":0,\"StartIndex\":5,\"EndIndex\":30,\"Length\":146},{\"ParagraphID\":19,\"SentenceID\":1,\"StartIndex\":31,\"EndIndex\":74,\"Length\":222}]\n",
      "http://2012books.lardbucket.org/books/finance-for-managers/s17-03-cash-conversion-cycle.html\t[{\"ParagraphID\":19,\"SentenceID\":0,\"StartIndex\":0,\"EndIndex\":25,\"Length\":146},{\"ParagraphID\":19,\"SentenceID\":1,\"StartIndex\":26,\"EndIndex\":69,\"Length\":222}]\n",
      "http://2012books.lardbucket.org/books/finance-for-managers/s17-03-cash-conversion-cycle.html\t[{\"ParagraphID\":19,\"SentenceID\":1,\"StartIndex\":0,\"EndIndex\":43,\"Length\":222}]\n",
      "http://2012books.lardbucket.org/books/finance-for-managers/s17-03-cash-conversion-cycle.html\t[{\"ParagraphID\":19,\"SentenceID\":3,\"StartIndex\":0,\"EndIndex\":26,\"Length\":162},{\"ParagraphID\":19,\"SentenceID\":4,\"StartIndex\":27,\"EndIndex\":59,\"Length\":193}]\n",
      "http://2012books.lardbucket.org/books/finance-for-managers/s17-03-cash-conversion-cycle.html\t[{\"ParagraphID\":21,\"SentenceID\":1,\"StartIndex\":0,\"EndIndex\":16,\"Length\":77},{\"ParagraphID\":22,\"SentenceID\":0,\"StartIndex\":17,\"EndIndex\":21,\"Length\":41},{\"ParagraphID\":23,\"SentenceID\":0,\"StartIndex\":22,\"EndIndex\":63,\"Length\":188}]\n",
      "http://2012books.lardbucket.org/books/finance-for-managers/s17-03-cash-conversion-cycle.html\t[{\"ParagraphID\":22,\"SentenceID\":0,\"StartIndex\":0,\"EndIndex\":4,\"Length\":41},{\"ParagraphID\":23,\"SentenceID\":0,\"StartIndex\":5,\"EndIndex\":46,\"Length\":188}]\n",
      "http://2012books.lardbucket.org/books/finance-for-managers/s17-03-cash-conversion-cycle.html\t[{\"ParagraphID\":23,\"SentenceID\":0,\"StartIndex\":0,\"EndIndex\":41,\"Length\":188},{\"ParagraphID\":23,\"SentenceID\":1,\"StartIndex\":42,\"EndIndex\":62,\"Length\":95}]\n",
      "http://2012books.lardbucket.org/books/finance-for-managers/s17-03-cash-conversion-cycle.html\t[{\"ParagraphID\":24,\"SentenceID\":1,\"StartIndex\":0,\"EndIndex\":13,\"Length\":67},{\"ParagraphID\":25,\"SentenceID\":0,\"StartIndex\":14,\"EndIndex\":18,\"Length\":43},{\"ParagraphID\":26,\"SentenceID\":0,\"StartIndex\":19,\"EndIndex\":59,\"Length\":190}]\n",
      "http://2012books.lardbucket.org/books/finance-for-managers/s17-03-cash-conversion-cycle.html\t[{\"ParagraphID\":25,\"SentenceID\":0,\"StartIndex\":0,\"EndIndex\":4,\"Length\":43},{\"ParagraphID\":26,\"SentenceID\":0,\"StartIndex\":5,\"EndIndex\":45,\"Length\":190}]\n",
      "http://2012books.lardbucket.org/books/finance-for-managers/s17-03-cash-conversion-cycle.html\t[{\"ParagraphID\":26,\"SentenceID\":0,\"StartIndex\":0,\"EndIndex\":40,\"Length\":190},{\"ParagraphID\":27,\"SentenceID\":0,\"StartIndex\":41,\"EndIndex\":44,\"Length\":29},{\"ParagraphID\":28,\"SentenceID\":0,\"StartIndex\":45,\"EndIndex\":61,\"Length\":68}]\n",
      "http://2012books.lardbucket.org/books/finance-for-managers/s17-03-cash-conversion-cycle.html\t[{\"ParagraphID\":30,\"SentenceID\":0,\"StartIndex\":0,\"EndIndex\":4,\"Length\":40},{\"ParagraphID\":31,\"SentenceID\":0,\"StartIndex\":5,\"EndIndex\":44,\"Length\":181}]\n",
      "http://2012books.lardbucket.org/books/finance-for-managers/s17-03-cash-conversion-cycle.html\t[{\"ParagraphID\":31,\"SentenceID\":0,\"StartIndex\":0,\"EndIndex\":39,\"Length\":181},{\"ParagraphID\":32,\"SentenceID\":0,\"StartIndex\":40,\"EndIndex\":44,\"Length\":35},{\"ParagraphID\":33,\"SentenceID\":0,\"StartIndex\":45,\"EndIndex\":63,\"Length\":81}]\n",
      "http://2012books.lardbucket.org/books/finance-for-managers/s17-03-cash-conversion-cycle.html\t[{\"ParagraphID\":33,\"SentenceID\":0,\"StartIndex\":0,\"EndIndex\":18,\"Length\":81},{\"ParagraphID\":34,\"SentenceID\":0,\"StartIndex\":19,\"EndIndex\":24,\"Length\":41},{\"ParagraphID\":35,\"SentenceID\":0,\"StartIndex\":25,\"EndIndex\":56,\"Length\":157}]\n",
      "http://2012books.lardbucket.org/books/finance-for-managers/s17-03-cash-conversion-cycle.html\t[{\"ParagraphID\":35,\"SentenceID\":0,\"StartIndex\":0,\"EndIndex\":31,\"Length\":157},{\"ParagraphID\":35,\"SentenceID\":1,\"StartIndex\":32,\"EndIndex\":38,\"Length\":40},{\"ParagraphID\":35,\"SentenceID\":2,\"StartIndex\":39,\"EndIndex\":56,\"Length\":103}]\n",
      "http://2012books.lardbucket.org/books/finance-for-managers/s17-03-cash-conversion-cycle.html\t[{\"ParagraphID\":13,\"SentenceID\":0,\"StartIndex\":0,\"EndIndex\":1,\"Length\":19},{\"ParagraphID\":14,\"SentenceID\":0,\"StartIndex\":2,\"EndIndex\":10,\"Length\":48},{\"ParagraphID\":15,\"SentenceID\":0,\"StartIndex\":11,\"EndIndex\":16,\"Length\":36},{\"ParagraphID\":16,\"SentenceID\":0,\"StartIndex\":17,\"EndIndex\":29,\"Length\":76}]\n",
      "http://2012books.lardbucket.org/books/introduction-to-chemistry-general-organic-and-biological/s06-ionic-bonding-and-simple-ionic.html\tChapter\n",
      "http://2012books.lardbucket.org/books/introduction-to-chemistry-general-organic-and-biological/s06-ionic-bonding-and-simple-ionic.html\tChapter\n",
      "http://2012books.lardbucket.org/books/introduction-to-chemistry-general-organic-and-biological/s06-ionic-bonding-and-simple-ionic.html\tChapter\n",
      "http://2012books.lardbucket.org/books/introduction-to-chemistry-general-organic-and-biological/s06-ionic-bonding-and-simple-ionic.html\tChapter\n",
      "http://2012books.lardbucket.org/books/introduction-to-chemistry-general-organic-and-biological/s06-ionic-bonding-and-simple-ionic.html\tChapter\n",
      "http://2012books.lardbucket.org/books/introduction-to-chemistry-general-organic-and-biological/s06-ionic-bonding-and-simple-ionic.html\tChapter\n",
      "http://2012books.lardbucket.org/books/introduction-to-chemistry-general-organic-and-biological/s06-ionic-bonding-and-simple-ionic.html\tChapter\n",
      "http://2012books.lardbucket.org/books/introduction-to-chemistry-general-organic-and-biological/s06-ionic-bonding-and-simple-ionic.html\tChapter\n",
      "http://2012books.lardbucket.org/books/introduction-to-chemistry-general-organic-and-biological/s06-ionic-bonding-and-simple-ionic.html\tChapter\n",
      "http://2012books.lardbucket.org/books/introduction-to-chemistry-general-organic-and-biological/s06-ionic-bonding-and-simple-ionic.html\tChapter\n",
      "http://2012books.lardbucket.org/books/introduction-to-chemistry-general-organic-and-biological/s06-ionic-bonding-and-simple-ionic.html\tChapter\n",
      "http://2012books.lardbucket.org/books/introduction-to-chemistry-general-organic-and-biological/s06-ionic-bonding-and-simple-ionic.html\tChapter\n",
      "http://2012books.lardbucket.org/books/introduction-to-chemistry-general-organic-and-biological/s06-ionic-bonding-and-simple-ionic.html\tChapter\n"
     ]
    }
   ],
   "source": [
    "for line in lines:\n",
    "    print(\"{0}\\t{1}\".format(line[0], line[2]))"
   ]
  },
  {
   "cell_type": "code",
   "execution_count": 37,
   "metadata": {
    "collapsed": true
   },
   "outputs": [],
   "source": [
    "fr = open(fn, 'r', encoding='utf-8')"
   ]
  },
  {
   "cell_type": "code",
   "execution_count": 38,
   "metadata": {
    "collapsed": false
   },
   "outputs": [],
   "source": [
    "fr.seek(0, 0)\n",
    "line = fr.readline()"
   ]
  },
  {
   "cell_type": "code",
   "execution_count": 39,
   "metadata": {
    "collapsed": false
   },
   "outputs": [
    {
     "data": {
      "text/plain": [
       "197"
      ]
     },
     "execution_count": 39,
     "metadata": {},
     "output_type": "execute_result"
    }
   ],
   "source": [
    "len(line.split(','))"
   ]
  },
  {
   "cell_type": "code",
   "execution_count": 44,
   "metadata": {
    "collapsed": false
   },
   "outputs": [],
   "source": [
    "url_title = []\n",
    "fr.seek(0, 0)\n",
    "for line in fr.readlines():\n",
    "    arr = line.split(',')\n",
    "    try:\n",
    "        url = arr[0]\n",
    "        title = arr[2]\n",
    "    except:\n",
    "        continue\n",
    "    if title == \"\":\n",
    "        continue\n",
    "    url_title.append([url, title])\n",
    "    "
   ]
  },
  {
   "cell_type": "code",
   "execution_count": 45,
   "metadata": {
    "collapsed": false
   },
   "outputs": [
    {
     "data": {
      "text/plain": [
       "8655"
      ]
     },
     "execution_count": 45,
     "metadata": {},
     "output_type": "execute_result"
    }
   ],
   "source": [
    "len(url_title)"
   ]
  },
  {
   "cell_type": "code",
   "execution_count": 47,
   "metadata": {
    "collapsed": false
   },
   "outputs": [],
   "source": [
    "url_title_set = {}\n",
    "for url, title in url_title:\n",
    "    if url not in url_title_set:\n",
    "        url_title_set[url] = set()\n",
    "    url_title_set[url].add(title)"
   ]
  },
  {
   "cell_type": "code",
   "execution_count": 49,
   "metadata": {
    "collapsed": false
   },
   "outputs": [],
   "source": [
    "for key, value in url_title_set.items():\n",
    "    num = len(value)\n",
    "    if num != 1:\n",
    "        print(\"{0}\\t{1}\".format(key, '\\t'.join(value)))"
   ]
  },
  {
   "cell_type": "code",
   "execution_count": 50,
   "metadata": {
    "collapsed": false
   },
   "outputs": [
    {
     "data": {
      "text/plain": [
       "742"
      ]
     },
     "execution_count": 50,
     "metadata": {},
     "output_type": "execute_result"
    }
   ],
   "source": [
    "len(url_title_set)"
   ]
  },
  {
   "cell_type": "code",
   "execution_count": 51,
   "metadata": {
    "collapsed": true
   },
   "outputs": [],
   "source": [
    "import os\n"
   ]
  },
  {
   "cell_type": "code",
   "execution_count": 53,
   "metadata": {
    "collapsed": false
   },
   "outputs": [
    {
     "data": {
      "text/plain": [
       "'c:\\\\code'"
      ]
     },
     "execution_count": 53,
     "metadata": {},
     "output_type": "execute_result"
    }
   ],
   "source": [
    "os.getcwd()"
   ]
  },
  {
   "cell_type": "code",
   "execution_count": 54,
   "metadata": {
    "collapsed": true
   },
   "outputs": [],
   "source": [
    "os.rename(\"data/outputFile.tsv\", \"data/qa_slot.tsv\")"
   ]
  },
  {
   "cell_type": "code",
   "execution_count": 33,
   "metadata": {
    "collapsed": true
   },
   "outputs": [],
   "source": [
    "fn = \"data/qa_slot.tsv\""
   ]
  },
  {
   "cell_type": "code",
   "execution_count": 34,
   "metadata": {
    "collapsed": false
   },
   "outputs": [],
   "source": [
    "lines = []\n",
    "lines = [line.strip().split('\\t') for line in open(fn, 'r', encoding='utf-8')]"
   ]
  },
  {
   "cell_type": "code",
   "execution_count": 38,
   "metadata": {
    "collapsed": false
   },
   "outputs": [],
   "source": [
    "df = pd.DataFrame(lines)"
   ]
  },
  {
   "cell_type": "code",
   "execution_count": 39,
   "metadata": {
    "collapsed": false
   },
   "outputs": [
    {
     "data": {
      "text/html": [
       "<div>\n",
       "<table border=\"1\" class=\"dataframe\">\n",
       "  <thead>\n",
       "    <tr style=\"text-align: right;\">\n",
       "      <th></th>\n",
       "      <th>0</th>\n",
       "      <th>1</th>\n",
       "    </tr>\n",
       "  </thead>\n",
       "  <tbody>\n",
       "    <tr>\n",
       "      <th>0</th>\n",
       "      <td>film.film code unlimit ammo cvg.computer_video...</td>\n",
       "      <td># ammo code unlimit ammo cvg.game_series 1</td>\n",
       "    </tr>\n",
       "    <tr>\n",
       "      <th>1</th>\n",
       "      <td>film.film code unlimit ammo cvg.computer_video...</td>\n",
       "      <td># ammo code unlimit ammo cvg.computer_videogame 1</td>\n",
       "    </tr>\n",
       "    <tr>\n",
       "      <th>2</th>\n",
       "      <td>film.film code unlimit ammo cvg.game_series 1</td>\n",
       "      <td># ammo code unlimit ammo cvg.game_series 1</td>\n",
       "    </tr>\n",
       "    <tr>\n",
       "      <th>3</th>\n",
       "      <td>film.film code unlimit ammo cvg.game_series 1</td>\n",
       "      <td># ammo code unlimit ammo cvg.computer_videogame 1</td>\n",
       "    </tr>\n",
       "    <tr>\n",
       "      <th>4</th>\n",
       "      <td>commerce.digital_camera_storage_type music.rel...</td>\n",
       "      <td># carbohydr glycogen media_common.creative_work</td>\n",
       "    </tr>\n",
       "    <tr>\n",
       "      <th>5</th>\n",
       "      <td>commerce.digital_camera_storage_type commerce....</td>\n",
       "      <td># carbohydr glycogen media_common.creative_work</td>\n",
       "    </tr>\n",
       "    <tr>\n",
       "      <th>6</th>\n",
       "      <td>people.person twitter name</td>\n",
       "      <td># carmelo 4 # carmelo # twitter # people.perso...</td>\n",
       "    </tr>\n",
       "    <tr>\n",
       "      <th>7</th>\n",
       "      <td>cvg.computer_videogame cheat code 100000 cash ...</td>\n",
       "      <td># cashmoneyz film.film code film.film game cvg...</td>\n",
       "    </tr>\n",
       "    <tr>\n",
       "      <th>8</th>\n",
       "      <td>chloe award.winner real instagram account</td>\n",
       "      <td># chloelukasiak instagram account chloe award....</td>\n",
       "    </tr>\n",
       "    <tr>\n",
       "      <th>9</th>\n",
       "      <td>chloe award.winner real instagram account</td>\n",
       "      <td># chloelukasiak instagram account chloe tv.pro...</td>\n",
       "    </tr>\n",
       "    <tr>\n",
       "      <th>10</th>\n",
       "      <td>chloe tv.program real instagram account</td>\n",
       "      <td># chloelukasiak instagram account chloe award....</td>\n",
       "    </tr>\n",
       "    <tr>\n",
       "      <th>11</th>\n",
       "      <td>chloe tv.program real instagram account</td>\n",
       "      <td># chloelukasiak instagram account chloe tv.pro...</td>\n",
       "    </tr>\n",
       "    <tr>\n",
       "      <th>12</th>\n",
       "      <td>people.person produc choos lose</td>\n",
       "      <td># people.person play russian roulett fulli loa...</td>\n",
       "    </tr>\n",
       "    <tr>\n",
       "      <th>13</th>\n",
       "      <td>people.person produc choos lose</td>\n",
       "      <td># martial_arts.martial_artist play russian rou...</td>\n",
       "    </tr>\n",
       "    <tr>\n",
       "      <th>14</th>\n",
       "      <td>martial_arts.martial_artist produc choos lose</td>\n",
       "      <td># people.person play russian roulett fulli loa...</td>\n",
       "    </tr>\n",
       "    <tr>\n",
       "      <th>15</th>\n",
       "      <td>martial_arts.martial_artist produc choos lose</td>\n",
       "      <td># martial_arts.martial_artist play russian rou...</td>\n",
       "    </tr>\n",
       "    <tr>\n",
       "      <th>16</th>\n",
       "      <td>find largest algorithm music.artist plu</td>\n",
       "      <td>music.group business.operation b b b</td>\n",
       "    </tr>\n",
       "    <tr>\n",
       "      <th>17</th>\n",
       "      <td>find largest algorithm music.artist plu</td>\n",
       "      <td>music.group organization.organization b b b</td>\n",
       "    </tr>\n",
       "    <tr>\n",
       "      <th>18</th>\n",
       "      <td>formula radiu book.book</td>\n",
       "      <td>music.group pi 3 1416 int r area area 2 pi r</td>\n",
       "    </tr>\n",
       "    <tr>\n",
       "      <th>19</th>\n",
       "      <td>divid two number music.track macro</td>\n",
       "      <td>music.group total num fft int sampl fft size</td>\n",
       "    </tr>\n",
       "  </tbody>\n",
       "</table>\n",
       "</div>"
      ],
      "text/plain": [
       "                                                    0  \\\n",
       "0   film.film code unlimit ammo cvg.computer_video...   \n",
       "1   film.film code unlimit ammo cvg.computer_video...   \n",
       "2       film.film code unlimit ammo cvg.game_series 1   \n",
       "3       film.film code unlimit ammo cvg.game_series 1   \n",
       "4   commerce.digital_camera_storage_type music.rel...   \n",
       "5   commerce.digital_camera_storage_type commerce....   \n",
       "6                          people.person twitter name   \n",
       "7   cvg.computer_videogame cheat code 100000 cash ...   \n",
       "8           chloe award.winner real instagram account   \n",
       "9           chloe award.winner real instagram account   \n",
       "10            chloe tv.program real instagram account   \n",
       "11            chloe tv.program real instagram account   \n",
       "12                    people.person produc choos lose   \n",
       "13                    people.person produc choos lose   \n",
       "14      martial_arts.martial_artist produc choos lose   \n",
       "15      martial_arts.martial_artist produc choos lose   \n",
       "16            find largest algorithm music.artist plu   \n",
       "17            find largest algorithm music.artist plu   \n",
       "18                            formula radiu book.book   \n",
       "19                 divid two number music.track macro   \n",
       "\n",
       "                                                    1  \n",
       "0          # ammo code unlimit ammo cvg.game_series 1  \n",
       "1   # ammo code unlimit ammo cvg.computer_videogame 1  \n",
       "2          # ammo code unlimit ammo cvg.game_series 1  \n",
       "3   # ammo code unlimit ammo cvg.computer_videogame 1  \n",
       "4     # carbohydr glycogen media_common.creative_work  \n",
       "5     # carbohydr glycogen media_common.creative_work  \n",
       "6   # carmelo 4 # carmelo # twitter # people.perso...  \n",
       "7   # cashmoneyz film.film code film.film game cvg...  \n",
       "8   # chloelukasiak instagram account chloe award....  \n",
       "9   # chloelukasiak instagram account chloe tv.pro...  \n",
       "10  # chloelukasiak instagram account chloe award....  \n",
       "11  # chloelukasiak instagram account chloe tv.pro...  \n",
       "12  # people.person play russian roulett fulli loa...  \n",
       "13  # martial_arts.martial_artist play russian rou...  \n",
       "14  # people.person play russian roulett fulli loa...  \n",
       "15  # martial_arts.martial_artist play russian rou...  \n",
       "16               music.group business.operation b b b  \n",
       "17        music.group organization.organization b b b  \n",
       "18       music.group pi 3 1416 int r area area 2 pi r  \n",
       "19       music.group total num fft int sampl fft size  "
      ]
     },
     "execution_count": 39,
     "metadata": {},
     "output_type": "execute_result"
    }
   ],
   "source": [
    "df.head(20)"
   ]
  },
  {
   "cell_type": "code",
   "execution_count": 40,
   "metadata": {
    "collapsed": true
   },
   "outputs": [],
   "source": [
    "import re"
   ]
  },
  {
   "cell_type": "code",
   "execution_count": 41,
   "metadata": {
    "collapsed": false
   },
   "outputs": [],
   "source": []
  },
  {
   "cell_type": "code",
   "execution_count": 42,
   "metadata": {
    "collapsed": false
   },
   "outputs": [
    {
     "data": {
      "text/plain": [
       "'ammo code unlimit ammo cvg.game_series 1'"
      ]
     },
     "execution_count": 42,
     "metadata": {},
     "output_type": "execute_result"
    }
   ],
   "source": [
    "puntutaion_clear(\"# ammo code unlimit ammo cvg.game_series 1\")"
   ]
  },
  {
   "cell_type": "code",
   "execution_count": 43,
   "metadata": {
    "collapsed": false
   },
   "outputs": [
    {
     "data": {
      "text/plain": [
       "'music.group pi number.number int r area area number.number pi r'"
      ]
     },
     "execution_count": 43,
     "metadata": {},
     "output_type": "execute_result"
    }
   ],
   "source": [
    "pre_process(\"music.group pi 3 1416 int # r area area 3.1415 2 pi r\")"
   ]
  },
  {
   "cell_type": "code",
   "execution_count": 45,
   "metadata": {
    "collapsed": false
   },
   "outputs": [
    {
     "data": {
      "text/plain": [
       "'data/qa_slot.tsv'"
      ]
     },
     "execution_count": 45,
     "metadata": {},
     "output_type": "execute_result"
    }
   ],
   "source": [
    "fn"
   ]
  },
  {
   "cell_type": "code",
   "execution_count": 44,
   "metadata": {
    "collapsed": false
   },
   "outputs": [],
   "source": [
    "def filterTerm(term):\n",
    "    if term.find(\".\") != -1 and not term.endswith(\".\"):\n",
    "        return True\n",
    "    else:\n",
    "        return False\n",
    "    \n",
    "answerTerm_count = {}\n",
    "\n",
    "with open(fn, 'r', encoding='utf-8') as fr:\n",
    "    for line in fr:\n",
    "        arr = line.strip().split('\\t')\n",
    "        if len(arr) != 2:\n",
    "            continue\n",
    "        answer = arr[1]\n",
    "        answer_clear = pre_process(answer)\n",
    "        answer_arr = answer_clear.split()\n",
    "        for term in answer_arr:\n",
    "            if filterTerm(term):\n",
    "                continue\n",
    "            if term not in answerTerm_count:\n",
    "                answerTerm_count[term] = 0\n",
    "            answerTerm_count[term] += 1"
   ]
  },
  {
   "cell_type": "code",
   "execution_count": 46,
   "metadata": {
    "collapsed": false
   },
   "outputs": [
    {
     "data": {
      "text/plain": [
       "326825"
      ]
     },
     "execution_count": 46,
     "metadata": {},
     "output_type": "execute_result"
    }
   ],
   "source": [
    "len(answerTerm_count)"
   ]
  },
  {
   "cell_type": "code",
   "execution_count": 47,
   "metadata": {
    "collapsed": false
   },
   "outputs": [],
   "source": [
    "df = pd.DataFrame.from_dict(answerTerm_count, orient='index')"
   ]
  },
  {
   "cell_type": "code",
   "execution_count": 49,
   "metadata": {
    "collapsed": false
   },
   "outputs": [
    {
     "data": {
      "text/html": [
       "<div>\n",
       "<table border=\"1\" class=\"dataframe\">\n",
       "  <thead>\n",
       "    <tr style=\"text-align: right;\">\n",
       "      <th></th>\n",
       "      <th>0</th>\n",
       "    </tr>\n",
       "  </thead>\n",
       "  <tbody>\n",
       "    <tr>\n",
       "      <th>count</th>\n",
       "      <td>326825.000000</td>\n",
       "    </tr>\n",
       "    <tr>\n",
       "      <th>mean</th>\n",
       "      <td>84.572294</td>\n",
       "    </tr>\n",
       "    <tr>\n",
       "      <th>std</th>\n",
       "      <td>2305.087141</td>\n",
       "    </tr>\n",
       "    <tr>\n",
       "      <th>min</th>\n",
       "      <td>1.000000</td>\n",
       "    </tr>\n",
       "    <tr>\n",
       "      <th>25%</th>\n",
       "      <td>1.000000</td>\n",
       "    </tr>\n",
       "    <tr>\n",
       "      <th>50%</th>\n",
       "      <td>3.000000</td>\n",
       "    </tr>\n",
       "    <tr>\n",
       "      <th>75%</th>\n",
       "      <td>7.000000</td>\n",
       "    </tr>\n",
       "    <tr>\n",
       "      <th>max</th>\n",
       "      <td>714779.000000</td>\n",
       "    </tr>\n",
       "  </tbody>\n",
       "</table>\n",
       "</div>"
      ],
      "text/plain": [
       "                   0\n",
       "count  326825.000000\n",
       "mean       84.572294\n",
       "std      2305.087141\n",
       "min         1.000000\n",
       "25%         1.000000\n",
       "50%         3.000000\n",
       "75%         7.000000\n",
       "max    714779.000000"
      ]
     },
     "execution_count": 49,
     "metadata": {},
     "output_type": "execute_result"
    }
   ],
   "source": [
    "df.describe()"
   ]
  },
  {
   "cell_type": "code",
   "execution_count": 103,
   "metadata": {
    "collapsed": false
   },
   "outputs": [
    {
     "data": {
      "text/html": [
       "<div>\n",
       "<table border=\"1\" class=\"dataframe\">\n",
       "  <thead>\n",
       "    <tr style=\"text-align: right;\">\n",
       "      <th></th>\n",
       "      <th>0</th>\n",
       "    </tr>\n",
       "  </thead>\n",
       "  <tbody>\n",
       "    <tr>\n",
       "      <th>unbread</th>\n",
       "      <td>1</td>\n",
       "    </tr>\n",
       "    <tr>\n",
       "      <th>didja</th>\n",
       "      <td>7</td>\n",
       "    </tr>\n",
       "    <tr>\n",
       "      <th>samaya</th>\n",
       "      <td>10</td>\n",
       "    </tr>\n",
       "    <tr>\n",
       "      <th>creepier</th>\n",
       "      <td>3</td>\n",
       "    </tr>\n",
       "    <tr>\n",
       "      <th>chewbacca</th>\n",
       "      <td>92</td>\n",
       "    </tr>\n",
       "    <tr>\n",
       "      <th>everythihng</th>\n",
       "      <td>2</td>\n",
       "    </tr>\n",
       "    <tr>\n",
       "      <th>acribad</th>\n",
       "      <td>1</td>\n",
       "    </tr>\n",
       "    <tr>\n",
       "      <th>kempo</th>\n",
       "      <td>1</td>\n",
       "    </tr>\n",
       "    <tr>\n",
       "      <th>methylcyanid</th>\n",
       "      <td>1</td>\n",
       "    </tr>\n",
       "    <tr>\n",
       "      <th>qualidad</th>\n",
       "      <td>2</td>\n",
       "    </tr>\n",
       "  </tbody>\n",
       "</table>\n",
       "</div>"
      ],
      "text/plain": [
       "               0\n",
       "unbread        1\n",
       "didja          7\n",
       "samaya        10\n",
       "creepier       3\n",
       "chewbacca     92\n",
       "everythihng    2\n",
       "acribad        1\n",
       "kempo          1\n",
       "methylcyanid   1\n",
       "qualidad       2"
      ]
     },
     "execution_count": 103,
     "metadata": {},
     "output_type": "execute_result"
    }
   ],
   "source": [
    "df.tail(10)"
   ]
  },
  {
   "cell_type": "code",
   "execution_count": 51,
   "metadata": {
    "collapsed": false
   },
   "outputs": [
    {
     "data": {
      "text/plain": [
       "16299"
      ]
     },
     "execution_count": 51,
     "metadata": {},
     "output_type": "execute_result"
    }
   ],
   "source": [
    "len(df[df[0] >= 85])"
   ]
  },
  {
   "cell_type": "code",
   "execution_count": 52,
   "metadata": {
    "collapsed": true
   },
   "outputs": [],
   "source": [
    "stayWords = set()\n",
    "for word, num in answerTerm_count.items():\n",
    "    if num >= 85:\n",
    "        stayWords.add(word)"
   ]
  },
  {
   "cell_type": "code",
   "execution_count": 53,
   "metadata": {
    "collapsed": false
   },
   "outputs": [
    {
     "data": {
      "text/plain": [
       "16299"
      ]
     },
     "execution_count": 53,
     "metadata": {},
     "output_type": "execute_result"
    }
   ],
   "source": [
    "len(stayWords)"
   ]
  },
  {
   "cell_type": "code",
   "execution_count": 54,
   "metadata": {
    "collapsed": false
   },
   "outputs": [
    {
     "data": {
      "text/plain": [
       "['walmart',\n",
       " 'womb',\n",
       " 'holi',\n",
       " 'loweri',\n",
       " 'tipton',\n",
       " 'wt',\n",
       " 'vida',\n",
       " 'diagnost',\n",
       " 'mitt',\n",
       " 'buggi']"
      ]
     },
     "execution_count": 54,
     "metadata": {},
     "output_type": "execute_result"
    }
   ],
   "source": [
    "list(stayWords)[:10]"
   ]
  },
  {
   "cell_type": "code",
   "execution_count": 106,
   "metadata": {
    "collapsed": false
   },
   "outputs": [],
   "source": [
    "def puntutaion_clear(answer):\n",
    "    return answer.replace(\"#\", \"\").strip()\n",
    "\n",
    "p = re.compile(\"\\d+(.[\\d]+)?\")\n",
    "p2 = re.compile(\"(number.number\\s*){2,}\")\n",
    "def number_replace(answer):\n",
    "    res = p.sub(\"number.number\", answer)\n",
    "    res = p2.sub(\"number.number \", res)\n",
    "    return res\n",
    "\n",
    "moreSpacePat = re.compile(\"\\s{2,}\")\n",
    "def uniqueWords_moreSpace_filter(answer):\n",
    "    a_clean = []\n",
    "    answer = moreSpacePat.sub(\" \", answer)\n",
    "    a_terms = [term for term in answer.strip().split() if len(term) > 1]\n",
    "    return ' '.join(a_terms)\n",
    "    \"\"\"\n",
    "    return answer\n",
    "    \"\"\"\n",
    "\n",
    "def remove_lessWordsNotInQuery(query, answer):\n",
    "    q_terms = query.split()\n",
    "    a_terms = answer.split()\n",
    "    a_clean = []\n",
    "    for term in a_terms:\n",
    "        if \".\" in term:\n",
    "            a_clean.append(term)\n",
    "        elif term in q_terms:\n",
    "            a_clean.append(term)\n",
    "        else:\n",
    "            if term in stayWords:\n",
    "                a_clean.append(term)\n",
    "    rs_clean = ' '.join(a_clean)\n",
    "    return rs_clean\n",
    "\n",
    "def pre_process(query, answer):\n",
    "    try:\n",
    "        rs = puntutaion_clear(answer)\n",
    "        rs = number_replace(rs)\n",
    "        rs = uniqueWords_moreSpace_filter(rs)\n",
    "        rs = remove_lessWordsNotInQuery(query, rs)\n",
    "    except:\n",
    "        return \"{0}\\t{1}\".format(\"except\", answer)\n",
    "    return rs  "
   ]
  },
  {
   "cell_type": "code",
   "execution_count": 107,
   "metadata": {
    "collapsed": false
   },
   "outputs": [
    {
     "data": {
      "text/plain": [
       "'data/qa_slot.tsv'"
      ]
     },
     "execution_count": 107,
     "metadata": {},
     "output_type": "execute_result"
    }
   ],
   "source": [
    "fn"
   ]
  },
  {
   "cell_type": "code",
   "execution_count": 108,
   "metadata": {
    "collapsed": true
   },
   "outputs": [],
   "source": [
    "query = \"music.album need onlin privat english teacher\"\n",
    "answer = \"# r # n # get samaya visual_art.artwork\""
   ]
  },
  {
   "cell_type": "code",
   "execution_count": 109,
   "metadata": {
    "collapsed": false
   },
   "outputs": [
    {
     "data": {
      "text/plain": [
       "'get visual_art.artwork'"
      ]
     },
     "execution_count": 109,
     "metadata": {},
     "output_type": "execute_result"
    }
   ],
   "source": [
    "pre_process(query, answer)"
   ]
  },
  {
   "cell_type": "code",
   "execution_count": 124,
   "metadata": {
    "collapsed": false
   },
   "outputs": [],
   "source": [
    "fin = 'data/qa_slot.tsv'\n",
    "fout = 'data/qa_answerpat.tsv'\n",
    "answer_pats = []\n",
    "qp2ap = {}\n",
    "def clean_pattern(fin, fout):\n",
    "    global answer_pats\n",
    "    global qp2ap\n",
    "    fr = open(fin, 'r', encoding='utf-8')\n",
    "    fw = open(fout, 'w', encoding='utf-8')\n",
    "    for line in fr:\n",
    "        arr = line.strip().split('\\t')\n",
    "        q = arr[0]\n",
    "        a = arr[1]\n",
    "        a_pat = pre_process(q, a)\n",
    "        answer_pats.append(a_pat)\n",
    "        if q not in qp2ap:\n",
    "            qp2ap[q] = {}\n",
    "        if a_pat not in qp2ap[q]:\n",
    "            qp2ap[q][a_pat] = 0\n",
    "        qp2ap[q][a_pat] += 1\n",
    "        fw.write(\"{0}\\{1}\".format(line.strip(), a_pat))\n",
    "    fr.close()\n",
    "    fw.close()\n",
    "\n",
    "clean_pattern(fin, fout)"
   ]
  },
  {
   "cell_type": "code",
   "execution_count": 157,
   "metadata": {
    "collapsed": true
   },
   "outputs": [],
   "source": [
    "def cmp_value(ele):\n",
    "    return ele[1]\n",
    "def top_commonPats(dic, point):\n",
    "    top_pats = []\n",
    "    dic_sort = sorted(dic.items(), key=cmp_value, reverse=True)\n",
    "    ac_par = 0.0\n",
    "    all_num = 0.0\n",
    "    for item, num in dic_sort:\n",
    "        all_num += num\n",
    "    for item, num in dic_sort:\n",
    "        ac_par += num / all_num\n",
    "        top_pats.append(item)\n",
    "        if(ac_par >= point):\n",
    "            break\n",
    "    return top_pats\n",
    "\n",
    "dic = {\"a\": 2, \"b\": 3, \"c\":1}\n",
    "    "
   ]
  },
  {
   "cell_type": "code",
   "execution_count": 158,
   "metadata": {
    "collapsed": false
   },
   "outputs": [],
   "source": [
    "dic_sort = top_commonPats(dic, 1.0)"
   ]
  },
  {
   "cell_type": "code",
   "execution_count": 159,
   "metadata": {
    "collapsed": false
   },
   "outputs": [
    {
     "name": "stdout",
     "output_type": "stream",
     "text": [
      "['b', 'a', 'c']\n"
     ]
    }
   ],
   "source": [
    "print(dic_sort)"
   ]
  },
  {
   "cell_type": "code",
   "execution_count": 161,
   "metadata": {
    "collapsed": false
   },
   "outputs": [],
   "source": [
    "fw = open(\"data/qa_topcommon_answerpat.tsv\", 'w', encoding='utf-8')\n",
    "for q_pat, a_pat_num in qp2ap.items():\n",
    "    top_common_pat = top_commonPats(a_pat_num, 0.8)\n",
    "    fw.write(\"{0}\\t{1}\\n\".format(q_pat, '\\t'.join(top_common_pat)))\n",
    "fw.close()"
   ]
  },
  {
   "cell_type": "code",
   "execution_count": null,
   "metadata": {
    "collapsed": true
   },
   "outputs": [],
   "source": []
  },
  {
   "cell_type": "code",
   "execution_count": null,
   "metadata": {
    "collapsed": true
   },
   "outputs": [],
   "source": []
  },
  {
   "cell_type": "code",
   "execution_count": 127,
   "metadata": {
    "collapsed": false
   },
   "outputs": [
    {
     "ename": "AttributeError",
     "evalue": "'str' object has no attribute 'value'",
     "output_type": "error",
     "traceback": [
      "\u001b[1;31m---------------------------------------------------------------------------\u001b[0m",
      "\u001b[1;31mAttributeError\u001b[0m                            Traceback (most recent call last)",
      "\u001b[1;32m<ipython-input-127-4140d764a141>\u001b[0m in \u001b[0;36m<module>\u001b[1;34m()\u001b[0m\n\u001b[1;32m----> 1\u001b[1;33m \u001b[0msort_dic\u001b[0m \u001b[1;33m=\u001b[0m \u001b[0mmostCommonPat\u001b[0m\u001b[1;33m(\u001b[0m\u001b[0mdic\u001b[0m\u001b[1;33m,\u001b[0m \u001b[1;36m0.3\u001b[0m\u001b[1;33m)\u001b[0m\u001b[1;33m\u001b[0m\u001b[0m\n\u001b[0m",
      "\u001b[1;32m<ipython-input-126-2db75a612972>\u001b[0m in \u001b[0;36mmostCommonPat\u001b[1;34m(dic, port)\u001b[0m\n\u001b[0;32m      2\u001b[0m     \u001b[1;32mreturn\u001b[0m \u001b[0mele\u001b[0m\u001b[1;33m.\u001b[0m\u001b[0mvalue\u001b[0m\u001b[1;33m\u001b[0m\u001b[0m\n\u001b[0;32m      3\u001b[0m \u001b[1;32mdef\u001b[0m \u001b[0mmostCommonPat\u001b[0m\u001b[1;33m(\u001b[0m\u001b[0mdic\u001b[0m\u001b[1;33m,\u001b[0m \u001b[0mport\u001b[0m\u001b[1;33m)\u001b[0m\u001b[1;33m:\u001b[0m\u001b[1;33m\u001b[0m\u001b[0m\n\u001b[1;32m----> 4\u001b[1;33m     \u001b[0mdic_sort\u001b[0m \u001b[1;33m=\u001b[0m \u001b[0msorted\u001b[0m\u001b[1;33m(\u001b[0m\u001b[0mdic\u001b[0m\u001b[1;33m,\u001b[0m \u001b[0mkey\u001b[0m\u001b[1;33m=\u001b[0m\u001b[0mcmp_value\u001b[0m\u001b[1;33m)\u001b[0m\u001b[1;33m\u001b[0m\u001b[0m\n\u001b[0m\u001b[0;32m      5\u001b[0m     \u001b[1;32mreturn\u001b[0m  \u001b[0mdic_sort\u001b[0m\u001b[1;33m\u001b[0m\u001b[0m\n\u001b[0;32m      6\u001b[0m \u001b[1;33m\u001b[0m\u001b[0m\n",
      "\u001b[1;32m<ipython-input-126-2db75a612972>\u001b[0m in \u001b[0;36mcmp_value\u001b[1;34m(ele)\u001b[0m\n\u001b[0;32m      1\u001b[0m \u001b[1;32mdef\u001b[0m \u001b[0mcmp_value\u001b[0m\u001b[1;33m(\u001b[0m\u001b[0mele\u001b[0m\u001b[1;33m)\u001b[0m\u001b[1;33m:\u001b[0m\u001b[1;33m\u001b[0m\u001b[0m\n\u001b[1;32m----> 2\u001b[1;33m     \u001b[1;32mreturn\u001b[0m \u001b[0mele\u001b[0m\u001b[1;33m.\u001b[0m\u001b[0mvalue\u001b[0m\u001b[1;33m\u001b[0m\u001b[0m\n\u001b[0m\u001b[0;32m      3\u001b[0m \u001b[1;32mdef\u001b[0m \u001b[0mmostCommonPat\u001b[0m\u001b[1;33m(\u001b[0m\u001b[0mdic\u001b[0m\u001b[1;33m,\u001b[0m \u001b[0mport\u001b[0m\u001b[1;33m)\u001b[0m\u001b[1;33m:\u001b[0m\u001b[1;33m\u001b[0m\u001b[0m\n\u001b[0;32m      4\u001b[0m     \u001b[0mdic_sort\u001b[0m \u001b[1;33m=\u001b[0m \u001b[0msorted\u001b[0m\u001b[1;33m(\u001b[0m\u001b[0mdic\u001b[0m\u001b[1;33m,\u001b[0m \u001b[0mkey\u001b[0m\u001b[1;33m=\u001b[0m\u001b[0mcmp_value\u001b[0m\u001b[1;33m)\u001b[0m\u001b[1;33m\u001b[0m\u001b[0m\n\u001b[0;32m      5\u001b[0m     \u001b[1;32mreturn\u001b[0m  \u001b[0mdic_sort\u001b[0m\u001b[1;33m\u001b[0m\u001b[0m\n",
      "\u001b[1;31mAttributeError\u001b[0m: 'str' object has no attribute 'value'"
     ]
    }
   ],
   "source": [
    "sort_dic = mostCommonPat(dic, 0.3)"
   ]
  },
  {
   "cell_type": "code",
   "execution_count": 117,
   "metadata": {
    "collapsed": false
   },
   "outputs": [],
   "source": [
    "from collections import Counter"
   ]
  },
  {
   "cell_type": "code",
   "execution_count": 120,
   "metadata": {
    "collapsed": false
   },
   "outputs": [
    {
     "data": {
      "text/plain": [
       "['ammo code unlimit ammo cvg.game_series number.number',\n",
       " 'ammo code unlimit ammo cvg.computer_videogame number.number',\n",
       " 'ammo code unlimit ammo cvg.game_series number.number',\n",
       " 'ammo code unlimit ammo cvg.computer_videogame number.number',\n",
       " 'carbohydr glycogen media_common.creative_work',\n",
       " 'carbohydr glycogen media_common.creative_work',\n",
       " 'carmelo number.number carmelo twitter people.person nba',\n",
       " 'film.film code film.film game cvg.computer_videogame',\n",
       " 'instagram account chloe award.winner thank use chacha',\n",
       " 'instagram account chloe tv.program thank use chacha']"
      ]
     },
     "execution_count": 120,
     "metadata": {},
     "output_type": "execute_result"
    }
   ],
   "source": [
    "answer_pats[:10]"
   ]
  },
  {
   "cell_type": "code",
   "execution_count": 121,
   "metadata": {
    "collapsed": true
   },
   "outputs": [],
   "source": [
    "pat_num = Counter(answer_pats)"
   ]
  },
  {
   "cell_type": "code",
   "execution_count": 122,
   "metadata": {
    "collapsed": false
   },
   "outputs": [
    {
     "data": {
      "text/plain": [
       "[('people.person', 68261),\n",
       " ('people.person born number.number', 57092),\n",
       " ('sports.pro_athlete born number.number', 37932),\n",
       " ('soccer.player born number.number', 28503),\n",
       " ('people.person die number.number', 28020),\n",
       " ('music.artist', 22369),\n",
       " ('music.track', 20723),\n",
       " ('location.location', 20053),\n",
       " ('people.person die time.day_of_year number.number organization.organization number.number',\n",
       "  18024),\n",
       " ('people.person born time.day_of_year number.number', 14777)]"
      ]
     },
     "execution_count": 122,
     "metadata": {},
     "output_type": "execute_result"
    }
   ],
   "source": [
    "pat_num.most_common(10)"
   ]
  },
  {
   "cell_type": "code",
   "execution_count": null,
   "metadata": {
    "collapsed": true
   },
   "outputs": [],
   "source": [
    "\n"
   ]
  },
  {
   "cell_type": "code",
   "execution_count": null,
   "metadata": {
    "collapsed": true
   },
   "outputs": [],
   "source": []
  },
  {
   "cell_type": "code",
   "execution_count": null,
   "metadata": {
    "collapsed": true
   },
   "outputs": [],
   "source": []
  },
  {
   "cell_type": "code",
   "execution_count": null,
   "metadata": {
    "collapsed": true
   },
   "outputs": [],
   "source": []
  },
  {
   "cell_type": "code",
   "execution_count": 8,
   "metadata": {
    "collapsed": true
   },
   "outputs": [],
   "source": [
    "fn = \"data/RankingL3Score.tsv\""
   ]
  },
  {
   "cell_type": "code",
   "execution_count": 9,
   "metadata": {
    "collapsed": true
   },
   "outputs": [],
   "source": [
    "fr = open(fn, 'r', encoding='utf-8')"
   ]
  },
  {
   "cell_type": "code",
   "execution_count": 14,
   "metadata": {
    "collapsed": false
   },
   "outputs": [],
   "source": [
    "fr.seek(0, 0)\n",
    "queryset = set()\n",
    "for idx, line in enumerate(fr):\n",
    "    arr = line.strip().split('\\t')\n",
    "    query = arr[4]\n",
    "    queryset.add(query)\n",
    "fr.close()"
   ]
  },
  {
   "cell_type": "code",
   "execution_count": 15,
   "metadata": {
    "collapsed": false
   },
   "outputs": [
    {
     "data": {
      "text/plain": [
       "753"
      ]
     },
     "execution_count": 15,
     "metadata": {},
     "output_type": "execute_result"
    }
   ],
   "source": [
    "len(queryset)"
   ]
  },
  {
   "cell_type": "code",
   "execution_count": 16,
   "metadata": {
    "collapsed": true
   },
   "outputs": [],
   "source": [
    "fr = open(\"data/queryInput.tsv\", 'r', encoding='utf-8')"
   ]
  },
  {
   "cell_type": "code",
   "execution_count": 17,
   "metadata": {
    "collapsed": true
   },
   "outputs": [],
   "source": [
    "lines = fr.readlines()"
   ]
  },
  {
   "cell_type": "code",
   "execution_count": 18,
   "metadata": {
    "collapsed": false
   },
   "outputs": [
    {
     "data": {
      "text/plain": [
       "2553"
      ]
     },
     "execution_count": 18,
     "metadata": {},
     "output_type": "execute_result"
    }
   ],
   "source": [
    "len(lines)"
   ]
  },
  {
   "cell_type": "code",
   "execution_count": 19,
   "metadata": {
    "collapsed": false
   },
   "outputs": [
    {
     "data": {
      "text/plain": [
       "0.29494712103407755"
      ]
     },
     "execution_count": 19,
     "metadata": {},
     "output_type": "execute_result"
    }
   ],
   "source": [
    "753/2553"
   ]
  },
  {
   "cell_type": "code",
   "execution_count": 20,
   "metadata": {
    "collapsed": true
   },
   "outputs": [],
   "source": [
    "%magic\n"
   ]
  },
  {
   "cell_type": "code",
   "execution_count": 25,
   "metadata": {
    "collapsed": false
   },
   "outputs": [
    {
     "name": "stdout",
     "output_type": "stream",
     "text": [
      "m:Query\n"
     ]
    }
   ],
   "source": [
    "query_set = set()\n",
    "with open(\"data/TopData.tsv\", 'r', encoding='utf-8') as fr:\n",
    "    fr.seek(0, 0)\n",
    "    print(fr.readline().split('\\t')[4])\n",
    "    query_set = set([line.split('\\t')[4] for line in fr.readlines()])\n"
   ]
  },
  {
   "cell_type": "code",
   "execution_count": 28,
   "metadata": {
    "collapsed": false
   },
   "outputs": [
    {
     "data": {
      "text/plain": [
       "2266"
      ]
     },
     "execution_count": 28,
     "metadata": {},
     "output_type": "execute_result"
    }
   ],
   "source": [
    "len(query_set)"
   ]
  },
  {
   "cell_type": "code",
   "execution_count": 29,
   "metadata": {
    "collapsed": true
   },
   "outputs": [],
   "source": [
    "fn = 'data/qa_slot.tsv'"
   ]
  },
  {
   "cell_type": "code",
   "execution_count": 30,
   "metadata": {
    "collapsed": true
   },
   "outputs": [],
   "source": [
    "fr = open(fn, 'r', encoding='utf-8')"
   ]
  },
  {
   "cell_type": "code",
   "execution_count": 32,
   "metadata": {
    "collapsed": false
   },
   "outputs": [
    {
     "name": "stdout",
     "output_type": "stream",
     "text": [
      "people.person produc choos lose\t# people.person play russian roulett fulli load gun thank chacha\n",
      "people.person produc choos lose\t# martial_arts.martial_artist play russian roulett fulli load gun thank chacha\n",
      "martial_arts.martial_artist produc choos lose\t# people.person play russian roulett fulli load gun thank chacha\n",
      "martial_arts.martial_artist produc choos lose\t# martial_arts.martial_artist play russian roulett fulli load gun thank chacha\n",
      "find largest algorithm music.artist plu\tmusic.group business.operation b b b\n",
      "find largest algorithm music.artist plu\tmusic.group organization.organization b b b\n",
      "formula radiu book.book\tmusic.group pi 3 1416 int r area area 2 pi r\n",
      "divid two number music.track macro\tmusic.group total num fft int sampl fft size\n",
      "music.single react film.film\t# film.film\n",
      "common preprocessor direct music.track c program\t# includ # r # n music.group\n",
      "simpl sampl gotoxi music.artist plu\t# includ conio h gotoxi 1 1 cprintf music.artist corner\n"
     ]
    }
   ],
   "source": [
    "for idx, line in enumerate(fr):\n",
    "    if idx > 10:\n",
    "        break\n",
    "    print(line.strip())"
   ]
  },
  {
   "cell_type": "code",
   "execution_count": 162,
   "metadata": {
    "collapsed": true
   },
   "outputs": [],
   "source": [
    "fn = \"data/outputFile from DistinctLines.tsv\""
   ]
  },
  {
   "cell_type": "code",
   "execution_count": null,
   "metadata": {
    "collapsed": true
   },
   "outputs": [],
   "source": []
  }
 ],
 "metadata": {
  "anaconda-cloud": {
   "environment": null,
   "summary": "AnswerPatternMining",
   "url": "https://anaconda.org/frankliu/malta_non_production_features"
  },
  "kernelspec": {
   "display_name": "Python [Root]",
   "language": "python",
   "name": "Python [Root]"
  },
  "language_info": {
   "codemirror_mode": {
    "name": "ipython",
    "version": 3
   },
   "file_extension": ".py",
   "mimetype": "text/x-python",
   "name": "python",
   "nbconvert_exporter": "python",
   "pygments_lexer": "ipython3",
   "version": "3.5.2"
  }
 },
 "nbformat": 4,
 "nbformat_minor": 0
}
