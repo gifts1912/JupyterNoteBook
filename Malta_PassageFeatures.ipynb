{
 "cells": [
  {
   "cell_type": "code",
   "execution_count": 1,
   "metadata": {
    "collapsed": true
   },
   "outputs": [],
   "source": [
    "fn = \"./data/trainDataFeatures_potentialQuerySet.tsv\""
   ]
  },
  {
   "cell_type": "code",
   "execution_count": 2,
   "metadata": {
    "collapsed": true
   },
   "outputs": [],
   "source": [
    "import os\n",
    "import pandas as pd\n",
    "import numpy as np\n"
   ]
  },
  {
   "cell_type": "code",
   "execution_count": 3,
   "metadata": {
    "collapsed": true
   },
   "outputs": [],
   "source": [
    "train = [line.strip() for line in open(fn, 'r', encoding='utf-8')]\n"
   ]
  },
  {
   "cell_type": "code",
   "execution_count": 4,
   "metadata": {
    "collapsed": false
   },
   "outputs": [
    {
     "data": {
      "text/plain": [
       "259667"
      ]
     },
     "execution_count": 4,
     "metadata": {},
     "output_type": "execute_result"
    }
   ],
   "source": [
    "len(train)"
   ]
  },
  {
   "cell_type": "code",
   "execution_count": 5,
   "metadata": {
    "collapsed": true
   },
   "outputs": [],
   "source": [
    "h = train[0]"
   ]
  },
  {
   "cell_type": "code",
   "execution_count": 6,
   "metadata": {
    "collapsed": false
   },
   "outputs": [
    {
     "data": {
      "text/plain": [
       "'m:QueryId\\tPassageID\\tm:Rating\\tQuery\\tUrl\\tPassage\\tXini_60\\tNERClassifierConf\\tNERCount\\tL3PassageRankerScoreL1\\tL3PassageRankerScoreL2\\tL3PassageBinaryRankerScore'"
      ]
     },
     "execution_count": 6,
     "metadata": {},
     "output_type": "execute_result"
    }
   ],
   "source": [
    "h"
   ]
  },
  {
   "cell_type": "code",
   "execution_count": 7,
   "metadata": {
    "collapsed": true
   },
   "outputs": [],
   "source": [
    "fn2=\"./data/trainDataFreatures_online.tsv\"\n",
    "train_online = [line.strip() for line in open(fn2, 'r', encoding='utf-8')]"
   ]
  },
  {
   "cell_type": "code",
   "execution_count": 29,
   "metadata": {
    "collapsed": false
   },
   "outputs": [
    {
     "data": {
      "text/plain": [
       "'Query\\tUrl\\tTitle'"
      ]
     },
     "execution_count": 29,
     "metadata": {},
     "output_type": "execute_result"
    }
   ],
   "source": [
    "train_online[0]"
   ]
  },
  {
   "cell_type": "code",
   "execution_count": 30,
   "metadata": {
    "collapsed": false
   },
   "outputs": [
    {
     "data": {
      "text/plain": [
       "['querypassage_trainseed.tsv',\n",
       " 'trainData.tsv',\n",
       " 'trainDataFeatures_potentialQuerySet.tsv',\n",
       " 'trainDataFreatures_online.tsv']"
      ]
     },
     "execution_count": 30,
     "metadata": {},
     "output_type": "execute_result"
    }
   ],
   "source": [
    "os.listdir(\"./data/\")"
   ]
  },
  {
   "cell_type": "code",
   "execution_count": 31,
   "metadata": {
    "collapsed": false
   },
   "outputs": [
    {
     "ename": "FileNotFoundError",
     "evalue": "[WinError 2] The system cannot find the file specified: './data/trainDataFreatures_online.tsv.gz'",
     "output_type": "error",
     "traceback": [
      "\u001b[1;31m---------------------------------------------------------------------------\u001b[0m",
      "\u001b[1;31mFileNotFoundError\u001b[0m                         Traceback (most recent call last)",
      "\u001b[1;32m<ipython-input-31-94eda99544e7>\u001b[0m in \u001b[0;36m<module>\u001b[1;34m()\u001b[0m\n\u001b[1;32m----> 1\u001b[1;33m \u001b[0mos\u001b[0m\u001b[1;33m.\u001b[0m\u001b[0mremove\u001b[0m\u001b[1;33m(\u001b[0m\u001b[1;34m'./data/trainDataFreatures_online.tsv.gz'\u001b[0m\u001b[1;33m)\u001b[0m\u001b[1;33m\u001b[0m\u001b[0m\n\u001b[0m",
      "\u001b[1;31mFileNotFoundError\u001b[0m: [WinError 2] The system cannot find the file specified: './data/trainDataFreatures_online.tsv.gz'"
     ]
    }
   ],
   "source": [
    "os.remove('./data/trainDataFreatures_online.tsv.gz')"
   ]
  },
  {
   "cell_type": "code",
   "execution_count": 32,
   "metadata": {
    "collapsed": true
   },
   "outputs": [],
   "source": [
    "train_feas_online= [line.strip() for line in open('./data/trainDataFreatures_online.tsv', 'r', encoding='utf-8')]"
   ]
  },
  {
   "cell_type": "code",
   "execution_count": 33,
   "metadata": {
    "collapsed": false
   },
   "outputs": [
    {
     "data": {
      "text/plain": [
       "259668"
      ]
     },
     "execution_count": 33,
     "metadata": {},
     "output_type": "execute_result"
    }
   ],
   "source": [
    "len(train_feas_online)"
   ]
  },
  {
   "cell_type": "code",
   "execution_count": 34,
   "metadata": {
    "collapsed": true
   },
   "outputs": [],
   "source": [
    "queries = set([line.split('\\t')[0] for line in train_feas_online])"
   ]
  },
  {
   "cell_type": "code",
   "execution_count": 37,
   "metadata": {
    "collapsed": false
   },
   "outputs": [
    {
     "name": "stdout",
     "output_type": "stream",
     "text": [
      "much property insurance cost\n",
      "enable camera windows 8\n",
      "asystole\n",
      "list teams played premier league\n",
      "pcl tear\n",
      "spoa case management application\n",
      "molecular pathogenesis\n",
      "replacing alternator\n",
      "1984 take place\n",
      "tropical savanna plants\n",
      "long wait payment ebay\n",
      "linear speed\n"
     ]
    }
   ],
   "source": [
    "i = 0\n",
    "for q in queries:\n",
    "    print(q)\n",
    "    if (i > 10):\n",
    "        break\n",
    "    i += 1\n",
    "    "
   ]
  },
  {
   "cell_type": "code",
   "execution_count": 42,
   "metadata": {
    "collapsed": false
   },
   "outputs": [
    {
     "data": {
      "text/plain": [
       "2554"
      ]
     },
     "execution_count": 42,
     "metadata": {},
     "output_type": "execute_result"
    }
   ],
   "source": [
    "len(queries)"
   ]
  },
  {
   "cell_type": "code",
   "execution_count": 22,
   "metadata": {
    "collapsed": false
   },
   "outputs": [],
   "source": [
    "train_feas_online_df = pd.read_table('./data/trainDataFreatures_online.tsv', sep = '\\t', header = 0)"
   ]
  },
  {
   "cell_type": "code",
   "execution_count": 38,
   "metadata": {
    "collapsed": false
   },
   "outputs": [
    {
     "data": {
      "text/plain": [
       "259667"
      ]
     },
     "execution_count": 38,
     "metadata": {},
     "output_type": "execute_result"
    }
   ],
   "source": [
    "len(train_feas_online_df)"
   ]
  },
  {
   "cell_type": "code",
   "execution_count": 43,
   "metadata": {
    "collapsed": false
   },
   "outputs": [
    {
     "data": {
      "text/plain": [
       "Index(['Query', 'Url', 'PassageId', 'Passage',\n",
       "       'MaxFromDocumentTranslation_Passage-Body-PassageData1201-20151206.Exp_0_0',\n",
       "       'MaxFromDocumentTranslation_Passage-Body-PassageData1201-20151206.Exp_1_0',\n",
       "       'MaxFromDocumentTranslation_Passage-Body-PassageData1201-20151206.Exp_2_0',\n",
       "       'MaxFromDocumentTranslation_Passage-Body-PassageData1201-20151206.Exp_3_0',\n",
       "       'MaxFromDocumentTranslation_Passage-Body-PassageData1201-20151206.Exp_4_0',\n",
       "       'MaxFromDocumentTranslation_Passage-HeadingBase-PassageData1201-20151205.Exp_0_0',\n",
       "       ...\n",
       "       'AdvancedPreferFeature_1520', 'AdvancedPreferFeature_1521',\n",
       "       'AdvancedPreferFeature_1522', 'AdvancedPreferFeature_1523',\n",
       "       'AdvancedPreferFeature_1524', 'AdvancedPreferFeature_1854',\n",
       "       'AdvancedPreferFeature_1855', 'Xini_60', 'm_sortedPosition',\n",
       "       'm_tlaRerankScore'],\n",
       "      dtype='object', length=304)"
      ]
     },
     "execution_count": 43,
     "metadata": {},
     "output_type": "execute_result"
    }
   ],
   "source": [
    "train_feas_online_df.columns"
   ]
  },
  {
   "cell_type": "code",
   "execution_count": 44,
   "metadata": {
    "collapsed": false
   },
   "outputs": [],
   "source": [
    "qp = train_feas_online_df.loc[:, [\"Query\", \"Passage\"]]"
   ]
  },
  {
   "cell_type": "code",
   "execution_count": 45,
   "metadata": {
    "collapsed": false
   },
   "outputs": [
    {
     "data": {
      "text/plain": [
       "259667"
      ]
     },
     "execution_count": 45,
     "metadata": {},
     "output_type": "execute_result"
    }
   ],
   "source": [
    "len(qp)"
   ]
  },
  {
   "cell_type": "code",
   "execution_count": 49,
   "metadata": {
    "collapsed": false
   },
   "outputs": [
    {
     "data": {
      "text/html": [
       "<div>\n",
       "<table border=\"1\" class=\"dataframe\">\n",
       "  <thead>\n",
       "    <tr style=\"text-align: right;\">\n",
       "      <th></th>\n",
       "      <th>Query</th>\n",
       "      <th>Passage</th>\n",
       "    </tr>\n",
       "  </thead>\n",
       "  <tbody>\n",
       "    <tr>\n",
       "      <th>0</th>\n",
       "      <td>imperial rivalries</td>\n",
       "      <td>by Fox Hunte. The situation of pre- 1914 Europ...</td>\n",
       "    </tr>\n",
       "    <tr>\n",
       "      <th>1</th>\n",
       "      <td>imperial rivalries</td>\n",
       "      <td>(idea). by Fox Hunte. The situation of pre- 19...</td>\n",
       "    </tr>\n",
       "    <tr>\n",
       "      <th>2</th>\n",
       "      <td>imperial rivalries</td>\n",
       "      <td>Colonial Rivalries. After 1870, the European n...</td>\n",
       "    </tr>\n",
       "    <tr>\n",
       "      <th>3</th>\n",
       "      <td>imperial rivalries</td>\n",
       "      <td>Imperial rivalries also increased the number p...</td>\n",
       "    </tr>\n",
       "    <tr>\n",
       "      <th>4</th>\n",
       "      <td>imperial rivalries</td>\n",
       "      <td>Colonial Rivalries. After 1870, the European n...</td>\n",
       "    </tr>\n",
       "    <tr>\n",
       "      <th>5</th>\n",
       "      <td>imperial rivalries</td>\n",
       "      <td>These Imperial rivalries intensified after the...</td>\n",
       "    </tr>\n",
       "    <tr>\n",
       "      <th>6</th>\n",
       "      <td>imperial rivalries</td>\n",
       "      <td>Here is a list of the more significant imperia...</td>\n",
       "    </tr>\n",
       "    <tr>\n",
       "      <th>7</th>\n",
       "      <td>imperial rivalries</td>\n",
       "      <td>Imperial Rivalry III: France &amp; England in the ...</td>\n",
       "    </tr>\n",
       "    <tr>\n",
       "      <th>8</th>\n",
       "      <td>imperial rivalries</td>\n",
       "      <td>Imperial Rivalry I: Spain &amp; England in the Car...</td>\n",
       "    </tr>\n",
       "    <tr>\n",
       "      <th>9</th>\n",
       "      <td>imperial rivalries</td>\n",
       "      <td>1. Imperial Rivalry I: Spain &amp; England in the ...</td>\n",
       "    </tr>\n",
       "  </tbody>\n",
       "</table>\n",
       "</div>"
      ],
      "text/plain": [
       "                Query                                            Passage\n",
       "0  imperial rivalries  by Fox Hunte. The situation of pre- 1914 Europ...\n",
       "1  imperial rivalries  (idea). by Fox Hunte. The situation of pre- 19...\n",
       "2  imperial rivalries  Colonial Rivalries. After 1870, the European n...\n",
       "3  imperial rivalries  Imperial rivalries also increased the number p...\n",
       "4  imperial rivalries  Colonial Rivalries. After 1870, the European n...\n",
       "5  imperial rivalries  These Imperial rivalries intensified after the...\n",
       "6  imperial rivalries  Here is a list of the more significant imperia...\n",
       "7  imperial rivalries  Imperial Rivalry III: France & England in the ...\n",
       "8  imperial rivalries  Imperial Rivalry I: Spain & England in the Car...\n",
       "9  imperial rivalries  1. Imperial Rivalry I: Spain & England in the ..."
      ]
     },
     "execution_count": 49,
     "metadata": {},
     "output_type": "execute_result"
    }
   ],
   "source": [
    "qp[:10]"
   ]
  },
  {
   "cell_type": "code",
   "execution_count": 60,
   "metadata": {
    "collapsed": false
   },
   "outputs": [],
   "source": [
    "qp_ol_set = set()\n",
    "for r in qp.values:\n",
    "    qp_ol_set.add('\\t'.join(r))"
   ]
  },
  {
   "cell_type": "code",
   "execution_count": 61,
   "metadata": {
    "collapsed": false
   },
   "outputs": [
    {
     "data": {
      "text/plain": [
       "257643"
      ]
     },
     "execution_count": 61,
     "metadata": {},
     "output_type": "execute_result"
    }
   ],
   "source": [
    "len(qp_ol_set)"
   ]
  },
  {
   "cell_type": "code",
   "execution_count": 62,
   "metadata": {
    "collapsed": false
   },
   "outputs": [
    {
     "data": {
      "text/plain": [
       "['querypassage_trainseed.tsv',\n",
       " 'trainData.tsv',\n",
       " 'trainDataFeatures_potentialQuerySet.tsv',\n",
       " 'trainDataFreatures_online.tsv']"
      ]
     },
     "execution_count": 62,
     "metadata": {},
     "output_type": "execute_result"
    }
   ],
   "source": [
    "os.listdir('./data/')"
   ]
  },
  {
   "cell_type": "code",
   "execution_count": 63,
   "metadata": {
    "collapsed": true
   },
   "outputs": [],
   "source": [
    "fr = open('./data/querypassage_trainseed.tsv', 'r', encoding='utf-8')"
   ]
  },
  {
   "cell_type": "code",
   "execution_count": 64,
   "metadata": {
    "collapsed": false
   },
   "outputs": [
    {
     "data": {
      "text/plain": [
       "'QueryText\\t PassageURL\\t PassageText\\t SourceTitle\\t Overal\\n'"
      ]
     },
     "execution_count": 64,
     "metadata": {},
     "output_type": "execute_result"
    }
   ],
   "source": [
    "fr.readline()"
   ]
  },
  {
   "cell_type": "code",
   "execution_count": 65,
   "metadata": {
    "collapsed": true
   },
   "outputs": [],
   "source": [
    "fr.close()\n"
   ]
  },
  {
   "cell_type": "code",
   "execution_count": 86,
   "metadata": {
    "collapsed": true
   },
   "outputs": [],
   "source": [
    "qp_seed_df = pd.read_table('./data/querypassage_trainseed.tsv', header=0, sep='\\t')"
   ]
  },
  {
   "cell_type": "code",
   "execution_count": 87,
   "metadata": {
    "collapsed": false
   },
   "outputs": [
    {
     "data": {
      "text/plain": [
       "5108"
      ]
     },
     "execution_count": 87,
     "metadata": {},
     "output_type": "execute_result"
    }
   ],
   "source": [
    "len(qp_seed_df)"
   ]
  },
  {
   "cell_type": "code",
   "execution_count": 91,
   "metadata": {
    "collapsed": false
   },
   "outputs": [
    {
     "data": {
      "text/plain": [
       "Index(['QueryText', ' PassageURL', ' PassageText', ' SourceTitle', ' Overal'], dtype='object')"
      ]
     },
     "execution_count": 91,
     "metadata": {},
     "output_type": "execute_result"
    }
   ],
   "source": [
    "qp_seed_df.columns"
   ]
  },
  {
   "cell_type": "code",
   "execution_count": 95,
   "metadata": {
    "collapsed": false
   },
   "outputs": [],
   "source": [
    "fr = open(\"./data/querypassage_trainseed.tsv\", 'r', encoding='utf-8')\n",
    "fr.readline()\n",
    "qp_seed_arr = [line.strip().split('\\t') for line in fr]"
   ]
  },
  {
   "cell_type": "code",
   "execution_count": 97,
   "metadata": {
    "collapsed": false
   },
   "outputs": [],
   "source": [
    "df = pd.DataFrame(qp_seed_arr, columns=['QueryText', ' PassageURL', ' PassageText', ' SourceTitle', ' Overal'])\n"
   ]
  },
  {
   "cell_type": "code",
   "execution_count": 103,
   "metadata": {
    "collapsed": false
   },
   "outputs": [
    {
     "data": {
      "text/html": [
       "<div>\n",
       "<table border=\"1\" class=\"dataframe\">\n",
       "  <thead>\n",
       "    <tr style=\"text-align: right;\">\n",
       "      <th></th>\n",
       "      <th>QueryText</th>\n",
       "      <th>PassageText</th>\n",
       "    </tr>\n",
       "  </thead>\n",
       "  <tbody>\n",
       "    <tr>\n",
       "      <th>0</th>\n",
       "      <td>how to activate imessage on iphone 6 plus</td>\n",
       "      <td>The following are guides on how to activate iM...</td>\n",
       "    </tr>\n",
       "    <tr>\n",
       "      <th>1</th>\n",
       "      <td>how to activate imessage on iphone 6 plus</td>\n",
       "      <td>The following are guides on how to activate iM...</td>\n",
       "    </tr>\n",
       "    <tr>\n",
       "      <th>2</th>\n",
       "      <td>water conflicts</td>\n",
       "      <td>Water Conflict. In an ongoing effort to unders...</td>\n",
       "    </tr>\n",
       "    <tr>\n",
       "      <th>3</th>\n",
       "      <td>installing windows 10 on vmware</td>\n",
       "      <td>Just installed Windows 10 to a Virtual Machine...</td>\n",
       "    </tr>\n",
       "    <tr>\n",
       "      <th>4</th>\n",
       "      <td>installing windows 10 on vmware</td>\n",
       "      <td>Just installed Windows 10 to a Virtual Machine...</td>\n",
       "    </tr>\n",
       "    <tr>\n",
       "      <th>5</th>\n",
       "      <td>how to season corn beef</td>\n",
       "      <td>Ladle some of the hot cooking liquid over the ...</td>\n",
       "    </tr>\n",
       "    <tr>\n",
       "      <th>6</th>\n",
       "      <td>morosely adj definition</td>\n",
       "      <td>LINK / CITE ADD TO WORD LIST. adjective. The d...</td>\n",
       "    </tr>\n",
       "    <tr>\n",
       "      <th>7</th>\n",
       "      <td>morosely adj definition</td>\n",
       "      <td>LINK / CITE ADD TO WORD LIST. adjective. The d...</td>\n",
       "    </tr>\n",
       "    <tr>\n",
       "      <th>8</th>\n",
       "      <td>average salary without college degree</td>\n",
       "      <td>Potential. Earning power with a bachelor's deg...</td>\n",
       "    </tr>\n",
       "    <tr>\n",
       "      <th>9</th>\n",
       "      <td>federal fiduciary definition</td>\n",
       "      <td>Fiduciary duty is a legal requirement of loyal...</td>\n",
       "    </tr>\n",
       "  </tbody>\n",
       "</table>\n",
       "</div>"
      ],
      "text/plain": [
       "                                   QueryText  \\\n",
       "0  how to activate imessage on iphone 6 plus   \n",
       "1  how to activate imessage on iphone 6 plus   \n",
       "2                            water conflicts   \n",
       "3            installing windows 10 on vmware   \n",
       "4            installing windows 10 on vmware   \n",
       "5                    how to season corn beef   \n",
       "6                    morosely adj definition   \n",
       "7                    morosely adj definition   \n",
       "8      average salary without college degree   \n",
       "9               federal fiduciary definition   \n",
       "\n",
       "                                         PassageText  \n",
       "0  The following are guides on how to activate iM...  \n",
       "1  The following are guides on how to activate iM...  \n",
       "2  Water Conflict. In an ongoing effort to unders...  \n",
       "3  Just installed Windows 10 to a Virtual Machine...  \n",
       "4  Just installed Windows 10 to a Virtual Machine...  \n",
       "5  Ladle some of the hot cooking liquid over the ...  \n",
       "6  LINK / CITE ADD TO WORD LIST. adjective. The d...  \n",
       "7  LINK / CITE ADD TO WORD LIST. adjective. The d...  \n",
       "8  Potential. Earning power with a bachelor's deg...  \n",
       "9  Fiduciary duty is a legal requirement of loyal...  "
      ]
     },
     "execution_count": 103,
     "metadata": {},
     "output_type": "execute_result"
    }
   ],
   "source": [
    "df.iloc[:10, [0, 2]]"
   ]
  },
  {
   "cell_type": "code",
   "execution_count": 117,
   "metadata": {
    "collapsed": false
   },
   "outputs": [
    {
     "name": "stdout",
     "output_type": "stream",
     "text": [
      "['\\x1a' None None None None]\n"
     ]
    }
   ],
   "source": [
    "qp_seed_set = set()\n",
    "i = 0\n",
    "for line in df.values:\n",
    "    try:\n",
    "        qp_seed_set.add(line[0]+'\\t' + line[2])\n",
    "    except:\n",
    "        print(line)\n",
    "        continue\n",
    "    "
   ]
  },
  {
   "cell_type": "code",
   "execution_count": 115,
   "metadata": {
    "collapsed": false
   },
   "outputs": [
    {
     "data": {
      "text/plain": [
       "2972"
      ]
     },
     "execution_count": 115,
     "metadata": {},
     "output_type": "execute_result"
    }
   ],
   "source": [
    "len(qp_seed_set)"
   ]
  },
  {
   "cell_type": "code",
   "execution_count": 116,
   "metadata": {
    "collapsed": false
   },
   "outputs": [
    {
     "data": {
      "text/plain": [
       "5108"
      ]
     },
     "execution_count": 116,
     "metadata": {},
     "output_type": "execute_result"
    }
   ],
   "source": [
    "len(df)"
   ]
  },
  {
   "cell_type": "code",
   "execution_count": 118,
   "metadata": {
    "collapsed": false
   },
   "outputs": [
    {
     "data": {
      "text/plain": [
       "602"
      ]
     },
     "execution_count": 118,
     "metadata": {},
     "output_type": "execute_result"
    }
   ],
   "source": [
    "len(qp_ol_set & qp_seed_set)"
   ]
  },
  {
   "cell_type": "code",
   "execution_count": 119,
   "metadata": {
    "collapsed": true
   },
   "outputs": [],
   "source": [
    "qp_join = qp_ol_set & qp_seed_set"
   ]
  },
  {
   "cell_type": "code",
   "execution_count": 122,
   "metadata": {
    "collapsed": false
   },
   "outputs": [],
   "source": [
    "qp_join_list = list(qp_join)"
   ]
  },
  {
   "cell_type": "code",
   "execution_count": 123,
   "metadata": {
    "collapsed": false
   },
   "outputs": [
    {
     "data": {
      "text/plain": [
       "['prince height\\tPrince stands 5 feet and 2 inches tall and weighs 100 pounds. Born in Minneapolis, Minnesota, Prince, also known as Prince Rogers Nelson, began playing music as a child. He formed a band in high school, and recorded his first demo just after graduting.',\n",
       " 'replace nook battery\\tBarnes & Noble does not sell replacement batteries for the Nook Tablet, so to replace a malfunctioning battery, you need to either find a compatible lithium-ion battery from a third party, or find someone selling a functional battery from another Nook Tablet.',\n",
       " 'nfl channel optimum\\tThe NFL Network is available to Optimum customers that subscribe to any of the following packages: Optimum Preferred, Optimum Silver, Optimum Gold, Optimum Sports and Entertainment Pak. *A digital cable box or CableCARD is required to receive the standard definition channel.',\n",
       " 'massage oil recipe\\t20 ml of carrier oil. Add essential oils to a 1 ounce amber bottle then add carrier oil Mix well and use for massage. Omit the carrier oil and use this blend in any diffuser.',\n",
       " 'antonio ramiro romo mexican\\tRamiro and Joan Romo welcomed Antonio Ramiro Romo into the family in San Diego, California on April 21, 1980. Ramiro was serving in the United States Navy and had moved his family from Wisconsin to California four years earlier.',\n",
       " \"high plains drifter location\\tHuge fan of Clint Eastwood, I went on the location of 'High Plains Drifter' movie, great western classic, shot 34 years ago. tags: clint eastwood lago homme hautes plaines mono lake western movie high plains drifter dirty harry rawhide good bad ugly. 'High Plains Drifter' is the 2nd movie of Clint Eastwood as director.\",\n",
       " '7 texas constitutions\\tTexas Constitutions 1824-1876 is a project of the Tarlton Law Library, Jamail Center for Legal Research at the University of Texas School of Law, The University of Texas at Austin. For more information, please contact Elizabeth Haluska-Rausch, Curator of Rare Books, , (512) 232-3802.',\n",
       " 'rostellum tapeworm\\tTaeniasis in humans is a parasitic infection caused by the tapeworm species Taenia saginata (beef tapeworm), Taenia solium (pork tapeworm), and Taenia asiatica (Asian tapeworm).',\n",
       " 'define openness personality trait\\tThe Big Five Personality Traits One view of personality is that there are five basic dimensions that can explain individual differences in personality. The five dimensions in the big five personality theory include extraversion, openness to experience, emotional stability, agreeableness, and conscientiousness.',\n",
       " 'standard drill bit angle\\t118 degree VS. 135 Degree Drill Bit Angle Drilling Round Surface. With no center punch the 135 degree angle bites into a round surface.']"
      ]
     },
     "execution_count": 123,
     "metadata": {},
     "output_type": "execute_result"
    }
   ],
   "source": [
    "qp_join_list[:10]"
   ]
  },
  {
   "cell_type": "markdown",
   "metadata": {},
   "source": [
    "# Remove stopwords, word stem and repeat do qp_ol_set & qp_seed_set "
   ]
  },
  {
   "cell_type": "code",
   "execution_count": 217,
   "metadata": {
    "collapsed": false
   },
   "outputs": [
    {
     "data": {
      "text/plain": [
       "'Prince stands 5 feet and 2 inches tall and weighs 100 pounds. Born in Minneapolis, Minnesota, Prince, also known as Prince Rogers Nelson, began playing music as a child. He formed a band in high school, and recorded his first demo just after graduting.'"
      ]
     },
     "execution_count": 217,
     "metadata": {},
     "output_type": "execute_result"
    }
   ],
   "source": [
    "_str"
   ]
  },
  {
   "cell_type": "code",
   "execution_count": 218,
   "metadata": {
    "collapsed": true
   },
   "outputs": [],
   "source": [
    "import nlp\n"
   ]
  },
  {
   "cell_type": "code",
   "execution_count": 219,
   "metadata": {
    "collapsed": false
   },
   "outputs": [
    {
     "data": {
      "text/plain": [
       "'Princ stand 5 feet 2 inch tall weigh 100 pound Born Minneapoli Minnesota Princ also known Princ Roger Nelson began play music child He form band high school record first demo gradut'"
      ]
     },
     "execution_count": 219,
     "metadata": {},
     "output_type": "execute_result"
    }
   ],
   "source": [
    "nlp.cleanLines(_str)"
   ]
  },
  {
   "cell_type": "code",
   "execution_count": 222,
   "metadata": {
    "collapsed": false
   },
   "outputs": [],
   "source": [
    "qp_ol_clean_set = set()\n",
    "for qp in qp_ol_set:\n",
    "    q, p = qp.split('\\t')\n",
    "    q_clean = nlp.cleanLines(q)\n",
    "    p_clean = nlp.cleanLines(p)\n",
    "    qp_ol_clean_set.add(\"{0}\\t{1}\".format(q_clean, p_clean))"
   ]
  },
  {
   "cell_type": "code",
   "execution_count": 223,
   "metadata": {
    "collapsed": false
   },
   "outputs": [
    {
     "data": {
      "text/plain": [
       "257370"
      ]
     },
     "execution_count": 223,
     "metadata": {},
     "output_type": "execute_result"
    }
   ],
   "source": [
    "len(qp_ol_clean_set)"
   ]
  },
  {
   "cell_type": "code",
   "execution_count": 224,
   "metadata": {
    "collapsed": true
   },
   "outputs": [],
   "source": [
    "qp_seed_clean_set = set()\n",
    "for qp in qp_seed_set:\n",
    "    q, p = qp.split('\\t')\n",
    "    q_clean = nlp.cleanLines(q)\n",
    "    p_clean = nlp.cleanLines(p)\n",
    "    qp_seed_clean_set.add(\"{0}\\t{1}\".format(q_clean, p_clean))"
   ]
  },
  {
   "cell_type": "code",
   "execution_count": 225,
   "metadata": {
    "collapsed": false
   },
   "outputs": [
    {
     "data": {
      "text/plain": [
       "2972"
      ]
     },
     "execution_count": 225,
     "metadata": {},
     "output_type": "execute_result"
    }
   ],
   "source": [
    "len(qp_seed_clean_set)"
   ]
  },
  {
   "cell_type": "code",
   "execution_count": 227,
   "metadata": {
    "collapsed": false
   },
   "outputs": [
    {
     "data": {
      "text/plain": [
       "2004"
      ]
     },
     "execution_count": 227,
     "metadata": {},
     "output_type": "execute_result"
    }
   ],
   "source": [
    "len(qp_seed_clean_set & qp_ol_clean_set)"
   ]
  },
  {
   "cell_type": "markdown",
   "metadata": {},
   "source": [
    "# Features Generate\n",
    "step1. Load judge <q, p> pair file as train data.\n",
    "step2. clean sentence of <q, p> pair\n",
    "step3. Join L3 online feature based on <q, p> pair\n",
    "step4. Generate semantic features based on doc2vec of <q, p> pair"
   ]
  },
  {
   "cell_type": "markdown",
   "metadata": {},
   "source": [
    "   ## Step1. Load judge data   "
   ]
  },
  {
   "cell_type": "code",
   "execution_count": 229,
   "metadata": {
    "collapsed": false
   },
   "outputs": [],
   "source": [
    "%reset?\n"
   ]
  },
  {
   "cell_type": "code",
   "execution_count": 230,
   "metadata": {
    "collapsed": false
   },
   "outputs": [
    {
     "name": "stdout",
     "output_type": "stream",
     "text": [
      "Once deleted, variables cannot be recovered. Proceed (y/[n])? y\n"
     ]
    }
   ],
   "source": [
    "%reset"
   ]
  },
  {
   "cell_type": "code",
   "execution_count": 256,
   "metadata": {
    "collapsed": true
   },
   "outputs": [],
   "source": [
    "jd_f = \"./data/querypassage_trainseed.tsv\"\n",
    "train_datas = [line.strip().split('\\t') for line in open(jd_f, 'r', encoding='utf-8')]"
   ]
  },
  {
   "cell_type": "code",
   "execution_count": 257,
   "metadata": {
    "collapsed": false
   },
   "outputs": [
    {
     "data": {
      "text/plain": [
       "(5108, ['QueryText', ' PassageURL', ' PassageText', ' SourceTitle', ' Overal'])"
      ]
     },
     "execution_count": 257,
     "metadata": {},
     "output_type": "execute_result"
    }
   ],
   "source": [
    "len(train_datas), train_datas[0]"
   ]
  },
  {
   "cell_type": "code",
   "execution_count": 258,
   "metadata": {
    "collapsed": true
   },
   "outputs": [],
   "source": [
    "import nlp"
   ]
  },
  {
   "cell_type": "code",
   "execution_count": 259,
   "metadata": {
    "collapsed": false
   },
   "outputs": [],
   "source": [
    "train_ = []\n",
    "for row in train_datas[1:]:\n",
    "    if(len(row) != 5):\n",
    "        continue\n",
    "    q = row[0]\n",
    "    p = row[2]\n",
    "    q_clean = nlp.cleanLines(q)\n",
    "    p_clean = nlp.cleanLines(p)\n",
    "    train.append(\"{0}\\t{1}\\t{2}\\t{3}\".format(q_clean, row[1], p_clean, row[3], row[4]))"
   ]
  },
  {
   "cell_type": "code",
   "execution_count": 260,
   "metadata": {
    "collapsed": true
   },
   "outputs": [],
   "source": [
    "train_datas.clear()"
   ]
  },
  {
   "cell_type": "markdown",
   "metadata": {},
   "source": [
    "###### load l3 features files and normallized q, p pair"
   ]
  },
  {
   "cell_type": "code",
   "execution_count": 251,
   "metadata": {
    "collapsed": true
   },
   "outputs": [],
   "source": [
    "l3_f = './data/trainDataFreatures_online.tsv'"
   ]
  },
  {
   "cell_type": "code",
   "execution_count": 252,
   "metadata": {
    "collapsed": true
   },
   "outputs": [],
   "source": [
    "fr = open(l3_f, 'r', encoding='utf-8')"
   ]
  },
  {
   "cell_type": "code",
   "execution_count": 253,
   "metadata": {
    "collapsed": true
   },
   "outputs": [],
   "source": [
    "h = fr.readline()"
   ]
  },
  {
   "cell_type": "code",
   "execution_count": 255,
   "metadata": {
    "collapsed": false
   },
   "outputs": [
    {
     "data": {
      "text/plain": [
       "'Query,Url,PassageId,Passage,MaxFromDocumentTranslation_Passage-Body-PassageData1201-20151206.Exp_0_0,MaxFromDocumentTranslation_Passage-Body-PassageData1201-20151206.Exp_1_0,MaxFromDocumentTranslation_Passage-Body-PassageData1201-20151206.Exp_2_0,MaxFromDocumentTranslation_Passage-Body-PassageData1201-20151206.Exp_3_0,MaxFromDocumentTranslation_Passage-Body-PassageData1201-20151206.Exp_4_0,MaxFromDocumentTranslation_Passage-HeadingBase-PassageData1201-20151205.Exp_0_0,MaxFromDocumentTranslation_Passage-HeadingBase-PassageData1201-20151205.Exp_1_0,MaxFromDocumentTranslation_Passage-HeadingBase-PassageData1201-20151205.Exp_2_0,MaxFromDocumentTranslation_Passage-HeadingBase-PassageData1201-20151205.Exp_3_0,MaxFromDocumentTranslation_Passage-HeadingBase-PassageData1201-20151205.Exp_4_0,MaxFromDocumentTranslation_Passage-NHeadingBase-PassageData1201-20151205.Exp_0_0,MaxFromDocumentTranslation_Passage-NHeadingBase-PassageData1201-20151205.Exp_1_0,MaxFromDocumentTranslation_Passage-NHeadingBase-PassageData1201-20151205.Exp_2_0,MaxFromDocumentTranslation_Passage-NHeadingBase-PassageData1201-20151205.Exp_3_0,MaxFromDocumentTranslation_Passage-NHeadingBase-PassageData1201-20151205.Exp_4_0,MaxFromQueryTranslation_Passage-Body-PassageData1201-20151206.Exp_0_0,MaxFromQueryTranslation_Passage-Body-PassageData1201-20151206.Exp_1_0,MaxFromQueryTranslation_Passage-Body-PassageData1201-20151206.Exp_2_0,MaxFromQueryTranslation_Passage-Body-PassageData1201-20151206.Exp_3_0,MaxFromQueryTranslation_Passage-Body-PassageData1201-20151206.Exp_4_0,MaxFromQueryTranslation_Passage-HeadingBase-PassageData1201-20151205.Exp_0_0,MaxFromQueryTranslation_Passage-HeadingBase-PassageData1201-20151205.Exp_1_0,MaxFromQueryTranslation_Passage-HeadingBase-PassageData1201-20151205.Exp_2_0,MaxFromQueryTranslation_Passage-HeadingBase-PassageData1201-20151205.Exp_3_0,MaxFromQueryTranslation_Passage-HeadingBase-PassageData1201-20151205.Exp_4_0,MaxFromQueryTranslation_Passage-NHeadingBase-PassageData1201-20151205.Exp_0_0,MaxFromQueryTranslation_Passage-NHeadingBase-PassageData1201-20151205.Exp_1_0,MaxFromQueryTranslation_Passage-NHeadingBase-PassageData1201-20151205.Exp_2_0,MaxFromQueryTranslation_Passage-NHeadingBase-PassageData1201-20151205.Exp_3_0,MaxFromQueryTranslation_Passage-NHeadingBase-PassageData1201-20151205.Exp_4_0,MaxFromQueryTranslation_Passage-Body-PassageData1201-20151206.Exp_0_1,MaxFromQueryTranslation_Passage-HeadingBase-PassageData1201-20151205.Exp_0_1,MaxFromQueryTranslation_Passage-NHeadingBase-PassageData1201-20151205.Exp_0_1,MaxFromQueryTranslation_Passage-Body-PassageData1201-20151206.Exp_1_1,MaxFromQueryTranslation_Passage-HeadingBase-PassageData1201-20151205.Exp_1_1,MaxFromQueryTranslation_Passage-NHeadingBase-PassageData1201-20151205.Exp_1_1,MaxFromQueryTranslation_Passage-Body-PassageData1201-20151206.Exp_2_1,MaxFromQueryTranslation_Passage-HeadingBase-PassageData1201-20151205.Exp_2_1,MaxFromQueryTranslation_Passage-NHeadingBase-PassageData1201-20151205.Exp_2_1,MaxFromQueryTranslation_Passage-Body-PassageData1201-20151206.Exp_3_1,MaxFromQueryTranslation_Passage-HeadingBase-PassageData1201-20151205.Exp_3_1,MaxFromQueryTranslation_Passage-NHeadingBase-PassageData1201-20151205.Exp_3_1,MaxFromQueryTranslation_Passage-HeadingBase-PassageData1201-20151205.Exp_4_1,MaxFromQueryTranslation_Passage-NHeadingBase-PassageData1201-20151205.Exp_4_1,MaxFromQueryTranslation_Passage-Body-PassageData1201-20151206.Exp_4_1,MaxFromDocumentTranslation_Passage-Body-PassageData1201-20151206.Exp_0_1,MaxFromDocumentTranslation_Passage-HeadingBase-PassageData1201-20151205.Exp_0_1,MaxFromDocumentTranslation_Passage-NHeadingBase-PassageData1201-20151205.Exp_0_1,MaxFromDocumentTranslation_Passage-Body-PassageData1201-20151206.Exp_1_1,MaxFromDocumentTranslation_Passage-HeadingBase-PassageData1201-20151205.Exp_1_1,MaxFromDocumentTranslation_Passage-NHeadingBase-PassageData1201-20151205.Exp_1_1,MaxFromDocumentTranslation_Passage-Body-PassageData1201-20151206.Exp_2_1,MaxFromDocumentTranslation_Passage-HeadingBase-PassageData1201-20151205.Exp_2_1,MaxFromDocumentTranslation_Passage-NHeadingBase-PassageData1201-20151205.Exp_2_1,MaxFromDocumentTranslation_Passage-Body-PassageData1201-20151206.Exp_3_1,MaxFromDocumentTranslation_Passage-HeadingBase-PassageData1201-20151205.Exp_3_1,MaxFromDocumentTranslation_Passage-NHeadingBase-PassageData1201-20151205.Exp_3_1,MaxFromDocumentTranslation_Passage-HeadingBase-PassageData1201-20151205.Exp_4_1,MaxFromDocumentTranslation_Passage-NHeadingBase-PassageData1201-20151205.Exp_4_1,MaxFromDocumentTranslation_Passage-Body-PassageData1201-20151206.Exp_4_1,MaxFromQueryTranslation_Passage-Body-PassageData1201-20151206.Exp_0_2,MaxFromQueryTranslation_Passage-HeadingBase-PassageData1201-20151205.Exp_0_2,MaxFromQueryTranslation_Passage-NHeadingBase-PassageData1201-20151205.Exp_0_2,MaxFromQueryTranslation_Passage-Body-PassageData1201-20151206.Exp_1_2,MaxFromQueryTranslation_Passage-HeadingBase-PassageData1201-20151205.Exp_1_2,MaxFromQueryTranslation_Passage-NHeadingBase-PassageData1201-20151205.Exp_1_2,MaxFromQueryTranslation_Passage-Body-PassageData1201-20151206.Exp_2_2,MaxFromQueryTranslation_Passage-HeadingBase-PassageData1201-20151205.Exp_2_2,MaxFromQueryTranslation_Passage-NHeadingBase-PassageData1201-20151205.Exp_2_2,MaxFromQueryTranslation_Passage-Body-PassageData1201-20151206.Exp_3_2,MaxFromQueryTranslation_Passage-HeadingBase-PassageData1201-20151205.Exp_3_2,MaxFromQueryTranslation_Passage-NHeadingBase-PassageData1201-20151205.Exp_3_2,MaxFromQueryTranslation_Passage-HeadingBase-PassageData1201-20151205.Exp_4_2,MaxFromQueryTranslation_Passage-NHeadingBase-PassageData1201-20151205.Exp_4_2,MaxFromQueryTranslation_Passage-Body-PassageData1201-20151206.Exp_4_2,MaxFromDocumentTranslation_Passage-Body-PassageData1201-20151206.Exp_0_2,MaxFromDocumentTranslation_Passage-HeadingBase-PassageData1201-20151205.Exp_0_2,MaxFromDocumentTranslation_Passage-NHeadingBase-PassageData1201-20151205.Exp_0_2,MaxFromDocumentTranslation_Passage-Body-PassageData1201-20151206.Exp_1_2,MaxFromDocumentTranslation_Passage-HeadingBase-PassageData1201-20151205.Exp_1_2,MaxFromDocumentTranslation_Passage-NHeadingBase-PassageData1201-20151205.Exp_1_2,MaxFromDocumentTranslation_Passage-Body-PassageData1201-20151206.Exp_2_2,MaxFromDocumentTranslation_Passage-HeadingBase-PassageData1201-20151205.Exp_2_2,MaxFromDocumentTranslation_Passage-NHeadingBase-PassageData1201-20151205.Exp_2_2,MaxFromDocumentTranslation_Passage-Body-PassageData1201-20151206.Exp_3_2,MaxFromDocumentTranslation_Passage-HeadingBase-PassageData1201-20151205.Exp_3_2,MaxFromDocumentTranslation_Passage-NHeadingBase-PassageData1201-20151205.Exp_3_2,MaxFromDocumentTranslation_Passage-HeadingBase-PassageData1201-20151205.Exp_4_2,MaxFromDocumentTranslation_Passage-NHeadingBase-PassageData1201-20151205.Exp_4_2,MaxFromDocumentTranslation_Passage-Body-PassageData1201-20151206.Exp_4_2,MaxFromQueryTranslation_Passage-Body-PassageData1201-20151206.Exp_0_4,MaxFromQueryTranslation_Passage-HeadingBase-PassageData1201-20151205.Exp_0_4,MaxFromQueryTranslation_Passage-NHeadingBase-PassageData1201-20151205.Exp_0_4,MaxFromQueryTranslation_Passage-Body-PassageData1201-20151206.Exp_1_4,MaxFromQueryTranslation_Passage-HeadingBase-PassageData1201-20151205.Exp_1_4,MaxFromQueryTranslation_Passage-NHeadingBase-PassageData1201-20151205.Exp_1_4,MaxFromQueryTranslation_Passage-Body-PassageData1201-20151206.Exp_2_4,MaxFromQueryTranslation_Passage-HeadingBase-PassageData1201-20151205.Exp_2_4,MaxFromQueryTranslation_Passage-NHeadingBase-PassageData1201-20151205.Exp_2_4,MaxFromQueryTranslation_Passage-Body-PassageData1201-20151206.Exp_3_4,MaxFromQueryTranslation_Passage-HeadingBase-PassageData1201-20151205.Exp_3_4,MaxFromQueryTranslation_Passage-NHeadingBase-PassageData1201-20151205.Exp_3_4,MaxFromQueryTranslation_Passage-HeadingBase-PassageData1201-20151205.Exp_4_4,MaxFromQueryTranslation_Passage-NHeadingBase-PassageData1201-20151205.Exp_4_4,MaxFromQueryTranslation_Passage-Body-PassageData1201-20151206.Exp_4_4,MaxFromDocumentTranslation_Passage-Body-PassageData1201-20151206.Exp_0_4,MaxFromDocumentTranslation_Passage-HeadingBase-PassageData1201-20151205.Exp_0_4,MaxFromDocumentTranslation_Passage-NHeadingBase-PassageData1201-20151205.Exp_0_4,MaxFromDocumentTranslation_Passage-Body-PassageData1201-20151206.Exp_1_4,MaxFromDocumentTranslation_Passage-HeadingBase-PassageData1201-20151205.Exp_1_4,MaxFromDocumentTranslation_Passage-NHeadingBase-PassageData1201-20151205.Exp_1_4,MaxFromDocumentTranslation_Passage-Body-PassageData1201-20151206.Exp_2_4,MaxFromDocumentTranslation_Passage-HeadingBase-PassageData1201-20151205.Exp_2_4,MaxFromDocumentTranslation_Passage-NHeadingBase-PassageData1201-20151205.Exp_2_4,MaxFromDocumentTranslation_Passage-Body-PassageData1201-20151206.Exp_3_4,MaxFromDocumentTranslation_Passage-HeadingBase-PassageData1201-20151205.Exp_3_4,MaxFromDocumentTranslation_Passage-NHeadingBase-PassageData1201-20151205.Exp_3_4,MaxFromDocumentTranslation_Passage-HeadingBase-PassageData1201-20151205.Exp_4_4,MaxFromDocumentTranslation_Passage-NHeadingBase-PassageData1201-20151205.Exp_4_4,MaxFromDocumentTranslation_Passage-Body-PassageData1201-20151206.Exp_4_4,MaxFromQueryTranslation_Passage-Body-PassageData1201-20151206.Exp_0_5,MaxFromQueryTranslation_Passage-HeadingBase-PassageData1201-20151205.Exp_0_5,MaxFromQueryTranslation_Passage-NHeadingBase-PassageData1201-20151205.Exp_0_5,MaxFromQueryTranslation_Passage-Body-PassageData1201-20151206.Exp_1_5,MaxFromQueryTranslation_Passage-HeadingBase-PassageData1201-20151205.Exp_1_5,MaxFromQueryTranslation_Passage-NHeadingBase-PassageData1201-20151205.Exp_1_5,MaxFromQueryTranslation_Passage-Body-PassageData1201-20151206.Exp_2_5,MaxFromQueryTranslation_Passage-HeadingBase-PassageData1201-20151205.Exp_2_5,MaxFromQueryTranslation_Passage-NHeadingBase-PassageData1201-20151205.Exp_2_5,MaxFromQueryTranslation_Passage-Body-PassageData1201-20151206.Exp_3_5,MaxFromQueryTranslation_Passage-HeadingBase-PassageData1201-20151205.Exp_3_5,MaxFromQueryTranslation_Passage-NHeadingBase-PassageData1201-20151205.Exp_3_5,MaxFromQueryTranslation_Passage-HeadingBase-PassageData1201-20151205.Exp_4_5,MaxFromQueryTranslation_Passage-NHeadingBase-PassageData1201-20151205.Exp_4_5,MaxFromQueryTranslation_Passage-Body-PassageData1201-20151206.Exp_4_5,MaxFromDocumentTranslation_Passage-Body-PassageData1201-20151206.Exp_0_5,MaxFromDocumentTranslation_Passage-HeadingBase-PassageData1201-20151205.Exp_0_5,MaxFromDocumentTranslation_Passage-NHeadingBase-PassageData1201-20151205.Exp_0_5,MaxFromDocumentTranslation_Passage-Body-PassageData1201-20151206.Exp_1_5,MaxFromDocumentTranslation_Passage-HeadingBase-PassageData1201-20151205.Exp_1_5,MaxFromDocumentTranslation_Passage-NHeadingBase-PassageData1201-20151205.Exp_1_5,MaxFromDocumentTranslation_Passage-Body-PassageData1201-20151206.Exp_2_5,MaxFromDocumentTranslation_Passage-HeadingBase-PassageData1201-20151205.Exp_2_5,MaxFromDocumentTranslation_Passage-NHeadingBase-PassageData1201-20151205.Exp_2_5,MaxFromDocumentTranslation_Passage-Body-PassageData1201-20151206.Exp_3_5,MaxFromDocumentTranslation_Passage-HeadingBase-PassageData1201-20151205.Exp_3_5,MaxFromDocumentTranslation_Passage-NHeadingBase-PassageData1201-20151205.Exp_3_5,MaxFromDocumentTranslation_Passage-HeadingBase-PassageData1201-20151205.Exp_4_5,MaxFromDocumentTranslation_Passage-NHeadingBase-PassageData1201-20151205.Exp_4_5,MaxFromDocumentTranslation_Passage-Body-PassageData1201-20151206.Exp_4_5,MaxLocalTranslationToQuery_Passage-Body-PassageData1201-20151206.Exp_3,MaxLocalTranslationFromQuery_Passage-NHeadingBase-PassageData1201-20151205.Exp_3,MaxLocalTranslationToQuery_Passage-HeadingBase-PassageData1201-20151205.Exp_3,MaxLocalTranslationFromQuery_Passage-Body-PassageData1201-20151206.Exp_3,MaxLocalTranslationToQuery_Passage-NHeadingBase-PassageData1201-20151205.Exp_3,MaxLocalTranslationFromQuery_Passage-HeadingBase-PassageData1201-20151205.Exp_3,NumberOfTotalStreamOccurrences_Passage-HeadingBase-PassageData1201-20151205.Exp,NumberOfTotalStreamOccurrences_Passage-NHeadingBase-PassageData1201-20151205.Exp,NumberOfTotalStreamOccurrences_Passage-Body-PassageData1201-20151206.Exp,NumberOfCompleteMatches_Passage-Body-PassageData1201-20151206.Exp,NumberOfCompleteMatches_Passage-HeadingBase-PassageData1201-20151205.Exp,NumberOfCompleteMatches_Passage-NHeadingBase-PassageData1201-20151205.Exp,NumberOfExactPhrases_Passage-Body-PassageData1201-20151206.Exp,NumberOfExactPhrases_Passage-HeadingBase-PassageData1201-20151205.Exp,NumberOfExactPhrases_Passage-NHeadingBase-PassageData1201-20151205.Exp,NumberOfPerfectMatches_Passage-Body-PassageData1201-20151206.Exp,NumberOfPerfectMatches_Passage-HeadingBase-PassageData1201-20151205.Exp,NumberOfPerfectMatches_Passage-NHeadingBase-PassageData1201-20151205.Exp,NumberOfUniqueQueryTerms_Passage-Body-PassageData1201-20151206.Exp,NumberOfUniqueQueryTerms_Passage-HeadingBase-PassageData1201-20151205.Exp,NumberOfUniqueQueryTerms_Passage-NHeadingBase-PassageData1201-20151205.Exp,ParentDocumentDRScore,ParentDocumentPosition,PassageMetaword_Passage-Body-PassageData1201-20151206.Exp_Injected.MDM788.30.PLF11,PassageMetaword_Passage-Body-PassageData1201-20151206.Exp_Injected.MDM788.30.PLF12,PassageMetaword_Passage-Body-PassageData1201-20151206.Exp_Injected.MDM788.30.PLF13,PassageMetaword_Passage-Body-PassageData1201-20151206.Exp_Injected.MDM788.30.PLF14,PassageMetaword_Passage-Body-PassageData1201-20151206.Exp_Injected.MDM788.30.PLF15,PassageMetaword_Passage-Body-PassageData1201-20151206.Exp_Injected.MDM788.30.PLF16,PassageMetaword_Passage-Body-PassageData1201-20151206.Exp_Injected.MDM788.30.PLF17,PassageMetaword_Passage-Body-PassageData1201-20151206.Exp_Injected.MDM788.30.PLF18,PassageMetaword_Passage-Body-PassageData1201-20151206.Exp_Injected.MDM788.30.PLF19,PassageMetaword_Passage-Body-PassageData1201-20151206.Exp_Injected.MDM788.30.PLF20,PassageMetaword_Passage-Body-PassageData1201-20151206.Exp_Injected.MDM788.30.PLF21,PassageMetaword_Passage-Body-PassageData1201-20151206.Exp_Injected.MDM789.14.PLF42,PassageMetaword_Passage-Body-PassageData1201-20151206.Exp_Injected.MDM789.17.PLF39,PassageMetaword_Passage-Body-PassageData1201-20151206.Exp_Injected.MDM789.19.PLF41,PassageMetaword_Passage-Body-PassageData1201-20151206.Exp_Injected.MDM789.20.PLF38,PassageMetaword_Passage-Body-PassageData1201-20151206.Exp_Injected.MDM789.22.PLF40,PassageMetaword_Passage-Body-PassageData1201-20151206.Exp_Injected.MDM789.23.PLF37,PassageMetaword_Passage-Body-PassageData1201-20151206.Exp_Injected.MDM789.24.PLF36,PassageMetaword_Passage-Body-PassageData1201-20151206.Exp_Injected.MDM789.28.PLF35,PassageMetaword_Passage-Body-PassageData1201-20151206.Exp_Injected.MDM789.30.PLF34,PassageMetaword_Passage-Body-PassageData1201-20151206.Exp_Injected.MDM789.30.PLF43,PassageMetaword_Passage-Body-PassageData1201-20151206.Exp_Injected.MDM790.25.PLF25,PassageMetaword_Passage-Body-PassageData1201-20151206.Exp_Injected.MDM790.25.PLF32,PassageMetaword_Passage-Body-PassageData1201-20151206.Exp_Injected.MDM790.26.PLF24,PassageMetaword_Passage-Body-PassageData1201-20151206.Exp_Injected.MDM790.26.PLF30,PassageMetaword_Passage-Body-PassageData1201-20151206.Exp_Injected.MDM790.26.PLF31,PassageMetaword_Passage-Body-PassageData1201-20151206.Exp_Injected.MDM790.26.PLF33,PassageMetaword_Passage-Body-PassageData1201-20151206.Exp_Injected.MDM790.29.PLF23,PassageMetaword_Passage-Body-PassageData1201-20151206.Exp_Injected.MDM790.29.PLF27,PassageMetaword_Passage-Body-PassageData1201-20151206.Exp_Injected.MDM790.29.PLF28,PassageMetaword_Passage-Body-PassageData1201-20151206.Exp_Injected.MDM790.30.PLF22,PassageMetaword_Passage-Body-PassageData1201-20151206.Exp_Injected.MDM790.30.PLF26,PassageMetaword_Passage-Body-PassageData1201-20151206.Exp_Injected.MDM790.30.PLF29,PassageMetaword_Passage-Body-PassageData1201-20151206.Exp_Injected.MDM791.30.PLF1,PassageMetaword_Passage-Body-PassageData1201-20151206.Exp_Injected.MDM791.30.PLF10,PassageMetaword_Passage-Body-PassageData1201-20151206.Exp_Injected.MDM791.30.PLF2,PassageMetaword_Passage-Body-PassageData1201-20151206.Exp_Injected.MDM791.30.PLF3,PassageMetaword_Passage-Body-PassageData1201-20151206.Exp_Injected.MDM791.30.PLF4,PassageMetaword_Passage-Body-PassageData1201-20151206.Exp_Injected.MDM791.30.PLF5,PassageMetaword_Passage-Body-PassageData1201-20151206.Exp_Injected.MDM791.30.PLF6,PassageMetaword_Passage-Body-PassageData1201-20151206.Exp_Injected.MDM791.30.PLF7,PassageMetaword_Passage-Body-PassageData1201-20151206.Exp_Injected.MDM791.30.PLF8,PassageMetaword_Passage-Body-PassageData1201-20151206.Exp_Injected.MDM791.30.PLF9,PerStreamBM25F_Passage-Body-PassageData1201-20151206.Exp,PerStreamBM25F_Passage-HeadingBase-PassageData1201-20151205.Exp,PerStreamBM25F_Passage-NHeadingBase-PassageData1201-20151205.Exp,PerStreamBM25FNorm_Passage-Body-PassageData1201-20151206.Exp,PerStreamBM25FNorm_Passage-HeadingBase-PassageData1201-20151205.Exp,PerStreamBM25FNorm_Passage-NHeadingBase-PassageData1201-20151205.Exp,QueryLevelFeature_2428,QueryLevelFeature_2430,QueryLevelFeature_2431,QueryLevelFeature_2432,QueryLevelFeature_2433,QueryLevelFeature_2434,QueryLevelFeature_2101,QueryLevelFeature_2429,QueryLevelFeature_2435,TopNDocumentSnippetBM25_0,TopNDocumentSnippetBM25_1,TopNDocumentSnippetLanguageModel_0,TopNDocumentSnippetLanguageModel_1,TopNDocumentSnippetMatchWordsCount,TopNPassageBestEntityUrlCount,TopNPassageBestNerUrlCount,TopNPassageBM25_0,TopNPassageBM25_1,TopNPassageContainsTopNer_0,TopNPassageContainsTopNer_1,TopNPassageContiansTopEntity_0,TopNPassageContiansTopEntity_1,TopNPassageCosineSimilarity,TopNPassageExtendedEsaSimilarity,TopNPassageLanguageModel_0,TopNPassageLanguageModel_1,TopNPassageMatchWordsCount,TopNPassageTopEntityMatchCount,TopNPassageTopNerMatchCount,TopNPassageVoting_0_0,TopNPassageVoting_0_1,TopNPassageVoting_0_2,TopNPassageVoting_0_3,TopNPassageVoting_1_0,TopNPassageVoting_1_1,TopNPassageVoting_1_2,TopNPassageVoting_1_3,TopNPassageVoting_2_0,TopNPassageVoting_2_1,TopNPassageVoting_2_2,TopNPassageVoting_2_3,TopNTitleBM25_0,TopNTitleBM25_1,TopNTitleLanguageModel_0,TopNTitleLanguageModel_1,TopNTitleMatchWordsCount,UnigramPassageEntityTranslation_0,UnigramPassageEntityTranslation_1,UnigramPassageTranslation_0,UnigramPassageTranslation_1,UnigramPassageTranslation_2,UnigramPassageTranslation_3,UnigramPassageTranslation_4,UnigramPassageTranslation_5,WordsFound_Passage-Body-PassageData1201-20151206.Exp,WordsFound_Passage-HeadingBase-PassageData1201-20151205.Exp,WordsFound_Passage-NHeadingBase-PassageData1201-20151205.Exp,AdvancedPreferFeature_1505,AdvancedPreferFeature_1506,AdvancedPreferFeature_1507,AdvancedPreferFeature_1508,AdvancedPreferFeature_1509,AdvancedPreferFeature_1510,AdvancedPreferFeature_1511,AdvancedPreferFeature_1512,AdvancedPreferFeature_1513,AdvancedPreferFeature_1514,AdvancedPreferFeature_1515,AdvancedPreferFeature_1520,AdvancedPreferFeature_1521,AdvancedPreferFeature_1522,AdvancedPreferFeature_1523,AdvancedPreferFeature_1524,AdvancedPreferFeature_1854,AdvancedPreferFeature_1855,Xini_60,m_sortedPosition,m_tlaRerankScore\\n'"
      ]
     },
     "execution_count": 255,
     "metadata": {},
     "output_type": "execute_result"
    }
   ],
   "source": [
    "h.replace('\\t', ',')\n"
   ]
  },
  {
   "cell_type": "markdown",
   "metadata": {},
   "source": [
    "### \\<Query, Passage\\> TrainData Generate For Train Doc2vec in order to compute semantic similarity score\n"
   ]
  },
  {
   "cell_type": "code",
   "execution_count": 276,
   "metadata": {
    "collapsed": true
   },
   "outputs": [],
   "source": [
    "import gensim\n",
    "from gensim import utils\n",
    "from gensim.models.doc2vec import LabeledSentence\n",
    "from gensim.models import Doc2Vec\n",
    "import numpy\n",
    "from random import shuffle\n",
    "import nltk"
   ]
  },
  {
   "cell_type": "code",
   "execution_count": 288,
   "metadata": {
    "collapsed": false
   },
   "outputs": [],
   "source": [
    "query_train = []\n",
    "passage_train = []\n",
    "\n",
    "fr_1 = open(\"./data/querypassage_trainseed.tsv\", 'r', encoding='utf-8')\n",
    "fr_1.readline()\n",
    "fw = open(\"./data/querypassage_trainseed_label.tsv\", 'w', encoding='utf-8')\n",
    "\n",
    "line_no = 0\n",
    "line_no_set = set()\n",
    "for line in fr_1:\n",
    "    arr = line.strip().split('\\t')\n",
    "    if (len(arr) != 4):\n",
    "        continue\n",
    "    query = arr[0]\n",
    "    passage = arr[2]\n",
    "    \n",
    "    query_train.append(LabeledSentence(utils.to_unicode(query).split(), [\"query_seed_%d\"%line_no]))\n",
    "    passage_train.append(LabeledSentence(utils.to_unicode(passage).split(), [\"passage_seed_%d\"%line_no]))\n",
    "    \n",
    "    fw.write(\"seed_{0}\\t{1}\\n\".format(line_no, line.strip()))\n",
    "    line_no += 1\n",
    "\n",
    "fr_1.close()\n",
    "fw.close()"
   ]
  },
  {
   "cell_type": "code",
   "execution_count": 289,
   "metadata": {
    "collapsed": false
   },
   "outputs": [
    {
     "data": {
      "text/plain": [
       "(5107, 5107)"
      ]
     },
     "execution_count": 289,
     "metadata": {},
     "output_type": "execute_result"
    }
   ],
   "source": [
    "len(query_train), len(passage_train)"
   ]
  },
  {
   "cell_type": "code",
   "execution_count": null,
   "metadata": {
    "collapsed": true
   },
   "outputs": [],
   "source": [
    "fr_2 = open(\"./data/\")"
   ]
  }
 ],
 "metadata": {
  "kernelspec": {
   "display_name": "Python [Root]",
   "language": "python",
   "name": "Python [Root]"
  },
  "language_info": {
   "codemirror_mode": {
    "name": "ipython",
    "version": 3
   },
   "file_extension": ".py",
   "mimetype": "text/x-python",
   "name": "python",
   "nbconvert_exporter": "python",
   "pygments_lexer": "ipython3",
   "version": "3.5.2"
  }
 },
 "nbformat": 4,
 "nbformat_minor": 0
}
