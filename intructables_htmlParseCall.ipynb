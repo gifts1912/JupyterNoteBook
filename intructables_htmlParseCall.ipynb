{
 "cells": [
  {
   "cell_type": "code",
   "execution_count": 4,
   "metadata": {
    "collapsed": false
   },
   "outputs": [
    {
     "ename": "TypeError",
     "evalue": "Can't convert 'NoneType' object to str implicitly",
     "output_type": "error",
     "traceback": [
      "\u001b[1;31m---------------------------------------------------------------------------\u001b[0m",
      "\u001b[1;31mTypeError\u001b[0m                                 Traceback (most recent call last)",
      "\u001b[1;32m<ipython-input-4-96ae25a48105>\u001b[0m in \u001b[0;36m<module>\u001b[1;34m()\u001b[0m\n\u001b[0;32m     90\u001b[0m \u001b[1;32mif\u001b[0m \u001b[0m__name__\u001b[0m \u001b[1;33m==\u001b[0m \u001b[1;34m\"__main__\"\u001b[0m\u001b[1;33m:\u001b[0m\u001b[1;33m\u001b[0m\u001b[0m\n\u001b[0;32m     91\u001b[0m     \u001b[0mph\u001b[0m \u001b[1;33m=\u001b[0m \u001b[0mParseHtml\u001b[0m\u001b[1;33m(\u001b[0m\u001b[1;34m\"C:/Code/data/instructables.Guide.cb64.txt\"\u001b[0m\u001b[1;33m,\u001b[0m \u001b[1;34m\"C:/Code/data/instructablesParseResult.tsv\"\u001b[0m\u001b[1;33m)\u001b[0m\u001b[1;33m\u001b[0m\u001b[0m\n\u001b[1;32m---> 92\u001b[1;33m     \u001b[0mph\u001b[0m\u001b[1;33m.\u001b[0m\u001b[0mParse\u001b[0m\u001b[1;33m(\u001b[0m\u001b[1;33m)\u001b[0m\u001b[1;33m\u001b[0m\u001b[0m\n\u001b[0m\u001b[0;32m     93\u001b[0m \u001b[1;33m\u001b[0m\u001b[0m\n",
      "\u001b[1;32m<ipython-input-4-96ae25a48105>\u001b[0m in \u001b[0;36mParse\u001b[1;34m(self)\u001b[0m\n\u001b[0;32m     74\u001b[0m         \u001b[0mfw\u001b[0m \u001b[1;33m=\u001b[0m \u001b[0mopen\u001b[0m\u001b[1;33m(\u001b[0m\u001b[0mself\u001b[0m\u001b[1;33m.\u001b[0m\u001b[0m_outfile\u001b[0m\u001b[1;33m,\u001b[0m \u001b[1;34m'w'\u001b[0m\u001b[1;33m,\u001b[0m \u001b[0mencoding\u001b[0m\u001b[1;33m=\u001b[0m\u001b[1;34m'utf-8'\u001b[0m\u001b[1;33m)\u001b[0m\u001b[1;33m\u001b[0m\u001b[0m\n\u001b[0;32m     75\u001b[0m         \u001b[1;32mfor\u001b[0m \u001b[0murl\u001b[0m \u001b[1;32min\u001b[0m \u001b[0mself\u001b[0m\u001b[1;33m.\u001b[0m\u001b[0m_urlSet\u001b[0m\u001b[1;33m:\u001b[0m\u001b[1;33m\u001b[0m\u001b[0m\n\u001b[1;32m---> 76\u001b[1;33m             \u001b[0mself\u001b[0m\u001b[1;33m.\u001b[0m\u001b[0mParseUrl\u001b[0m\u001b[1;33m(\u001b[0m\u001b[0murl\u001b[0m\u001b[1;33m,\u001b[0m \u001b[0mfw\u001b[0m\u001b[1;33m)\u001b[0m\u001b[1;33m\u001b[0m\u001b[0m\n\u001b[0m\u001b[0;32m     77\u001b[0m         \u001b[0mfw\u001b[0m\u001b[1;33m.\u001b[0m\u001b[0mclose\u001b[0m\u001b[1;33m(\u001b[0m\u001b[1;33m)\u001b[0m\u001b[1;33m\u001b[0m\u001b[0m\n\u001b[0;32m     78\u001b[0m \u001b[1;33m\u001b[0m\u001b[0m\n",
      "\u001b[1;32m<ipython-input-4-96ae25a48105>\u001b[0m in \u001b[0;36mParseUrl\u001b[1;34m(self, url, fw)\u001b[0m\n\u001b[0;32m     83\u001b[0m         \u001b[0mfw\u001b[0m\u001b[1;33m.\u001b[0m\u001b[0mwrite\u001b[0m\u001b[1;33m(\u001b[0m\u001b[0murl\u001b[0m \u001b[1;33m+\u001b[0m \u001b[1;34m'\\n'\u001b[0m\u001b[1;33m)\u001b[0m\u001b[1;33m\u001b[0m\u001b[0m\n\u001b[0;32m     84\u001b[0m         \u001b[0mdes\u001b[0m \u001b[1;33m=\u001b[0m \u001b[0mself\u001b[0m\u001b[1;33m.\u001b[0m\u001b[0mParseDescription\u001b[0m\u001b[1;33m(\u001b[0m\u001b[1;33m)\u001b[0m\u001b[1;33m\u001b[0m\u001b[0m\n\u001b[1;32m---> 85\u001b[1;33m         \u001b[0mfw\u001b[0m\u001b[1;33m.\u001b[0m\u001b[0mwrite\u001b[0m\u001b[1;33m(\u001b[0m\u001b[1;34m\"Intro: \"\u001b[0m \u001b[1;33m+\u001b[0m \u001b[0mself\u001b[0m\u001b[1;33m.\u001b[0m\u001b[0m_head\u001b[0m \u001b[1;33m+\u001b[0m \u001b[1;34m'.\\t'\u001b[0m \u001b[1;33m+\u001b[0m \u001b[0mdes\u001b[0m \u001b[1;33m+\u001b[0m \u001b[1;34m'\\n'\u001b[0m\u001b[1;33m)\u001b[0m\u001b[1;33m\u001b[0m\u001b[0m\n\u001b[0m\u001b[0;32m     86\u001b[0m \u001b[1;33m\u001b[0m\u001b[0m\n\u001b[0;32m     87\u001b[0m         \u001b[1;31m#self.ParseStep(fw)\u001b[0m\u001b[1;33m\u001b[0m\u001b[1;33m\u001b[0m\u001b[0m\n",
      "\u001b[1;31mTypeError\u001b[0m: Can't convert 'NoneType' object to str implicitly"
     ]
    }
   ],
   "source": [
    "# -*- coding: utf-8 -*-\n",
    "\"\"\"\n",
    "Created on Fri Sep 30 18:44:30 2016\n",
    "\n",
    "@author: hengyliu\n",
    "\"\"\"\n",
    "from lxml import html\n",
    "import requests\n",
    "import os\n",
    " \n",
    "class ParseHtml:\n",
    "    def __init__(self, url_file, outfile):\n",
    "        self._urlSet = set()\n",
    "        self.UrlInitial(url_file)\n",
    "        self._head_p = '//*[@id=\"ible-header-title-row\"]/div[1]/h1'\n",
    "        self._des_p = '//meta[@name=\"description\"]'\n",
    "        self._step_p = '//*[@class=\"section steps   sticky \"]'\n",
    "        self._sep = \"*\"\n",
    "        self._outfile = outfile\n",
    "    \n",
    "    def UrlInitial(self, urlfile):\n",
    "        with open(urlfile, 'r', encoding='utf-8') as fr:\n",
    "            for line in fr:\n",
    "                arr = line.split('\\t')\n",
    "                url = arr[0].strip()\n",
    "                self._urlSet.add(url)\n",
    "                \n",
    "    def ParseHead(self):\n",
    "        head = self._tree.xpath(self._head_p)\n",
    "        return head[0].text\n",
    "      \n",
    "    def ParseDescription(self):\n",
    "        des = self._tree.xpath(self._des_p)\n",
    "        return des[0].text\n",
    "    \n",
    "    def RemoveNullEle(self, des_list):\n",
    "        res = []\n",
    "        for ele in des_list:\n",
    "            if ele.strip(' ').strip('\\n'):\n",
    "                res.append(ele)\n",
    "        return ''.join(res)\n",
    "\n",
    "    def ParseStep(self, fw):\n",
    "        StepCont = self._tree.xpath(self._step_p)\n",
    "        for ele in StepCont:#step1, step2\n",
    "            #Title of Step1, Step2\n",
    "            titles = ele.findall('.//*[@class=\"mw-headline\"]')\n",
    "            fw.write(self._sep + titles[0].text + '\\n')\n",
    "            \n",
    "            #Sub steps of Step1\n",
    "            subPath = './/li/div[@class=\"step\"]'   \n",
    "            subSteps = ele.findall(subPath)\n",
    "            for subEle in subSteps: #step1.1, step1.2\n",
    "                #Title of step1.1\n",
    "                subTitle = subEle.find('./b')\n",
    "                sub_title = subTitle.text\n",
    "                #print(self._sep * 2 + sub_title)\n",
    "                fw.write(self._sep * 2 + sub_title + '\\n')\n",
    "                \n",
    "                #Des of step1.1\n",
    "                subEle_agin = subTitle.xpath('../text()')\n",
    "                res = self.RemoveNullEle(subEle_agin)\n",
    "                if res.strip():\n",
    "                    #print (self._sep * 3 + self.RemoveNullEle(subEle_agin)) \n",
    "                    fw.write(self._sep * 3 + self.RemoveNullEle(subEle_agin) + '\\n')\n",
    "                #sub step of step1.1\n",
    "                sub_sub_txt = subTitle.xpath('../ul/li/text()')\n",
    "                res = self.RemoveNullEle(sub_sub_txt)\n",
    "                if res.strip():\n",
    "                    #print (self._sep * 4 + self.RemoveNullEle(sub_sub_txt))\n",
    "                    fw.write(self._sep * 4 + self.RemoveNullEle(sub_sub_txt) + '\\n')\n",
    "      \n",
    "    def Parse(self):\n",
    "        fw = open(self._outfile, 'w', encoding='utf-8')\n",
    "        for url in self._urlSet:\n",
    "            self.ParseUrl(url, fw)\n",
    "        fw.close()\n",
    "        \n",
    "    def ParseUrl(self, url, fw):\n",
    "        page = requests.get(url)\n",
    "        self._tree = html.fromstring(page.content)      \n",
    "        self._head = self.ParseHead()      \n",
    "        fw.write(url + '\\n')\n",
    "        des = self.ParseDescription()\n",
    "        fw.write(\"Intro: \" + self._head + '.\\t' + des + '\\n')   \n",
    "        \n",
    "        #self.ParseStep(fw)\n",
    "        \n",
    "        \n",
    "if __name__ == \"__main__\":\n",
    "    ph = ParseHtml(\"C:/Code/data/instructables.Guide.cb64.txt\", \"C:/Code/data/instructablesParseResult.tsv\")\n",
    "    ph.Parse()\n",
    "    \n"
   ]
  },
  {
   "cell_type": "code",
   "execution_count": 5,
   "metadata": {
    "collapsed": false
   },
   "outputs": [
    {
     "name": "stdout",
     "output_type": "stream",
     "text": [
      "[\r\n",
      "1.\r\n",
      "the state or quality of being adequate; sufficiency for a particular purpose. \r\n",
      "\r\n",
      "]\n"
     ]
    }
   ],
   "source": [
    "line = '[\\r\\n1.\\r\\nthe state or quality of being adequate; sufficiency for a particular purpose. \\r\\n\\r\\n]'\n",
    "print(line)"
   ]
  },
  {
   "cell_type": "code",
   "execution_count": 7,
   "metadata": {
    "collapsed": false
   },
   "outputs": [],
   "source": [
    "line = '[\\r\\n1.\\r\\nto bungle or blunder awkwardly; muddle: \\r\\nHe somehow bumbled through two years of college.\\r\\n\\r\\n\\r\\n],[\\r\\n2.\\r\\nto stumble or stagger. \\r\\n\\r\\n][\\r\\n3.\\r\\nto speak in a low, stuttering, halting manner; mumble. \\r\\n\\r\\n],[\\r\\n4.\\r\\nto do (something) clumsily; botch. \\r\\n\\r\\n],[\\r\\n5.\\r\\nan awkward blunder. \\r\\n\\r\\n]'"
   ]
  },
  {
   "cell_type": "raw",
   "metadata": {},
   "source": [
    "print(line)"
   ]
  },
  {
   "cell_type": "code",
   "execution_count": 8,
   "metadata": {
    "collapsed": false
   },
   "outputs": [
    {
     "name": "stdout",
     "output_type": "stream",
     "text": [
      "[\r\n",
      "1.\r\n",
      "to bungle or blunder awkwardly; muddle: \r\n",
      "He somehow bumbled through two years of college.\r\n",
      "\r\n",
      "\r\n",
      "],[\r\n",
      "2.\r\n",
      "to stumble or stagger. \r\n",
      "\r\n",
      "][\r\n",
      "3.\r\n",
      "to speak in a low, stuttering, halting manner; mumble. \r\n",
      "\r\n",
      "],[\r\n",
      "4.\r\n",
      "to do (something) clumsily; botch. \r\n",
      "\r\n",
      "],[\r\n",
      "5.\r\n",
      "an awkward blunder. \r\n",
      "\r\n",
      "]\n"
     ]
    }
   ],
   "source": [
    "print(line)"
   ]
  },
  {
   "cell_type": "code",
   "execution_count": 10,
   "metadata": {
    "collapsed": false
   },
   "outputs": [],
   "source": [
    "line = 'https://www.vocabulary.com/dictionary//doom\t\t[n an unpleasant or disastrous destiny],[v make certain of the failure or destruction of],[v decree or designate beforehand],[v pronounce a sentence on (somebody) in a court of law]'"
   ]
  },
  {
   "cell_type": "raw",
   "metadata": {},
   "source": [
    "line\n"
   ]
  },
  {
   "cell_type": "code",
   "execution_count": 11,
   "metadata": {
    "collapsed": false
   },
   "outputs": [
    {
     "data": {
      "text/plain": [
       "'https://www.vocabulary.com/dictionary//doom\\t\\t[n an unpleasant or disastrous destiny],[v make certain of the failure or destruction of],[v decree or designate beforehand],[v pronounce a sentence on (somebody) in a court of law]'"
      ]
     },
     "execution_count": 11,
     "metadata": {},
     "output_type": "execute_result"
    }
   ],
   "source": [
    "line"
   ]
  },
  {
   "cell_type": "code",
   "execution_count": 12,
   "metadata": {
    "collapsed": false
   },
   "outputs": [
    {
     "name": "stdout",
     "output_type": "stream",
     "text": [
      "https://www.vocabulary.com/dictionary//doom\t\t[n an unpleasant or disastrous destiny],[v make certain of the failure or destruction of],[v decree or designate beforehand],[v pronounce a sentence on (somebody) in a court of law]\n"
     ]
    }
   ],
   "source": [
    "print(line)"
   ]
  },
  {
   "cell_type": "code",
   "execution_count": 14,
   "metadata": {
    "collapsed": false
   },
   "outputs": [],
   "source": [
    "line = \"https://answers.yahoo.com/question/index?qid=20100518230438AA9uAec\t\t\t[I believe thats when they suggest you apply for aid. It's actually a good idea to apply much sooner than that even, as soon as you (and your parents, if applicable) have your income data ready. The later you apply for aid, the higher proportion of loans you'll get as opposed to grants. But still apply.],[I would think so. Best to ask the FASFA office to find out. Besides it never hurts to apply.],[I do not think so but you should look into a job as a teller at banks, if you have a certain they usually reimburse you for tuition after a certain number of months of employment.],[Yes but it won't be priority],[YES you can and you should, you can still get a lot of aid. \\r\\n\\r\\nGo to http://www.fafsa.ed.gov/FOTWWebApp/complete013.jsp \\r\\nand do this asap.]\""
   ]
  },
  {
   "cell_type": "code",
   "execution_count": 15,
   "metadata": {
    "collapsed": false
   },
   "outputs": [
    {
     "name": "stdout",
     "output_type": "stream",
     "text": [
      "https://answers.yahoo.com/question/index?qid=20100518230438AA9uAec\t\t\t[I believe thats when they suggest you apply for aid. It's actually a good idea to apply much sooner than that even, as soon as you (and your parents, if applicable) have your income data ready. The later you apply for aid, the higher proportion of loans you'll get as opposed to grants. But still apply.],[I would think so. Best to ask the FASFA office to find out. Besides it never hurts to apply.],[I do not think so but you should look into a job as a teller at banks, if you have a certain they usually reimburse you for tuition after a certain number of months of employment.],[Yes but it won't be priority],[YES you can and you should, you can still get a lot of aid. \r\n",
      "\r\n",
      "Go to http://www.fafsa.ed.gov/FOTWWebApp/complete013.jsp \r\n",
      "and do this asap.]\n"
     ]
    }
   ],
   "source": [
    "print(line)"
   ]
  },
  {
   "cell_type": "code",
   "execution_count": 19,
   "metadata": {
    "collapsed": false
   },
   "outputs": [
    {
     "name": "stdout",
     "output_type": "stream",
     "text": [
      "0\thttps://answers.yahoo.com/question/index?qid=20100518230438AA9uAec\n",
      "1\t\n",
      "2\t\n",
      "3\t[I believe thats when they suggest you apply for aid. It's actually a good idea to apply much sooner than that even, as soon as you (and your parents, if applicable) have your income data ready. The later you apply for aid, the higher proportion of loans you'll get as opposed to grants. But still apply.],[I would think so. Best to ask the FASFA office to find out. Besides it never hurts to apply.],[I do not think so but you should look into a job as a teller at banks, if you have a certain they usually reimburse you for tuition after a certain number of months of employment.],[Yes but it won't be priority],[YES you can and you should, you can still get a lot of aid. \r\n",
      "\r\n",
      "Go to http://www.fafsa.ed.gov/FOTWWebApp/complete013.jsp \r\n",
      "and do this asap.]\n"
     ]
    }
   ],
   "source": [
    "arr = line.split('\\t')\n",
    "for num, ele in enumerate(arr):\n",
    "    print(\"{0}\\t{1}\".format(num, ele))"
   ]
  },
  {
   "cell_type": "code",
   "execution_count": 21,
   "metadata": {
    "collapsed": false
   },
   "outputs": [],
   "source": [
    "line = \"http://www.instructables.com/id/SHIELD-Personalized-ID/?ALLSTEPS\t\t\t[Step 1: Materials],[Step 2: Assembly of the I.D.],[Step 3: Print it out!]\t[\\r\\nStep 1: Materials\\r\\n\\r\\nThis uses minimal materials, but you may need to obtain some from the internet if you are not satisfied with what you have. You will need:\\r\\n\\r\\n1) access to a printer\\r\\n\\r\\n2) a google account\\r\\n\\r\\n3) The blank Shield I.D. card found on herd of cats.ca found here\\r\\n\\r\\n4) a computer\\r\\n\\r\\n5) a photo of yourself\\r\\n\\r\\n6) Something to hold the I.D., what this is is up to you. I used an old wallet I found lying around.\\r\\n\\r\\n\\r\\nAdvertisement\\r\\n\\r\\n\\r\\n\\r\\n\\r\\n\\r\\n],[\\r\\nStep 2: Assembly of the I.D.\\r\\n\\r\\n\\r\\n\\r\\n\\r\\nShow All Items\\r\\n\\r\\n\\r\\n\\r\\nPut the blank I.D. into a google drawing, and paste in the photo of yourself. Use the text box tool to fill in the information you want ( Field agent/Pilot/Director/etc.) and what you want it to say (your name/height/hair color/gender/issue date). I also put a logo upside down under so that when it is printed the card could have a back.\\r\\n\\r\\n\\r\\n],[\\r\\nStep 3: Print it out!\\r\\n\\r\\nFairly self explanatory right? Just print out your I.D., and cut it out. Put it in your holder and Voila! you instantly have shield agent status!\\r\\n\\r\\nP.S. if you pair this with a black trench coat and eyepatch... instant Nick Fury costume!\\r\\n\\r\\n\\r\\n]\""
   ]
  },
  {
   "cell_type": "code",
   "execution_count": 23,
   "metadata": {
    "collapsed": false
   },
   "outputs": [
    {
     "name": "stdout",
     "output_type": "stream",
     "text": [
      "0\thttp://www.instructables.com/id/SHIELD-Personalized-ID/?ALLSTEPS\n",
      "1\t\n",
      "2\t\n",
      "3\t[Step 1: Materials],[Step 2: Assembly of the I.D.],[Step 3: Print it out!]\n",
      "4\t[\r\n",
      "Step 1: Materials\r\n",
      "\r\n",
      "This uses minimal materials, but you may need to obtain some from the internet if you are not satisfied with what you have. You will need:\r\n",
      "\r\n",
      "1) access to a printer\r\n",
      "\r\n",
      "2) a google account\r\n",
      "\r\n",
      "3) The blank Shield I.D. card found on herd of cats.ca found here\r\n",
      "\r\n",
      "4) a computer\r\n",
      "\r\n",
      "5) a photo of yourself\r\n",
      "\r\n",
      "6) Something to hold the I.D., what this is is up to you. I used an old wallet I found lying around.\r\n",
      "\r\n",
      "\r\n",
      "Advertisement\r\n",
      "\r\n",
      "\r\n",
      "\r\n",
      "\r\n",
      "\r\n",
      "],[\r\n",
      "Step 2: Assembly of the I.D.\r\n",
      "\r\n",
      "\r\n",
      "\r\n",
      "\r\n",
      "Show All Items\r\n",
      "\r\n",
      "\r\n",
      "\r\n",
      "Put the blank I.D. into a google drawing, and paste in the photo of yourself. Use the text box tool to fill in the information you want ( Field agent/Pilot/Director/etc.) and what you want it to say (your name/height/hair color/gender/issue date). I also put a logo upside down under so that when it is printed the card could have a back.\r\n",
      "\r\n",
      "\r\n",
      "],[\r\n",
      "Step 3: Print it out!\r\n",
      "\r\n",
      "Fairly self explanatory right? Just print out your I.D., and cut it out. Put it in your holder and Voila! you instantly have shield agent status!\r\n",
      "\r\n",
      "P.S. if you pair this with a black trench coat and eyepatch... instant Nick Fury costume!\r\n",
      "\r\n",
      "\r\n",
      "]\n"
     ]
    }
   ],
   "source": [
    "for num, ele in enumerate(line.split('\\t')):\n",
    "    print(\"{0}\\t{1}\".format(num, ele))"
   ]
  },
  {
   "cell_type": "code",
   "execution_count": 27,
   "metadata": {
    "collapsed": false
   },
   "outputs": [],
   "source": [
    "line = \"\"\"https://answers.yahoo.com/question/index?qid=1006050323116\t[Who is the patron saint of protection? ]\t[\\r\\n\\r\\n\\r\\n\\r\\n\\r\\n\\r\\nBest Answer:  here is a website that will tell u what all the saints were called and what they protected.Christopher was the protector of travelers \\r\\n\\r\\n\\r\\n\\r\\nSource(s): http://en.wikipedia.org/wiki/Patron_sain... \\r\\n\\r\\njibbers4204 · 1 decade ago \\r\\n\\r\\n\\r\\n\\r\\n\\r\\n\\r\\n\\r\\n0\\r\\nThumbs up\\r\\n\\r\\n\\r\\n\\r\\n\\r\\n0\\r\\nThumbs down\\r\\n\\r\\n\\r\\n\\r\\n\\r\\n\\r\\nComment\\r\\n\\r\\n\\r\\n\\r\\n\\r\\n\\r\\n\\r\\n\\r\\n\\r\\n\\r\\n\\r\\nAdd a comment\\r\\n\\r\\n\\r\\n\\r\\n\\r\\n\\r\\n\\r\\n\\r\\n\\r\\n\\r\\nSubmit\\r\\n\\r\\n\\r\\n\\r\\n\\r\\n\\r\\n\\r\\n\\r\\n\\r\\n\\r\\n\\r\\n\\r\\n\\r\\n\\r\\n· just now\\r\\n\\r\\n\\r\\n\\r\\n\\r\\n\\r\\n\\r\\n\\r\\n\\r\\nReport Abuse \\r\\n\\r\\n\\r\\n\\r\\n\\r\\n\\r\\n]\t[This Site Might Help You. \\r\\n\\r\\nRE: \\r\\nWho is the patron saint of protection?],[The first question is protection from what? There are many saints of protection: \\r\\n\\r\\nSaints associated with protection from ailments or illness \\r\\nAgatha - breast cancer \\r\\nApollonia - toothache \\r\\nAugustine of Hippo - sore eyes \\r\\nBlaise - ailments of the throat \\r\\nCyriacus - eye disease \\r\\nFourteen Holy Helpers \\r\\nJames the Greater - rheumatism \\r\\nLucy of Syracuse - haemorrhage, eye complaints \\r\\nMarculf - scrofula, diseases of the skin \\r\\nDymphna - sleepwalking, epilepsy, insanity, mental illness \\r\\nFiacre - Venereal disease sufferers, hemorrhoids \\r\\nTeresa of Avila - headaches \\r\\nVitus - chorea \\r\\nSimon of Trent - torture and kidnap victims (no longer venerated) \\r\\n\\r\\nOther protective help \\r\\nWulfram of Sens is called upon for protection against the dangers of the sea \\r\\n\\r\\nSt Jude is the patron saint of police: protectors? \\r\\n\\r\\nYou need to be more specific.],[Saint Luiggi, the patron saint of protection and founder of the holy order of the kneecap.],[There isn't a \"Patron saint of protection\"- we'd need to know the protection from what. \\r\\n\\r\\nThis is a good site though:],[St. Hubans, he's also the patron saint of protective footwear.],[Saint Joseph was named the protector of the Church, by Pope Paul VI. \\r\\n\\r\\nDuring the Holy Mass celebrated in Saint Peter's on the feast of Saint Joseph, he gave the following homily: \\r\\n\\r\\n\"Dearest brethren, sons and daughters! \\r\\n\\r\\nToday's feast invites us to meditate about Saint Joseph, Our Lord Jesus legal and foster father. Because of that function which he performed in regard to Christ during His childhood and youth, he has been declared Patron or Protector of the Church, which continues Christ's image and mission in time and reflects them in history.],[San Miguel Ark Angel],[St. Gregory; God's Guardian and Protector],[That would be God. Saints are all mutilated and/or dead anyway, so why do people pray to them? They didn't make anybody. Except Frankenstein, you could pray to him.]\"\"\""
   ]
  },
  {
   "cell_type": "code",
   "execution_count": 29,
   "metadata": {
    "collapsed": false
   },
   "outputs": [
    {
     "name": "stdout",
     "output_type": "stream",
     "text": [
      "0\thttps://answers.yahoo.com/question/index?qid=1006050323116\n",
      "1\t[Who is the patron saint of protection? ]\n",
      "2\t[\r\n",
      "\r\n",
      "\r\n",
      "\r\n",
      "\r\n",
      "\r\n",
      "Best Answer:  here is a website that will tell u what all the saints were called and what they protected.Christopher was the protector of travelers \r\n",
      "\r\n",
      "\r\n",
      "\r\n",
      "Source(s): http://en.wikipedia.org/wiki/Patron_sain... \r\n",
      "\r\n",
      "jibbers4204 · 1 decade ago \r\n",
      "\r\n",
      "\r\n",
      "\r\n",
      "\r\n",
      "\r\n",
      "\r\n",
      "0\r\n",
      "Thumbs up\r\n",
      "\r\n",
      "\r\n",
      "\r\n",
      "\r\n",
      "0\r\n",
      "Thumbs down\r\n",
      "\r\n",
      "\r\n",
      "\r\n",
      "\r\n",
      "\r\n",
      "Comment\r\n",
      "\r\n",
      "\r\n",
      "\r\n",
      "\r\n",
      "\r\n",
      "\r\n",
      "\r\n",
      "\r\n",
      "\r\n",
      "\r\n",
      "Add a comment\r\n",
      "\r\n",
      "\r\n",
      "\r\n",
      "\r\n",
      "\r\n",
      "\r\n",
      "\r\n",
      "\r\n",
      "\r\n",
      "Submit\r\n",
      "\r\n",
      "\r\n",
      "\r\n",
      "\r\n",
      "\r\n",
      "\r\n",
      "\r\n",
      "\r\n",
      "\r\n",
      "\r\n",
      "\r\n",
      "\r\n",
      "\r\n",
      "· just now\r\n",
      "\r\n",
      "\r\n",
      "\r\n",
      "\r\n",
      "\r\n",
      "\r\n",
      "\r\n",
      "\r\n",
      "Report Abuse \r\n",
      "\r\n",
      "\r\n",
      "\r\n",
      "\r\n",
      "\r\n",
      "]\n",
      "3\t[This Site Might Help You. \r\n",
      "\r\n",
      "RE: \r\n",
      "Who is the patron saint of protection?],[The first question is protection from what? There are many saints of protection: \r\n",
      "\r\n",
      "Saints associated with protection from ailments or illness \r\n",
      "Agatha - breast cancer \r\n",
      "Apollonia - toothache \r\n",
      "Augustine of Hippo - sore eyes \r\n",
      "Blaise - ailments of the throat \r\n",
      "Cyriacus - eye disease \r\n",
      "Fourteen Holy Helpers \r\n",
      "James the Greater - rheumatism \r\n",
      "Lucy of Syracuse - haemorrhage, eye complaints \r\n",
      "Marculf - scrofula, diseases of the skin \r\n",
      "Dymphna - sleepwalking, epilepsy, insanity, mental illness \r\n",
      "Fiacre - Venereal disease sufferers, hemorrhoids \r\n",
      "Teresa of Avila - headaches \r\n",
      "Vitus - chorea \r\n",
      "Simon of Trent - torture and kidnap victims (no longer venerated) \r\n",
      "\r\n",
      "Other protective help \r\n",
      "Wulfram of Sens is called upon for protection against the dangers of the sea \r\n",
      "\r\n",
      "St Jude is the patron saint of police: protectors? \r\n",
      "\r\n",
      "You need to be more specific.],[Saint Luiggi, the patron saint of protection and founder of the holy order of the kneecap.],[There isn't a \"Patron saint of protection\"- we'd need to know the protection from what. \r\n",
      "\r\n",
      "This is a good site though:],[St. Hubans, he's also the patron saint of protective footwear.],[Saint Joseph was named the protector of the Church, by Pope Paul VI. \r\n",
      "\r\n",
      "During the Holy Mass celebrated in Saint Peter's on the feast of Saint Joseph, he gave the following homily: \r\n",
      "\r\n",
      "\"Dearest brethren, sons and daughters! \r\n",
      "\r\n",
      "Today's feast invites us to meditate about Saint Joseph, Our Lord Jesus legal and foster father. Because of that function which he performed in regard to Christ during His childhood and youth, he has been declared Patron or Protector of the Church, which continues Christ's image and mission in time and reflects them in history.],[San Miguel Ark Angel],[St. Gregory; God's Guardian and Protector],[That would be God. Saints are all mutilated and/or dead anyway, so why do people pray to them? They didn't make anybody. Except Frankenstein, you could pray to him.]\n"
     ]
    }
   ],
   "source": [
    "for num, ele in enumerate(line.split('\\t')):\n",
    "    print(\"{0}\\t{1}\".format(num, ele))"
   ]
  },
  {
   "cell_type": "code",
   "execution_count": 31,
   "metadata": {
    "collapsed": false
   },
   "outputs": [
    {
     "ename": "SyntaxError",
     "evalue": "invalid syntax (<ipython-input-31-7177cd02f71e>, line 1)",
     "output_type": "error",
     "traceback": [
      "\u001b[1;36m  File \u001b[1;32m\"<ipython-input-31-7177cd02f71e>\"\u001b[1;36m, line \u001b[1;32m1\u001b[0m\n\u001b[1;33m    line = \"https://answers.yahoo.com/question/index?qid=1005120803362\t[Who can give me a web space for asp,and it's free!? ]\t[\\r\\n\\r\\n\\r\\n\\r\\n\\r\\n\\r\\nBest Answer:  It depends on how do you want it. \\r\\n\\r\\nThere are many which are providing freehosting with Ad-support and very few with out Ads. \\r\\n\\r\\nBut you can't expect that they will be up always as compared with paid-hosting. you should be ready for the downtime also. \\r\\n\\r\\nGo here for a list of asp hosts. \\r\\nhttp://www.freewebspace.net/php/search.php?a=1&b=0&form_language=&form_location=&form_space=0&form_adtype=&form_features%5B%5D=ASP&form_title=&form_hostType=REG&i=10&submit=Search \\r\\n\\r\\n\\r\\n\\r\\nSource(s): \\r\\n\\r\\nChandu · 1 decade ago \\r\\n\\r\\n\\r\\n\\r\\n\\r\\n\\r\\n\\r\\n0\\r\\nThumbs up\\r\\n\\r\\n\\r\\n\\r\\n\\r\\n1\\r\\nThumbs down\\r\\n\\r\\n\\r\\n\\r\\n\\r\\n\\r\\nComment\\r\\n\\r\\n\\r\\n\\r\\n\\r\\n\\r\\n\\r\\n\\r\\n\\r\\n\\r\\n\\r\\nAdd a comment\\r\\n\\r\\n\\r\\n\\r\\n\\r\\n\\r\\n\\r\\n\\r\\n\\r\\n\\r\\nSubmit\\r\\n\\r\\n\\r\\n\\r\\n\\r\\n\\r\\n\\r\\n\\r\\n\\r\\n\\r\\n\\r\\n\\r\\n\\r\\n\\r\\n· just now\\r\\n\\r\\n\\r\\n\\r\\n\\r\\n\\r\\n\\r\\n\\r\\n\\r\\nReport Abuse \\r\\n\\r\\n\\r\\n\\r\\n\\r\\n\\r\\n]\t[asp hosting cannot be free. It needs to run on Windows 2000 Server or Windows 2003 server... Or put simply Microsoft IIS. There is always cost and licensing issues involved. \\r\\n\\r\\nMy advice is to get your own linux server, run a php engine on it and use MYSQL. Develop your application in PHP.],[have you searched \"free asp hosting\" with your favorite search engine?]\"\u001b[0m\n\u001b[1;37m                                                                      \t                                                      \t                                                                                                                                                                                                                                                                                                                                                                                                                                                                                                                                                                                                                                                                                                                                                                                                                                                                                                                                                                        \t                                                                                                                                                                                                                                                                                                                                 ^\u001b[0m\n\u001b[1;31mSyntaxError\u001b[0m\u001b[1;31m:\u001b[0m invalid syntax\n"
     ]
    }
   ],
   "source": [
    "line = \"https://answers.yahoo.com/question/index?qid=1005120803362\t[Who can give me a web space for asp,and it's free!? ]\t[\\r\\n\\r\\n\\r\\n\\r\\n\\r\\n\\r\\nBest Answer:  It depends on how do you want it. \\r\\n\\r\\nThere are many which are providing freehosting with Ad-support and very few with out Ads. \\r\\n\\r\\nBut you can't expect that they will be up always as compared with paid-hosting. you should be ready for the downtime also. \\r\\n\\r\\nGo here for a list of asp hosts. \\r\\nhttp://www.freewebspace.net/php/search.php?a=1&b=0&form_language=&form_location=&form_space=0&form_adtype=&form_features%5B%5D=ASP&form_title=&form_hostType=REG&i=10&submit=Search \\r\\n\\r\\n\\r\\n\\r\\nSource(s): \\r\\n\\r\\nChandu · 1 decade ago \\r\\n\\r\\n\\r\\n\\r\\n\\r\\n\\r\\n\\r\\n0\\r\\nThumbs up\\r\\n\\r\\n\\r\\n\\r\\n\\r\\n1\\r\\nThumbs down\\r\\n\\r\\n\\r\\n\\r\\n\\r\\n\\r\\nComment\\r\\n\\r\\n\\r\\n\\r\\n\\r\\n\\r\\n\\r\\n\\r\\n\\r\\n\\r\\n\\r\\nAdd a comment\\r\\n\\r\\n\\r\\n\\r\\n\\r\\n\\r\\n\\r\\n\\r\\n\\r\\n\\r\\nSubmit\\r\\n\\r\\n\\r\\n\\r\\n\\r\\n\\r\\n\\r\\n\\r\\n\\r\\n\\r\\n\\r\\n\\r\\n\\r\\n\\r\\n· just now\\r\\n\\r\\n\\r\\n\\r\\n\\r\\n\\r\\n\\r\\n\\r\\n\\r\\nReport Abuse \\r\\n\\r\\n\\r\\n\\r\\n\\r\\n\\r\\n]\t[asp hosting cannot be free. It needs to run on Windows 2000 Server or Windows 2003 server... Or put simply Microsoft IIS. There is always cost and licensing issues involved. \\r\\n\\r\\nMy advice is to get your own linux server, run a php engine on it and use MYSQL. Develop your application in PHP.],[have you searched \"free asp hosting\" with your favorite search engine?]\""
   ]
  },
  {
   "cell_type": "code",
   "execution_count": 32,
   "metadata": {
    "collapsed": true
   },
   "outputs": [],
   "source": [
    "line = '''https://answers.yahoo.com/question/index?qid=1005120803362\t[Who can give me a web space for asp,and it's free!? ]\t[\\r\\n\\r\\n\\r\\n\\r\\n\\r\\n\\r\\nBest Answer:  It depends on how do you want it. \\r\\n\\r\\nThere are many which are providing freehosting with Ad-support and very few with out Ads. \\r\\n\\r\\nBut you can't expect that they will be up always as compared with paid-hosting. you should be ready for the downtime also. \\r\\n\\r\\nGo here for a list of asp hosts. \\r\\nhttp://www.freewebspace.net/php/search.php?a=1&b=0&form_language=&form_location=&form_space=0&form_adtype=&form_features%5B%5D=ASP&form_title=&form_hostType=REG&i=10&submit=Search \\r\\n\\r\\n\\r\\n\\r\\nSource(s): \\r\\n\\r\\nChandu · 1 decade ago \\r\\n\\r\\n\\r\\n\\r\\n\\r\\n\\r\\n\\r\\n0\\r\\nThumbs up\\r\\n\\r\\n\\r\\n\\r\\n\\r\\n1\\r\\nThumbs down\\r\\n\\r\\n\\r\\n\\r\\n\\r\\n\\r\\nComment\\r\\n\\r\\n\\r\\n\\r\\n\\r\\n\\r\\n\\r\\n\\r\\n\\r\\n\\r\\n\\r\\nAdd a comment\\r\\n\\r\\n\\r\\n\\r\\n\\r\\n\\r\\n\\r\\n\\r\\n\\r\\n\\r\\nSubmit\\r\\n\\r\\n\\r\\n\\r\\n\\r\\n\\r\\n\\r\\n\\r\\n\\r\\n\\r\\n\\r\\n\\r\\n\\r\\n\\r\\n· just now\\r\\n\\r\\n\\r\\n\\r\\n\\r\\n\\r\\n\\r\\n\\r\\n\\r\\nReport Abuse \\r\\n\\r\\n\\r\\n\\r\\n\\r\\n\\r\\n]\t[asp hosting cannot be free. It needs to run on Windows 2000 Server or Windows 2003 server... Or put simply Microsoft IIS. There is always cost and licensing issues involved. \\r\\n\\r\\nMy advice is to get your own linux server, run a php engine on it and use MYSQL. Develop your application in PHP.],[have you searched \"free asp hosting\" with your favorite search engine?]'''"
   ]
  },
  {
   "cell_type": "code",
   "execution_count": 34,
   "metadata": {
    "collapsed": false
   },
   "outputs": [
    {
     "name": "stdout",
     "output_type": "stream",
     "text": [
      "0\thttps://answers.yahoo.com/question/index?qid=1005120803362\n",
      "1\t[Who can give me a web space for asp,and it's free!? ]\n",
      "2\t[\r\n",
      "\r\n",
      "\r\n",
      "\r\n",
      "\r\n",
      "\r\n",
      "Best Answer:  It depends on how do you want it. \r\n",
      "\r\n",
      "There are many which are providing freehosting with Ad-support and very few with out Ads. \r\n",
      "\r\n",
      "But you can't expect that they will be up always as compared with paid-hosting. you should be ready for the downtime also. \r\n",
      "\r\n",
      "Go here for a list of asp hosts. \r\n",
      "http://www.freewebspace.net/php/search.php?a=1&b=0&form_language=&form_location=&form_space=0&form_adtype=&form_features%5B%5D=ASP&form_title=&form_hostType=REG&i=10&submit=Search \r\n",
      "\r\n",
      "\r\n",
      "\r\n",
      "Source(s): \r\n",
      "\r\n",
      "Chandu · 1 decade ago \r\n",
      "\r\n",
      "\r\n",
      "\r\n",
      "\r\n",
      "\r\n",
      "\r\n",
      "0\r\n",
      "Thumbs up\r\n",
      "\r\n",
      "\r\n",
      "\r\n",
      "\r\n",
      "1\r\n",
      "Thumbs down\r\n",
      "\r\n",
      "\r\n",
      "\r\n",
      "\r\n",
      "\r\n",
      "Comment\r\n",
      "\r\n",
      "\r\n",
      "\r\n",
      "\r\n",
      "\r\n",
      "\r\n",
      "\r\n",
      "\r\n",
      "\r\n",
      "\r\n",
      "Add a comment\r\n",
      "\r\n",
      "\r\n",
      "\r\n",
      "\r\n",
      "\r\n",
      "\r\n",
      "\r\n",
      "\r\n",
      "\r\n",
      "Submit\r\n",
      "\r\n",
      "\r\n",
      "\r\n",
      "\r\n",
      "\r\n",
      "\r\n",
      "\r\n",
      "\r\n",
      "\r\n",
      "\r\n",
      "\r\n",
      "\r\n",
      "\r\n",
      "· just now\r\n",
      "\r\n",
      "\r\n",
      "\r\n",
      "\r\n",
      "\r\n",
      "\r\n",
      "\r\n",
      "\r\n",
      "Report Abuse \r\n",
      "\r\n",
      "\r\n",
      "\r\n",
      "\r\n",
      "\r\n",
      "]\n",
      "3\t[asp hosting cannot be free. It needs to run on Windows 2000 Server or Windows 2003 server... Or put simply Microsoft IIS. There is always cost and licensing issues involved. \r\n",
      "\r\n",
      "My advice is to get your own linux server, run a php engine on it and use MYSQL. Develop your application in PHP.],[have you searched \"free asp hosting\" with your favorite search engine?]\n"
     ]
    }
   ],
   "source": [
    "for colNum, col in enumerate(line.strip().split('\\t')):\n",
    "    print(\"{0}\\t{1}\".format(colNum, col))"
   ]
  },
  {
   "cell_type": "code",
   "execution_count": 36,
   "metadata": {
    "collapsed": false
   },
   "outputs": [
    {
     "data": {
      "text/plain": [
       "'[asp hosting cannot be free. It needs to run on Windows 2000 Server or Windows 2003 server... Or put simply Microsoft IIS. There is always cost and licensing issues involved. \\r\\n\\r\\nMy advice is to get your own linux server, run a php engine on it and use MYSQL. Develop your application in PHP.],[have you searched \"free asp hosting\" with your favorite search engine?]'"
      ]
     },
     "execution_count": 36,
     "metadata": {},
     "output_type": "execute_result"
    }
   ],
   "source": [
    "line.split('\\t')[3]"
   ]
  },
  {
   "cell_type": "code",
   "execution_count": 61,
   "metadata": {
    "collapsed": true
   },
   "outputs": [],
   "source": [
    "line = \"\"\"\"\"\"http://www.ehow.com/how_5698332_make-wire-closet-shelving-sturdy.html\t[How to Make the White Wire Closet Shelving More Sturdy ]\t[Purchase the strongest closet shelving brackets that you can find. Some higher-end brackets can hold 500 or 1,000 pounds for 36 inches on center. \"On center\" means that you must not space your brackets greater than 36 inches apart from each other for safety.],[Screw the brackets directly into the studs in your walls. Use a stud finder to find the studs. Drill a pilot hole into the wall and the stud. A pilot hole will help your screw go in straight, reduce the chances of your screw stripping and decrease the chances of you splitting or cracking the stud in case you are not screwing your screw dead center into the stud.],[Add additional strength and support to the shelving by installing the clips that screw into the wall, clamping the back wire of the wire shelving. Add these every 12 to 24 inches, depending on the amount of additional support that you desire to add.]\n"
   ]
  },
  {
   "cell_type": "code",
   "execution_count": 62,
   "metadata": {
    "collapsed": false
   },
   "outputs": [
    {
     "name": "stdout",
     "output_type": "stream",
     "text": [
      "0\thttp://www.ehow.com/how_5373938_calculate-kpa.html\n",
      "1\t[How to Calculate kPa ]\n",
      "2\t[Write all the information you have for your problem on the paper. For a three-dimensional problem, you should have a force vector and some definition for the object you are analyzing at a minimum. If possible, draw a sketch of the problem. In the example, the object is a cylinder with a radius of 0.5m. The force is 20 kilonewtons (kN) acting at the center of the top surface at a 30 degree angle from perpendicular. The source is the top surface, which is flat and perpendicular to the centerline of the cylinder.],[sin(30) = 10 kN],[0.5^2 = 0.785 m^2],[P = F(a)/A = 17.3 N / 0.785 m^2 = 22.04 kPa]\n"
     ]
    }
   ],
   "source": [
    "for num, ele in enumerate(line.strip().split('\\t')):\n",
    "    print(\"{0}\\t{1}\".format(num, ele))"
   ]
  },
  {
   "cell_type": "code",
   "execution_count": null,
   "metadata": {
    "collapsed": true
   },
   "outputs": [],
   "source": []
  },
  {
   "cell_type": "code",
   "execution_count": null,
   "metadata": {
    "collapsed": true
   },
   "outputs": [],
   "source": []
  }
 ],
 "metadata": {
  "anaconda-cloud": {},
  "kernelspec": {
   "display_name": "Python [Root]",
   "language": "python",
   "name": "Python [Root]"
  },
  "language_info": {
   "codemirror_mode": {
    "name": "ipython",
    "version": 3
   },
   "file_extension": ".py",
   "mimetype": "text/x-python",
   "name": "python",
   "nbconvert_exporter": "python",
   "pygments_lexer": "ipython3",
   "version": "3.5.2"
  }
 },
 "nbformat": 4,
 "nbformat_minor": 0
}
