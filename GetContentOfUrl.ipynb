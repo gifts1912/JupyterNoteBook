{
 "cells": [
  {
   "cell_type": "code",
   "execution_count": 13,
   "metadata": {
    "collapsed": true
   },
   "outputs": [],
   "source": [
    "import urllib.request"
   ]
  },
  {
   "cell_type": "code",
   "execution_count": 15,
   "metadata": {
    "collapsed": true
   },
   "outputs": [],
   "source": [
    "local_filename, headers = urllib.request.urlretrieve('http://python.org/')\n",
    "html = open(local_filename)"
   ]
  },
  {
   "cell_type": "code",
   "execution_count": 16,
   "metadata": {
    "collapsed": true
   },
   "outputs": [],
   "source": [
    "import sys\n",
    "import os\n"
   ]
  },
  {
   "cell_type": "code",
   "execution_count": 28,
   "metadata": {
    "collapsed": false
   },
   "outputs": [],
   "source": [
    "with urllib.request.urlopen('http://python.org/') as response:\n",
    "   html_con = response.read().decode(\"utf-8\")\n",
    "with open(\"C:/Code/data/tmpFile.xml\", 'w', encoding='utf-8') as fw:\n",
    "    fw.write(html_con)"
   ]
  },
  {
   "cell_type": "code",
   "execution_count": 64,
   "metadata": {
    "collapsed": true
   },
   "outputs": [],
   "source": [
    "url = \"http://www.wikihow.com/Treat-Carpet-Burns\"\n",
    "url_cont_file = \"C:/Code/data/tmpFile.xml\"\n",
    "with urllib.request.urlopen(url) as response:\n",
    "   html_con = response.read().decode(\"utf-8\")\n",
    "with open(url_cont_file, 'w', encoding='utf-8') as fw:\n",
    "    fw.write(html_con)"
   ]
  },
  {
   "cell_type": "code",
   "execution_count": 41,
   "metadata": {
    "collapsed": true
   },
   "outputs": [],
   "source": [
    "from html.parser import HTMLParser"
   ]
  },
  {
   "cell_type": "code",
   "execution_count": 61,
   "metadata": {
    "collapsed": false
   },
   "outputs": [],
   "source": [
    "class MyHTMLParser(HTMLParser):   \n",
    "    def __init__(self):   \n",
    "        HTMLParser.__init__(self)\n",
    "        self.a_text = False\n",
    "        self.links = [] \n",
    "        \n",
    "    def handle_starttag(self, tag, attrs):   \n",
    "        #print \"Encountered the beginning of a %s tag\" % tag   \n",
    "        if tag == \"a\":\n",
    "            if len(attrs) == 0:   \n",
    "                pass   \n",
    "            else:   \n",
    "                for (variable, value) in attrs:   \n",
    "                    if variable == \"href\":\n",
    "                        if(value == \"www.google.com\"):\n",
    "                            self.a_text = True\n",
    "                        #self.links.append(value) \n",
    "    \n",
    "    def handle_endtag(self, tag):\n",
    "        if tag == \"a\":\n",
    "            self.a_text = False\n",
    "            \n",
    "    def handle_data(self, data):\n",
    "        if self.a_text:\n",
    "            self.links.append(data.strip())"
   ]
  },
  {
   "cell_type": "code",
   "execution_count": 62,
   "metadata": {
    "collapsed": false
   },
   "outputs": [],
   "source": [
    "hp = MyHTMLParser()\n",
    "hp.feed(html_code)\n",
    "hp.close()"
   ]
  },
  {
   "cell_type": "code",
   "execution_count": 63,
   "metadata": {
    "collapsed": false
   },
   "outputs": [
    {
     "data": {
      "text/plain": [
       "['google.com']"
      ]
     },
     "execution_count": 63,
     "metadata": {},
     "output_type": "execute_result"
    }
   ],
   "source": [
    "hp.links"
   ]
  },
  {
   "cell_type": "code",
   "execution_count": 52,
   "metadata": {
    "collapsed": true
   },
   "outputs": [],
   "source": [
    "page ='''''<sada>啊啊啊</sada><a href=\"http://click.union.360buy.com/JdClick /?unionId=75\" class=\"f1\"  style=\"padding-left:13px; padding-right:14px\">京东商城</a></td><td><a href=\"http://www.letao.com /?source=hao123\" class=\"f1\">乐淘网上鞋城</a></td><td><a href=\"http://www.lashou.com/cl_today/w_3001\" class=\"f2\">拉手团购</a></td><td><a href=\"http://www.amazon.cn/?tag=2009hao123famousdaohang\" class=\"f2\">亚马逊</a></td><td><a href=\"http://www.vancl.com/?source=hao123mp\"  class=\"f1\">凡客诚品</a></td><td><a href=\"http://reg.jiayuan.com/st/?id=3237&url=/st /main.php\" class=\"f1\">世纪佳缘'''  \n",
    "class hp(HTMLParser): \n",
    "    def __init__(self):\n",
    "        HTMLParser.__init__(self)\n",
    "        \n",
    "    a_text = False  \n",
    "      \n",
    "    def handle_starttag(self,tag,attr):  \n",
    "        if tag == 'a':  \n",
    "            self.a_text = True  \n",
    "            #print (dict(attr))  \n",
    "              \n",
    "    def handle_endtag(self,tag):  \n",
    "        if tag == 'a':  \n",
    "            self.a_text = False  \n",
    "              \n",
    "    def handle_data(self,data):  \n",
    "        if self.a_text:  \n",
    "            print (data)  "
   ]
  },
  {
   "cell_type": "code",
   "execution_count": 53,
   "metadata": {
    "collapsed": false
   },
   "outputs": [
    {
     "name": "stdout",
     "output_type": "stream",
     "text": [
      "京东商城\n",
      "乐淘网上鞋城\n",
      "拉手团购\n",
      "亚马逊\n",
      "凡客诚品\n",
      "世纪佳缘\n"
     ]
    }
   ],
   "source": [
    "yk = hp()\n",
    "yk.feed(page)\n",
    "yk.close()"
   ]
  },
  {
   "cell_type": "code",
   "execution_count": 65,
   "metadata": {
    "collapsed": true
   },
   "outputs": [],
   "source": [
    "import lxml\n"
   ]
  },
  {
   "cell_type": "code",
   "execution_count": 135,
   "metadata": {
    "collapsed": true
   },
   "outputs": [],
   "source": [
    "from lxml import html\n",
    "import requests\n",
    "from lxml import etree"
   ]
  },
  {
   "cell_type": "code",
   "execution_count": 136,
   "metadata": {
    "collapsed": true
   },
   "outputs": [],
   "source": [
    "page = requests.get(\"http://www.wikihow.com/Treat-Carpet-Burns\")\n",
    "tree = html.fromstring(page.content)"
   ]
  },
  {
   "cell_type": "code",
   "execution_count": 71,
   "metadata": {
    "collapsed": false
   },
   "outputs": [
    {
     "data": {
      "text/plain": [
       "lxml.html.HtmlElement"
      ]
     },
     "execution_count": 71,
     "metadata": {},
     "output_type": "execute_result"
    }
   ],
   "source": [
    "type(tree)"
   ]
  },
  {
   "cell_type": "code",
   "execution_count": 140,
   "metadata": {
    "collapsed": false
   },
   "outputs": [],
   "source": [
    "path = '//*[@id=\"intro\"]/h1/a'\n",
    "\n",
    "Ontology = tree.xpath(path)"
   ]
  },
  {
   "cell_type": "code",
   "execution_count": 87,
   "metadata": {
    "collapsed": true
   },
   "outputs": [
    {
     "name": "stdout",
     "output_type": "stream",
     "text": [
      "How to Treat Carpet Burns\n"
     ]
    }
   ],
   "source": [
    "for ele in Ontology:\n",
    "    print (ele)"
   ]
  },
  {
   "cell_type": "code",
   "execution_count": 142,
   "metadata": {
    "collapsed": true
   },
   "outputs": [],
   "source": [
    "parent_map = dict((c, p) for p in tree.getiterator() for c in p)"
   ]
  },
  {
   "cell_type": "code",
   "execution_count": 213,
   "metadata": {
    "collapsed": false
   },
   "outputs": [],
   "source": [
    "sp = '//h1[@class=\"firstHeading\"]/a'\n",
    "TitleCont = tree.xpath(sp)"
   ]
  },
  {
   "cell_type": "code",
   "execution_count": 322,
   "metadata": {
    "collapsed": false
   },
   "outputs": [],
   "source": [
    "def RemoveNullEle(des_list):\n",
    "    res = []\n",
    "    for ele in des_list:\n",
    "        if ele.strip(' ').strip('\\n'):\n",
    "            res.append(ele)\n",
    "    return ''.join(res)"
   ]
  },
  {
   "cell_type": "code",
   "execution_count": 325,
   "metadata": {
    "collapsed": false
   },
   "outputs": [
    {
     "name": "stdout",
     "output_type": "stream",
     "text": [
      "Treating the Wound Immediately\n",
      "*Wash your hands before treating the carpet burn.\n",
      "** The burn has damaged the skin, which is the body's first line of defense. Carpet burns and abrasions can become infected if bacteria gets inside them. If the wound does get infected, then\n",
      "\n",
      "\n",
      "*Clean the burned area.\n",
      "** Wash it gently with a clean washcloth using warm water and antibacterial soap. Be sure to remove any visible dirt or debris. This helps to prevent any infection.\n",
      "*Disinfect the wound.\n",
      "** You need to disinfect the wound to guard against infection. Use iodine, hydrogen peroxide, or an antiseptic if there are signs of dirt in the abrasion, or if any bleeding areas are deep. Soak a cotton ball in iodine, peroxide, or antiseptic and carefully dab it on the burn. All of these products may cause some pain when you apply them.\n",
      "\n",
      "\n",
      "***Alcohol can inflict pain and cause harm, so avoid using it.\n",
      "*Apply an antibacterial cream to the injured area.\n",
      "** Smear some Neosporin or other ointment on the carpet burn.\n",
      "\n",
      "\n",
      "***Check the burn for any deeper damage, like cuts or lacerations. These might need medical attention if they are serious.\n",
      "*Cover the burn with gauze or an adhesive bandage.\n",
      "** Cover the area loosely with a bandage. Remove the bandage and check the burn in 24 hours. If the surface of the skin has started to scab or form a crust, the burn will heal best if left uncovered and exposed to the air. Put a fresh bandage back on for another 24 hours if the skin is still red and raw and crusting has not started yet.\n",
      "\n",
      "\n",
      "Healing the Burn\n",
      "*Run cold water over it.\n",
      "** If the burn is hot and painful, try running some cool water over the injured area. Try running cool water over the carpet burn for five to 10 minutes every hour or two.\n",
      "***Do not apply ice or butter to a burn.\n",
      "*Don't wear clothing over the burn.\n",
      "** Fabrics can irritate the burn. If you have to wear clothes over the burn, cover it with gauze or a bandage first.\n",
      "*Keep the area dry.\n",
      "** Try to keep the burn free from moisture. Moisture encourages bacteria to breed. Dry the skin with a cotton ball if it becomes wet.\n",
      "***If the rug burn is oozing, don't wipe it away and further irritate the burn. Instead, remove the gauze or bandage and allow the wound to air dry.If the burn is oozing pus or blood, see a doctor immediately.\n",
      "*Cover the carpet burn in aloe.\n",
      "** Apply some aloe onto the burn to help speed up the healing process. Aloe comes in many forms: spray, gel, liquid, lotion, and cream. You can also get aloe directly from the plant, which is the strongest form. Just cut off a small portion and squeeze the inside gel onto the burn.\n",
      "\n",
      "\n",
      "*Try honey.\n",
      "** Spread some honey over the carpet burn. This can provide relief from itching and help speed up healing.\n",
      "*Make a paste from marigold flowers and parsley leaves.\n",
      "** Crush some marigold flowers and parsley leaves and mix them together to make a paste. Spread the paste over the wound to help heal the burn.\n",
      "*Make a turmeric paste.\n",
      "** Turmeric has been proven to stimulate skin regeneration and clean wounds. Mixing 1/4 of a teaspoon (1 ml) of turmeric powder with one teaspoon (5 ml) of cocoa butter. Apply the paste to the area three times a day.\n",
      "\n",
      "\n",
      "*Use essential oils.\n",
      "** Different essential oils can help the healing process. Lavender is known to help healing with its regenerative and antiseptic properties. It can also help relieve the pain. Thyme also has regenerative and antiseptic properties.\n",
      "\n",
      "\n",
      "***Apply two to three drops of essential oil to gauze and press it to the burn. Change the gauze two to three times a day.You can also clean the wound with five or six drops of essential oil diluted in a cup of water.\n",
      "*Avoid lotions, oils, and powders.\n",
      "** Some products can cause further harm to the carpet burn. You should avoid lotions, powders, oils, sunscreen, and alcohol on the carpet burn.\n",
      "*Increase your vitamins.\n",
      "** Increasing your vitamins can help boost your healing. Up your intake of vitamin C to boost your immune system and protect you from bacteria. Eat more citrus fruit, strawberries, broccoli, and tomatoes. Take a daily vitamin C supplement if your diet is lacking.\n",
      "\n",
      "\n",
      "***Eat more foods high in vitamin E. These foods include milk, eggs, whole grains, spinach, and asparagus. Vitamin E is high in antioxidants, which helps the body heal.\n",
      "*Watch the burn for signs of infection.\n",
      "** If you develop any signs of infection, or the wound doesn't heal, see your doctor. Signs include increased redness and tenderness, pus seeping from the wound, a red rash developing that spreads up from the wound, tenderness in the armpits or groin, or fever.\n",
      "\n",
      "\n"
     ]
    }
   ],
   "source": [
    "entity = {\"Title\":\"\", \"Step\":[]}\n",
    "entity[\"Title\"] = TitleCont[0].text\n",
    "\n",
    "sep = '*'\n",
    "sp = '//*[@class=\"section steps   sticky \"]'\n",
    "StepCont = tree.xpath(sp)\n",
    "for ele in StepCont:#step1, step2\n",
    "    #Title of Step1, Step2\n",
    "    titles = ele.findall('.//*[@class=\"mw-headline\"]')\n",
    "    print (titles[0].text)\n",
    "    \n",
    "    #Sub steps of Step1\n",
    "    subPath = './/li/div[@class=\"step\"]'   \n",
    "    subSteps = ele.findall(subPath)\n",
    "    for subEle in subSteps: #step1.1, step1.2\n",
    "        #Title of step1.1\n",
    "        subTitle = subEle.find('./b')\n",
    "        sub_title = subTitle.text\n",
    "        print(sep + sub_title)\n",
    "        \n",
    "        #Des of step1.1\n",
    "        subEle_agin = subTitle.xpath('../text()')\n",
    "        res = RemoveNullEle(subEle_agin)\n",
    "        if res.strip():\n",
    "            print (sep*2 + RemoveNullEle(subEle_agin)) \n",
    "        \n",
    "        #sub step of step1.1\n",
    "        sub_sub_path = '//*[@id=\"steps_1\"]/ol/li[4]/div[3]/ul/li/text()'\n",
    "        sub_sub_txt = subTitle.xpath('../ul/li/text()')\n",
    "        res = RemoveNullEle(sub_sub_txt)\n",
    "        if res.strip():\n",
    "            print (sep*3 + RemoveNullEle(sub_sub_txt))\n",
    "        \"\"\"\n",
    "        step_des = []\n",
    "        for des_ele in subEle.itertext():\n",
    "            step_des.append(des_ele)\n",
    "        desInfo = RemoveNullEle(step_des)    \n",
    "        print(sep + '\\t' + desInfo)\n",
    "        \"\"\"\n",
    "        \n",
    "    \n"
   ]
  },
  {
   "cell_type": "code",
   "execution_count": 297,
   "metadata": {
    "collapsed": false
   },
   "outputs": [
    {
     "name": "stdout",
     "output_type": "stream",
     "text": [
      "['\\n', 'Clean the burned area.', ' Wash it gently with a clean washcloth using warm water and antibacterial soap. Be sure to remove any visible dirt or debris. This helps to prevent any infection.', '[1]', '\\n']\n"
     ]
    }
   ],
   "source": [
    "t_sp = '//*[@id=\"steps_1\"]/ol/li[2]/div[3]'\n",
    "t_node = tree.xpath(t_sp)\n",
    "#for ele in t_node:\n",
    "#    print (ele.text)\n",
    "#print(type(t_node)),\n",
    "for ele in t_node:\n",
    "    l = []\n",
    "    for tx in ele.itertext():\n",
    "        l.append(tx)\n",
    "    print (l)\n",
    "\n"
   ]
  },
  {
   "cell_type": "code",
   "execution_count": 294,
   "metadata": {
    "collapsed": false
   },
   "outputs": [
    {
     "name": "stdout",
     "output_type": "stream",
     "text": [
      "['\\n', ' Wash it gently with a clean washcloth using warm water and antibacterial soap. Be sure to remove any visible dirt or debris. This helps to prevent any infection.', '\\n']\n"
     ]
    }
   ],
   "source": [
    "t_sp = '//*[@id=\"steps_1\"]/ol/li[2]/div[3]/text()'\n",
    "t_node = tree.xpath(t_sp)\n",
    "print(t_node)"
   ]
  },
  {
   "cell_type": "code",
   "execution_count": null,
   "metadata": {
    "collapsed": true
   },
   "outputs": [],
   "source": []
  },
  {
   "cell_type": "code",
   "execution_count": null,
   "metadata": {
    "collapsed": true
   },
   "outputs": [],
   "source": []
  },
  {
   "cell_type": "code",
   "execution_count": 198,
   "metadata": {
    "collapsed": false
   },
   "outputs": [
    {
     "name": "stdout",
     "output_type": "stream",
     "text": [
      "{'Step': [], 'Title': 'Healing the Burn'}\n"
     ]
    }
   ],
   "source": [
    "print(entity)"
   ]
  },
  {
   "cell_type": "code",
   "execution_count": null,
   "metadata": {
    "collapsed": true
   },
   "outputs": [],
   "source": []
  },
  {
   "cell_type": "code",
   "execution_count": null,
   "metadata": {
    "collapsed": true
   },
   "outputs": [],
   "source": []
  },
  {
   "cell_type": "code",
   "execution_count": null,
   "metadata": {
    "collapsed": true
   },
   "outputs": [],
   "source": []
  },
  {
   "cell_type": "code",
   "execution_count": 188,
   "metadata": {
    "collapsed": false
   },
   "outputs": [
    {
     "name": "stdout",
     "output_type": "stream",
     "text": [
      "[<Element div at 0x23bac793c28>, <Element div at 0x23bac793cc8>]\n"
     ]
    }
   ],
   "source": [
    "print(StepCont)"
   ]
  },
  {
   "cell_type": "code",
   "execution_count": 192,
   "metadata": {
    "collapsed": false
   },
   "outputs": [
    {
     "data": {
      "text/plain": [
       "('div', {'class': 'section steps   sticky '}, '\\n')"
      ]
     },
     "execution_count": 192,
     "metadata": {},
     "output_type": "execute_result"
    }
   ],
   "source": [
    "StepCont[0].tag, StepCont[0].attrib, StepCont[0].text"
   ]
  },
  {
   "cell_type": "code",
   "execution_count": 194,
   "metadata": {
    "collapsed": true
   },
   "outputs": [],
   "source": [
    "step1 = StepCont[0]\n",
    "#//*[@id=\"Treating_the_Wound_Immediately\"]\n",
    "title = step1.findall('.//*[@class=\"mw-headline\"]')"
   ]
  },
  {
   "cell_type": "code",
   "execution_count": 17,
   "metadata": {
    "collapsed": true
   },
   "outputs": [],
   "source": [
    "line = \"\"\"https://support.office.com/en-US/Article/Add-and-use-contacts-4e41cf54-0c5a-4150-8683-94bd4f8a6d4f\t[Add and use contacts]\t[\\r\\n\\r\\n\\r\\n\\r\\n\\r\\n2:38\\r\\nAdd and use contacts\\r\\n\\r\\n\\r\\n\\r\\n\\r\\n2:51\\r\\nMore ways to view and edit contacts\\r\\n\\r\\n\\r\\n\\r\\n\\r\\n2:48\\r\\nMore ways to use your contacts\\r\\n\\r\\n\\r\\n\\r\\n\\r\\nWith contacts, Outlook can help you keep track of important information about the people you know. Contacts are like a personal address book. This course will show you how to add them, edit them, access them, and use them.\\r\\n\\r\\n]\t[Inside this course:\\r\\nAdd and use contacts (2:38) \\r\\nOrganize and keep track of people you know with Outlook contacts, which work like a personal address book.\\r\\n\\r\\nMore ways to view and edit contacts (2:51) \\r\\nAfter you add contacts, there are a number of ways you can access, edit, and view them. Watch this video to learn more.\\r\\n\\r\\nMore ways to use your contacts (2:48) \\r\\nSay we want to send an email to a contact, or add addresses to a finished email. Even learn about how to use the address book. Watch this video to learn more.\\r\\n\\r\\nCourse summary\\r\\nA brief reminder of the key points in this course.\\r\\n\\r\\nMore courses available at Microsoft Office Training.\\r\\n\\r\\n]\n",
    "h\"\"\""
   ]
  },
  {
   "cell_type": "code",
   "execution_count": 18,
   "metadata": {
    "collapsed": false
   },
   "outputs": [
    {
     "name": "stdout",
     "output_type": "stream",
     "text": [
      "0\thttps://support.office.com/en-US/Article/Add-and-use-contacts-4e41cf54-0c5a-4150-8683-94bd4f8a6d4f\n",
      "1\t[Add and use contacts]\n",
      "2\t[\r\n",
      "\r\n",
      "\r\n",
      "\r\n",
      "\r\n",
      "2:38\r\n",
      "Add and use contacts\r\n",
      "\r\n",
      "\r\n",
      "\r\n",
      "\r\n",
      "2:51\r\n",
      "More ways to view and edit contacts\r\n",
      "\r\n",
      "\r\n",
      "\r\n",
      "\r\n",
      "2:48\r\n",
      "More ways to use your contacts\r\n",
      "\r\n",
      "\r\n",
      "\r\n",
      "\r\n",
      "With contacts, Outlook can help you keep track of important information about the people you know. Contacts are like a personal address book. This course will show you how to add them, edit them, access them, and use them.\r\n",
      "\r\n",
      "]\n",
      "3\t[Inside this course:\r\n",
      "Add and use contacts (2:38) \r\n",
      "Organize and keep track of people you know with Outlook contacts, which work like a personal address book.\r\n",
      "\r\n",
      "More ways to view and edit contacts (2:51) \r\n",
      "After you add contacts, there are a number of ways you can access, edit, and view them. Watch this video to learn more.\r\n",
      "\r\n",
      "More ways to use your contacts (2:48) \r\n",
      "Say we want to send an email to a contact, or add addresses to a finished email. Even learn about how to use the address book. Watch this video to learn more.\r\n",
      "\r\n",
      "Course summary\r\n",
      "A brief reminder of the key points in this course.\r\n",
      "\r\n",
      "More courses available at Microsoft Office Training.\r\n",
      "\r\n",
      "]\n",
      "h\n"
     ]
    }
   ],
   "source": [
    "for num, ele in enumerate(line.strip().split('\\t')):\n",
    "    print(\"{0}\\t{1}\".format(num, ele))"
   ]
  },
  {
   "cell_type": "code",
   "execution_count": 10,
   "metadata": {
    "collapsed": true
   },
   "outputs": [],
   "source": [
    "value = line.strip().split('\\t')[2]"
   ]
  },
  {
   "cell_type": "code",
   "execution_count": 11,
   "metadata": {
    "collapsed": false
   },
   "outputs": [
    {
     "data": {
      "text/plain": [
       "'[\\r\\n1.\\r\\na suffix found in nouns denoting action or process or a person or persons acting, appearing in loanwords from French and sometimes from Spanish (cannonade; fusillade; renegade), but also attached to native stems: blockade; escapade; masquerade . \\r\\n\\r\\n],[\\r\\n2.\\r\\na noun suffix indicating a drink made of a particular fruit, normally a citrus: lemonade . \\r\\n\\r\\n]'"
      ]
     },
     "execution_count": 11,
     "metadata": {},
     "output_type": "execute_result"
    }
   ],
   "source": [
    "value"
   ]
  },
  {
   "cell_type": "code",
   "execution_count": 19,
   "metadata": {
    "collapsed": false
   },
   "outputs": [
    {
     "data": {
      "text/plain": [
       "0.144"
      ]
     },
     "execution_count": 19,
     "metadata": {},
     "output_type": "execute_result"
    }
   ],
   "source": [
    "288.0 / 2000\n"
   ]
  },
  {
   "cell_type": "code",
   "execution_count": 20,
   "metadata": {
    "collapsed": false
   },
   "outputs": [
    {
     "data": {
      "text/plain": [
       "0.5075"
      ]
     },
     "execution_count": 20,
     "metadata": {},
     "output_type": "execute_result"
    }
   ],
   "source": [
    "1015/2000\n"
   ]
  },
  {
   "cell_type": "code",
   "execution_count": 21,
   "metadata": {
    "collapsed": false
   },
   "outputs": [
    {
     "data": {
      "text/plain": [
       "6.593665839190884e-05"
      ]
     },
     "execution_count": 21,
     "metadata": {},
     "output_type": "execute_result"
    }
   ],
   "source": [
    "213069/3231419444"
   ]
  },
  {
   "cell_type": "code",
   "execution_count": 22,
   "metadata": {
    "collapsed": false
   },
   "outputs": [
    {
     "data": {
      "text/plain": [
       "0.0021679636832685964"
      ]
     },
     "execution_count": 22,
     "metadata": {},
     "output_type": "execute_result"
    }
   ],
   "source": [
    "v1 = 70056.0\n",
    "v2 = 3231419444\n",
    "v1 * 100.0 / v2"
   ]
  },
  {
   "cell_type": "code",
   "execution_count": 24,
   "metadata": {
    "collapsed": false
   },
   "outputs": [
    {
     "data": {
      "text/plain": [
       "0.006593665839190884"
      ]
     },
     "execution_count": 24,
     "metadata": {},
     "output_type": "execute_result"
    }
   ],
   "source": [
    "213069/3231419444.0 * 100\n"
   ]
  },
  {
   "cell_type": "code",
   "execution_count": 27,
   "metadata": {
    "collapsed": false
   },
   "outputs": [
    {
     "data": {
      "text/plain": [
       "6.610098246348239e-05"
      ]
     },
     "execution_count": 27,
     "metadata": {},
     "output_type": "execute_result"
    }
   ],
   "source": [
    "2136/3231419444.0 * 100"
   ]
  },
  {
   "cell_type": "code",
   "execution_count": 28,
   "metadata": {
    "collapsed": false
   },
   "outputs": [
    {
     "data": {
      "text/plain": [
       "0.1"
      ]
     },
     "execution_count": 28,
     "metadata": {},
     "output_type": "execute_result"
    }
   ],
   "source": [
    "1.0e-01"
   ]
  },
  {
   "cell_type": "code",
   "execution_count": 29,
   "metadata": {
    "collapsed": false
   },
   "outputs": [
    {
     "data": {
      "text/plain": [
       "0.45851349772116395"
      ]
     },
     "execution_count": 29,
     "metadata": {},
     "output_type": "execute_result"
    }
   ],
   "source": [
    "7847.0/17114\n"
   ]
  },
  {
   "cell_type": "code",
   "execution_count": 30,
   "metadata": {
    "collapsed": false
   },
   "outputs": [
    {
     "data": {
      "text/plain": [
       "0.3871359223300971"
      ]
     },
     "execution_count": 30,
     "metadata": {},
     "output_type": "execute_result"
    }
   ],
   "source": [
    "1914.0/4944"
   ]
  },
  {
   "cell_type": "code",
   "execution_count": 35,
   "metadata": {
    "collapsed": false
   },
   "outputs": [],
   "source": [
    "res = \"\"\n",
    "for i in range(7, 366):\n",
    "    res += \"{\" + str(i) +\"}\\t\" \n"
   ]
  },
  {
   "cell_type": "code",
   "execution_count": 36,
   "metadata": {
    "collapsed": false
   },
   "outputs": [
    {
     "data": {
      "text/plain": [
       "'{7}\\t{8}\\t{9}\\t{10}\\t{11}\\t{12}\\t{13}\\t{14}\\t{15}\\t{16}\\t{17}\\t{18}\\t{19}\\t{20}\\t{21}\\t{22}\\t{23}\\t{24}\\t{25}\\t{26}\\t{27}\\t{28}\\t{29}\\t{30}\\t{31}\\t{32}\\t{33}\\t{34}\\t{35}\\t{36}\\t{37}\\t{38}\\t{39}\\t{40}\\t{41}\\t{42}\\t{43}\\t{44}\\t{45}\\t{46}\\t{47}\\t{48}\\t{49}\\t{50}\\t{51}\\t{52}\\t{53}\\t{54}\\t{55}\\t{56}\\t{57}\\t{58}\\t{59}\\t{60}\\t{61}\\t{62}\\t{63}\\t{64}\\t{65}\\t{66}\\t{67}\\t{68}\\t{69}\\t{70}\\t{71}\\t{72}\\t{73}\\t{74}\\t{75}\\t{76}\\t{77}\\t{78}\\t{79}\\t{80}\\t{81}\\t{82}\\t{83}\\t{84}\\t{85}\\t{86}\\t{87}\\t{88}\\t{89}\\t{90}\\t{91}\\t{92}\\t{93}\\t{94}\\t{95}\\t{96}\\t{97}\\t{98}\\t{99}\\t{100}\\t{101}\\t{102}\\t{103}\\t{104}\\t{105}\\t{106}\\t{107}\\t{108}\\t{109}\\t{110}\\t{111}\\t{112}\\t{113}\\t{114}\\t{115}\\t{116}\\t{117}\\t{118}\\t{119}\\t{120}\\t{121}\\t{122}\\t{123}\\t{124}\\t{125}\\t{126}\\t{127}\\t{128}\\t{129}\\t{130}\\t{131}\\t{132}\\t{133}\\t{134}\\t{135}\\t{136}\\t{137}\\t{138}\\t{139}\\t{140}\\t{141}\\t{142}\\t{143}\\t{144}\\t{145}\\t{146}\\t{147}\\t{148}\\t{149}\\t{150}\\t{151}\\t{152}\\t{153}\\t{154}\\t{155}\\t{156}\\t{157}\\t{158}\\t{159}\\t{160}\\t{161}\\t{162}\\t{163}\\t{164}\\t{165}\\t{166}\\t{167}\\t{168}\\t{169}\\t{170}\\t{171}\\t{172}\\t{173}\\t{174}\\t{175}\\t{176}\\t{177}\\t{178}\\t{179}\\t{180}\\t{181}\\t{182}\\t{183}\\t{184}\\t{185}\\t{186}\\t{187}\\t{188}\\t{189}\\t{190}\\t{191}\\t{192}\\t{193}\\t{194}\\t{195}\\t{196}\\t{197}\\t{198}\\t{199}\\t{200}\\t{201}\\t{202}\\t{203}\\t{204}\\t{205}\\t{206}\\t{207}\\t{208}\\t{209}\\t{210}\\t{211}\\t{212}\\t{213}\\t{214}\\t{215}\\t{216}\\t{217}\\t{218}\\t{219}\\t{220}\\t{221}\\t{222}\\t{223}\\t{224}\\t{225}\\t{226}\\t{227}\\t{228}\\t{229}\\t{230}\\t{231}\\t{232}\\t{233}\\t{234}\\t{235}\\t{236}\\t{237}\\t{238}\\t{239}\\t{240}\\t{241}\\t{242}\\t{243}\\t{244}\\t{245}\\t{246}\\t{247}\\t{248}\\t{249}\\t{250}\\t{251}\\t{252}\\t{253}\\t{254}\\t{255}\\t{256}\\t{257}\\t{258}\\t{259}\\t{260}\\t{261}\\t{262}\\t{263}\\t{264}\\t{265}\\t{266}\\t{267}\\t{268}\\t{269}\\t{270}\\t{271}\\t{272}\\t{273}\\t{274}\\t{275}\\t{276}\\t{277}\\t{278}\\t{279}\\t{280}\\t{281}\\t{282}\\t{283}\\t{284}\\t{285}\\t{286}\\t{287}\\t{288}\\t{289}\\t{290}\\t{291}\\t{292}\\t{293}\\t{294}\\t{295}\\t{296}\\t{297}\\t{298}\\t{299}\\t{300}\\t{301}\\t{302}\\t{303}\\t{304}\\t{305}\\t{306}\\t{307}\\t{308}\\t{309}\\t{310}\\t{311}\\t{312}\\t{313}\\t{314}\\t{315}\\t{316}\\t{317}\\t{318}\\t{319}\\t{320}\\t{321}\\t{322}\\t{323}\\t{324}\\t{325}\\t{326}\\t{327}\\t{328}\\t{329}\\t{330}\\t{331}\\t{332}\\t{333}\\t{334}\\t{335}\\t{336}\\t{337}\\t{338}\\t{339}\\t{340}\\t{341}\\t{342}\\t{343}\\t{344}\\t{345}\\t{346}\\t{347}\\t{348}\\t{349}\\t{350}\\t{351}\\t{352}\\t{353}\\t{354}\\t{355}\\t{356}\\t{357}\\t{358}\\t{359}\\t{360}\\t{361}\\t{362}\\t{363}\\t{364}\\t{365}\\t'"
      ]
     },
     "execution_count": 36,
     "metadata": {},
     "output_type": "execute_result"
    }
   ],
   "source": [
    "res"
   ]
  },
  {
   "cell_type": "code",
   "execution_count": 37,
   "metadata": {
    "collapsed": false
   },
   "outputs": [
    {
     "data": {
      "text/plain": [
       "0.144"
      ]
     },
     "execution_count": 37,
     "metadata": {},
     "output_type": "execute_result"
    }
   ],
   "source": [
    "288.0/2000\n"
   ]
  },
  {
   "cell_type": "code",
   "execution_count": 38,
   "metadata": {
    "collapsed": true
   },
   "outputs": [],
   "source": [
    "line = \"\"\"m:QueryId\tm:DocId\tm:Rating\tm:OriginalRating\tm:Query\tm:Title\tm:Url\tm:Passage\tQL_EQnA_ConfScore\tQL_CoarseType_Human\tQL_CoarseType_Entity\tQL_CoarseType_Location\tQL_CoarseType_Description\tQL_CoarseType_Numeric\tL3LambdaRanker\tL3RegressionRanker\"\"\""
   ]
  },
  {
   "cell_type": "code",
   "execution_count": 40,
   "metadata": {
    "collapsed": false
   },
   "outputs": [],
   "source": [
    "import re\n",
    "\n"
   ]
  },
  {
   "cell_type": "code",
   "execution_count": 42,
   "metadata": {
    "collapsed": false
   },
   "outputs": [],
   "source": [
    "line_filter = line.replace(\"\\t\", \",\").replace(\"m:\", \"\")"
   ]
  },
  {
   "cell_type": "code",
   "execution_count": 43,
   "metadata": {
    "collapsed": false
   },
   "outputs": [
    {
     "data": {
      "text/plain": [
       "'QueryId,DocId,Rating,OriginalRating,Query,Title,Url,Passage,QL_EQnA_ConfScore,QL_CoarseType_Human,QL_CoarseType_Entity,QL_CoarseType_Location,QL_CoarseType_Description,QL_CoarseType_Numeric,L3LambdaRanker,L3RegressionRanker'"
      ]
     },
     "execution_count": 43,
     "metadata": {},
     "output_type": "execute_result"
    }
   ],
   "source": [
    "line_filter"
   ]
  },
  {
   "cell_type": "code",
   "execution_count": null,
   "metadata": {
    "collapsed": true
   },
   "outputs": [],
   "source": []
  }
 ],
 "metadata": {
  "anaconda-cloud": {},
  "kernelspec": {
   "display_name": "Python [Root]",
   "language": "python",
   "name": "Python [Root]"
  },
  "language_info": {
   "codemirror_mode": {
    "name": "ipython",
    "version": 3
   },
   "file_extension": ".py",
   "mimetype": "text/x-python",
   "name": "python",
   "nbconvert_exporter": "python",
   "pygments_lexer": "ipython3",
   "version": "3.5.2"
  }
 },
 "nbformat": 4,
 "nbformat_minor": 0
}
