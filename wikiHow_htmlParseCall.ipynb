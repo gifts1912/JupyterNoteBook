{
 "cells": [
  {
   "cell_type": "code",
   "execution_count": 11,
   "metadata": {
    "collapsed": false
   },
   "outputs": [
    {
     "ename": "TypeError",
     "evalue": "Can't convert 'NoneType' object to str implicitly",
     "output_type": "error",
     "traceback": [
      "\u001b[1;31m---------------------------------------------------------------------------\u001b[0m",
      "\u001b[1;31mTypeError\u001b[0m                                 Traceback (most recent call last)",
      "\u001b[1;32m<ipython-input-11-b40a6c9f9989>\u001b[0m in \u001b[0;36m<module>\u001b[1;34m()\u001b[0m\n\u001b[0;32m     83\u001b[0m \u001b[1;32mif\u001b[0m \u001b[0m__name__\u001b[0m \u001b[1;33m==\u001b[0m \u001b[1;34m\"__main__\"\u001b[0m\u001b[1;33m:\u001b[0m\u001b[1;33m\u001b[0m\u001b[0m\n\u001b[0;32m     84\u001b[0m     \u001b[0mph\u001b[0m \u001b[1;33m=\u001b[0m \u001b[0mParseHtml\u001b[0m\u001b[1;33m(\u001b[0m\u001b[1;34m\"C:/Code/data/wikihowcom.Guide.cb64.txt\"\u001b[0m\u001b[1;33m,\u001b[0m \u001b[1;34m\"C:/Code/data/wikiHowParseResult.tsv\"\u001b[0m\u001b[1;33m)\u001b[0m\u001b[1;33m\u001b[0m\u001b[0m\n\u001b[1;32m---> 85\u001b[1;33m     \u001b[0mph\u001b[0m\u001b[1;33m.\u001b[0m\u001b[0mParse\u001b[0m\u001b[1;33m(\u001b[0m\u001b[1;33m)\u001b[0m\u001b[1;33m\u001b[0m\u001b[0m\n\u001b[0m\u001b[0;32m     86\u001b[0m \u001b[1;33m\u001b[0m\u001b[0m\n",
      "\u001b[1;32m<ipython-input-11-b40a6c9f9989>\u001b[0m in \u001b[0;36mParse\u001b[1;34m(self)\u001b[0m\n\u001b[0;32m     69\u001b[0m         \u001b[0mfw\u001b[0m \u001b[1;33m=\u001b[0m \u001b[0mopen\u001b[0m\u001b[1;33m(\u001b[0m\u001b[0mself\u001b[0m\u001b[1;33m.\u001b[0m\u001b[0m_outfile\u001b[0m\u001b[1;33m,\u001b[0m \u001b[1;34m'w'\u001b[0m\u001b[1;33m,\u001b[0m \u001b[0mencoding\u001b[0m\u001b[1;33m=\u001b[0m\u001b[1;34m'utf-8'\u001b[0m\u001b[1;33m)\u001b[0m\u001b[1;33m\u001b[0m\u001b[0m\n\u001b[0;32m     70\u001b[0m         \u001b[1;32mfor\u001b[0m \u001b[0murl\u001b[0m \u001b[1;32min\u001b[0m \u001b[0mself\u001b[0m\u001b[1;33m.\u001b[0m\u001b[0m_urlSet\u001b[0m\u001b[1;33m:\u001b[0m\u001b[1;33m\u001b[0m\u001b[0m\n\u001b[1;32m---> 71\u001b[1;33m             \u001b[0mself\u001b[0m\u001b[1;33m.\u001b[0m\u001b[0mParseUrl\u001b[0m\u001b[1;33m(\u001b[0m\u001b[0murl\u001b[0m\u001b[1;33m,\u001b[0m \u001b[0mfw\u001b[0m\u001b[1;33m)\u001b[0m\u001b[1;33m\u001b[0m\u001b[0m\n\u001b[0m\u001b[0;32m     72\u001b[0m         \u001b[0mfw\u001b[0m\u001b[1;33m.\u001b[0m\u001b[0mclose\u001b[0m\u001b[1;33m(\u001b[0m\u001b[1;33m)\u001b[0m\u001b[1;33m\u001b[0m\u001b[0m\n\u001b[0;32m     73\u001b[0m \u001b[1;33m\u001b[0m\u001b[0m\n",
      "\u001b[1;32m<ipython-input-11-b40a6c9f9989>\u001b[0m in \u001b[0;36mParseUrl\u001b[1;34m(self, url, fw)\u001b[0m\n\u001b[0;32m     78\u001b[0m         \u001b[0mfw\u001b[0m\u001b[1;33m.\u001b[0m\u001b[0mwrite\u001b[0m\u001b[1;33m(\u001b[0m\u001b[0murl\u001b[0m \u001b[1;33m+\u001b[0m \u001b[1;34m'\\n'\u001b[0m\u001b[1;33m)\u001b[0m\u001b[1;33m\u001b[0m\u001b[0m\n\u001b[0;32m     79\u001b[0m         \u001b[0mfw\u001b[0m\u001b[1;33m.\u001b[0m\u001b[0mwrite\u001b[0m\u001b[1;33m(\u001b[0m\u001b[0mself\u001b[0m\u001b[1;33m.\u001b[0m\u001b[0m_head\u001b[0m \u001b[1;33m+\u001b[0m \u001b[1;34m'\\n'\u001b[0m\u001b[1;33m)\u001b[0m\u001b[1;33m\u001b[0m\u001b[0m\n\u001b[1;32m---> 80\u001b[1;33m         \u001b[0mself\u001b[0m\u001b[1;33m.\u001b[0m\u001b[0mParseStep\u001b[0m\u001b[1;33m(\u001b[0m\u001b[0mfw\u001b[0m\u001b[1;33m)\u001b[0m\u001b[1;33m\u001b[0m\u001b[0m\n\u001b[0m\u001b[0;32m     81\u001b[0m \u001b[1;33m\u001b[0m\u001b[0m\n\u001b[0;32m     82\u001b[0m \u001b[1;33m\u001b[0m\u001b[0m\n",
      "\u001b[1;32m<ipython-input-11-b40a6c9f9989>\u001b[0m in \u001b[0;36mParseStep\u001b[1;34m(self, fw)\u001b[0m\n\u001b[0;32m     51\u001b[0m                 \u001b[0msub_title\u001b[0m \u001b[1;33m=\u001b[0m \u001b[0msubTitle\u001b[0m\u001b[1;33m.\u001b[0m\u001b[0mtext\u001b[0m\u001b[1;33m\u001b[0m\u001b[0m\n\u001b[0;32m     52\u001b[0m                 \u001b[1;31m#print(self._sep * 2 + sub_title)\u001b[0m\u001b[1;33m\u001b[0m\u001b[1;33m\u001b[0m\u001b[0m\n\u001b[1;32m---> 53\u001b[1;33m                 \u001b[0mfw\u001b[0m\u001b[1;33m.\u001b[0m\u001b[0mwrite\u001b[0m\u001b[1;33m(\u001b[0m\u001b[0mself\u001b[0m\u001b[1;33m.\u001b[0m\u001b[0m_sep\u001b[0m \u001b[1;33m*\u001b[0m \u001b[1;36m2\u001b[0m \u001b[1;33m+\u001b[0m \u001b[0msub_title\u001b[0m \u001b[1;33m+\u001b[0m \u001b[1;34m'\\n'\u001b[0m\u001b[1;33m)\u001b[0m\u001b[1;33m\u001b[0m\u001b[0m\n\u001b[0m\u001b[0;32m     54\u001b[0m \u001b[1;33m\u001b[0m\u001b[0m\n\u001b[0;32m     55\u001b[0m                 \u001b[1;31m#Des of step1.1\u001b[0m\u001b[1;33m\u001b[0m\u001b[1;33m\u001b[0m\u001b[0m\n",
      "\u001b[1;31mTypeError\u001b[0m: Can't convert 'NoneType' object to str implicitly"
     ]
    }
   ],
   "source": [
    "# -*- coding: utf-8 -*-\n",
    "\"\"\"\n",
    "Created on Fri Sep 30 18:44:30 2016\n",
    "\n",
    "@author: hengyliu\n",
    "\"\"\"\n",
    "from lxml import html\n",
    "import requests\n",
    "import os\n",
    " \n",
    "class ParseHtml:\n",
    "    def __init__(self, url_file, outfile):\n",
    "        self._urlSet = set()\n",
    "        self.UrlInitial(url_file)\n",
    "        self._head_p = '//h1[@class=\"firstHeading\"]/a'\n",
    "        self._step_p = '//*[@class=\"section steps   sticky \"]'\n",
    "        self._sep = \"*\"\n",
    "        self._outfile = outfile\n",
    "    \n",
    "    def UrlInitial(self, urlfile):\n",
    "        with open(urlfile, 'r', encoding='utf-8') as fr:\n",
    "            for line in fr:\n",
    "                arr = line.split('\\t')\n",
    "                url = arr[0].strip()\n",
    "                self._urlSet.add(url)\n",
    "                \n",
    "    def ParseHead(self):\n",
    "        head = self._tree.xpath(self._head_p)\n",
    "        return head[0].text\n",
    "        \n",
    "    def RemoveNullEle(self, des_list):\n",
    "        res = []\n",
    "        for ele in des_list:\n",
    "            if ele.strip(' ').strip('\\n'):\n",
    "                res.append(ele)\n",
    "        return ''.join(res)\n",
    "\n",
    "    def ParseStep(self, fw):\n",
    "        StepCont = self._tree.xpath(self._step_p)\n",
    "        for ele in StepCont:#step1, step2\n",
    "            #Title of Step1, Step2\n",
    "            titles = ele.findall('.//*[@class=\"mw-headline\"]')\n",
    "            fw.write(self._sep + titles[0].text + '\\n')\n",
    "            \n",
    "            #Sub steps of Step1\n",
    "            subPath = './/li/div[@class=\"step\"]'   \n",
    "            subSteps = ele.findall(subPath)\n",
    "            for subEle in subSteps: #step1.1, step1.2\n",
    "                #Title of step1.1\n",
    "                subTitle = subEle.find('./b')\n",
    "                sub_title = subTitle.text\n",
    "                #print(self._sep * 2 + sub_title)\n",
    "                fw.write(self._sep * 2 + sub_title + '\\n')\n",
    "                \n",
    "                #Des of step1.1\n",
    "                subEle_agin = subTitle.xpath('../text()')\n",
    "                res = self.RemoveNullEle(subEle_agin)\n",
    "                if res.strip():\n",
    "                    #print (self._sep * 3 + self.RemoveNullEle(subEle_agin)) \n",
    "                    fw.write(self._sep * 3 + self.RemoveNullEle(subEle_agin) + '\\n')\n",
    "                #sub step of step1.1\n",
    "                sub_sub_txt = subTitle.xpath('../ul/li/text()')\n",
    "                res = self.RemoveNullEle(sub_sub_txt)\n",
    "                if res.strip():\n",
    "                    #print (self._sep * 4 + self.RemoveNullEle(sub_sub_txt))\n",
    "                    fw.write(self._sep * 4 + self.RemoveNullEle(sub_sub_txt) + '\\n')\n",
    "      \n",
    "    def Parse(self):\n",
    "        fw = open(self._outfile, 'w', encoding='utf-8')\n",
    "        for url in self._urlSet:\n",
    "            self.ParseUrl(url, fw)\n",
    "        fw.close()\n",
    "        \n",
    "    def ParseUrl(self, url, fw):\n",
    "        page = requests.get(url)\n",
    "        self._tree = html.fromstring(page.content)      \n",
    "        self._head = self.ParseHead()      \n",
    "        fw.write(url + '\\n')\n",
    "        fw.write(self._head + '\\n')\n",
    "        self.ParseStep(fw)\n",
    "        \n",
    "        \n",
    "if __name__ == \"__main__\":\n",
    "    ph = ParseHtml(\"C:/Code/data/wikihowcom.Guide.cb64.txt\", \"C:/Code/data/wikiHowParseResult.tsv\")\n",
    "    ph.Parse()\n",
    "    \n"
   ]
  },
  {
   "cell_type": "code",
   "execution_count": null,
   "metadata": {
    "collapsed": true
   },
   "outputs": [],
   "source": [
    "|"
   ]
  }
 ],
 "metadata": {
  "anaconda-cloud": {},
  "kernelspec": {
   "display_name": "Python [Root]",
   "language": "python",
   "name": "Python [Root]"
  },
  "language_info": {
   "codemirror_mode": {
    "name": "ipython",
    "version": 3
   },
   "file_extension": ".py",
   "mimetype": "text/x-python",
   "name": "python",
   "nbconvert_exporter": "python",
   "pygments_lexer": "ipython3",
   "version": "3.5.2"
  }
 },
 "nbformat": 4,
 "nbformat_minor": 0
}
